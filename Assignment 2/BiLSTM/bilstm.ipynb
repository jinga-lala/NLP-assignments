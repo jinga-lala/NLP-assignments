{
  "nbformat": 4,
  "nbformat_minor": 0,
  "metadata": {
    "orig_nbformat": 2,
    "kernelspec": {
      "name": "python3",
      "display_name": "Python 3"
    },
    "colab": {
      "name": "bilstm_95.3%.ipynb",
      "provenance": []
    },
    "accelerator": "GPU"
  },
  "cells": [
    {
      "cell_type": "code",
      "metadata": {
        "id": "JJAOmpinhLbD"
      },
      "source": [
        "import numpy as np\n",
        "from numpy import unravel_index\n",
        "import nltk\n",
        "from nltk.stem import PorterStemmer\n",
        "from nltk.classify import MaxentClassifier\n",
        "from tqdm import tqdm\n",
        "import pickle\n",
        "import seaborn as sn\n",
        "import pandas as pd\n",
        "import matplotlib.pyplot as plt\n",
        "import os\n",
        "import torch\n",
        "import torch.nn as nn"
      ],
      "execution_count": 1,
      "outputs": []
    },
    {
      "cell_type": "code",
      "metadata": {
        "id": "vsSOf4lphLbL"
      },
      "source": [
        "def import_Train_Data():\n",
        "\tftrain = open(\"./CRF/assignment2dataset/train.txt\")\n",
        "\tlines = ftrain.readlines()\n",
        "\n",
        "\tSentences = []\n",
        "\tSentence_Construct = []\n",
        "\tfor line in lines:\n",
        "\t\tif line =='\\n':\n",
        "\t\t\tSentences.append(Sentence_Construct)\n",
        "\t\t\tSentence_Construct = []\n",
        "\n",
        "\t\telse:\n",
        "\t\t\tSentence_Construct.append(line)\n",
        "\n",
        "\tftrain.close()\n",
        "\treturn Sentences\n",
        "\n",
        "\n",
        "def import_Test_Data():\n",
        "\tftest = open(\"./CRF/assignment2dataset/test.txt\")\n",
        "\tlines = ftest.readlines()\n",
        "\n",
        "\tSentences = []\n",
        "\tSentence_Construct = []\n",
        "\tfor line in lines:\n",
        "\t\tif line =='\\n':\n",
        "\t\t\tSentences.append(Sentence_Construct)\n",
        "\t\t\tSentence_Construct = []\n",
        "\n",
        "\t\telse:\n",
        "\t\t\tSentence_Construct.append(line)\n",
        "\n",
        "\tftest.close()\n",
        "\treturn Sentences\n",
        "\n",
        "\n",
        "def Remove_Extra_Tag(Sentences):\n",
        "\n",
        "\tFinal_Sentences = []\n",
        "\n",
        "\tfor line in Sentences:\n",
        "\n",
        "\t\t##Adding start tag\n",
        "\t\tFinal_Line = []\n",
        "\n",
        "\t\tfor word in line:\n",
        "\t\t\tSplit_Term = word.split(\" \")\n",
        "\n",
        "\t\t\tif \"-\" in Split_Term[2]:\n",
        "\t\t\t\tFinal_Word = Split_Term[0]+\" \"+Split_Term[1]+\" \"+Split_Term[2].split(\"-\")[0]\n",
        "\t\t\t\tFinal_Line.append(Final_Word)\n",
        "\n",
        "\t\t\telse:\n",
        "\t\t\t\tFinal_Line.append(word[:-1])\n",
        "\n",
        "\t\tFinal_Sentences.append(Final_Line)\n",
        "\n",
        "\treturn Final_Sentences\n",
        "\n",
        "def Get_Tagset(Sentences):\n",
        "\n",
        "\tTagSet = []\n",
        "\n",
        "\tfor sentence in Sentences:\n",
        "\t\tfor word in sentence:\n",
        "\t\t\tTagSet.append(word.split(\" \")[2])\n",
        "\n",
        "\treturn set(TagSet)\n"
      ],
      "execution_count": 2,
      "outputs": []
    },
    {
      "cell_type": "code",
      "metadata": {
        "id": "mfB36igwhuht",
        "outputId": "702224c8-2522-494b-ba64-6f95949f7dc9",
        "colab": {
          "base_uri": "https://localhost:8080/"
        }
      },
      "source": [
        "!unzip CRF.zip"
      ],
      "execution_count": 3,
      "outputs": [
        {
          "output_type": "stream",
          "text": [
            "Archive:  CRF.zip\n",
            "   creating: CRF/\n",
            "   creating: CRF/assignment2dataset/\n",
            "  inflating: CRF/assignment2dataset/README  \n",
            "  inflating: CRF/assignment2dataset/test.txt  \n",
            "  inflating: CRF/assignment2dataset/train.txt  \n",
            "  inflating: CRF/conf.png            \n",
            "  inflating: CRF/CRF-chunking.py     \n"
          ],
          "name": "stdout"
        }
      ]
    },
    {
      "cell_type": "code",
      "metadata": {
        "id": "WyVF1snWhLbQ"
      },
      "source": [
        "def build_labelled_features(Sentences):\n",
        "\n",
        "\t####Feature Set being used\n",
        "\t# 3 POS tags -> PrevtopPrev Prev Current \n",
        "\t# 2 chunk labels -> PrevtoPrev Prev\n",
        "\t# 3  word-stems -> PrevtoPrev Prev Current => Stems\n",
        "\t# Morphological Features -> isCaptital\n",
        "\n",
        "\tlabelled_features = []\n",
        "\t\n",
        "\tfor sentence in Sentences:\n",
        "\n",
        "\t\tfor word_index in range(0,len(sentence)):\n",
        "\n",
        "\t\t\tsplit_sentence = sentence[word_index].split(\" \")\n",
        "\n",
        "\t\t\tif word_index == 0:\n",
        "\t\t\t\t# print(sentence[word_index])\n",
        "\t\t\t\tcur_chunk = split_sentence[2]\n",
        "\t\t\t\tprev_to_prev_POS = 'st'\n",
        "\t\t\t\tprev_POS = 'st'\n",
        "\t\t\t\tcur_POS = split_sentence[1]\n",
        "\t\t\t\tprev_to_prev_chunk = 'st'\n",
        "\t\t\t\tprev_chunk = 'st'\n",
        "\t\t\t\tcur_stem = split_sentence[0].lower()\n",
        "\t\t\t\tprev_stem = 'st'\n",
        "\t\t\t\tprev_to_prev_stem = 'st'\n",
        "\t\t\t\tsuffix = split_sentence[0].lower().replace(os.path.commonprefix([PorterStemmer().stem(cur_stem), split_sentence[0].lower()]),'')\n",
        "\n",
        "\n",
        "\t\t\telif word_index == 1:\n",
        "\t\t\t\t# print(sentence[word_index])\n",
        "\t\t\t\tprev_split = sentence[word_index-1].split(\" \")\n",
        "\n",
        "\t\t\t\tcur_chunk = split_sentence[2]\n",
        "\t\t\t\tprev_to_prev_POS = 'st'\n",
        "\t\t\t\tprev_POS = prev_split[1]\n",
        "\t\t\t\tcur_POS = split_sentence[1]\n",
        "\t\t\t\tprev_to_prev_chunk = 'st'\n",
        "\t\t\t\tprev_chunk = prev_split[2]\n",
        "\t\t\t\tcur_stem = split_sentence[0].lower()\n",
        "\t\t\t\tprev_stem = prev_split[0].lower()\n",
        "\t\t\t\tprev_to_prev_stem = 'st'\n",
        "\t\t\t\tsuffix = split_sentence[0].lower().replace(os.path.commonprefix([PorterStemmer().stem(cur_stem), split_sentence[0].lower()]),'')\n",
        "\n",
        "\t\t\t\t\n",
        "\t\t\telse:\n",
        "\t\t\t\tprev_split1 = sentence[word_index-1].split(\" \")\n",
        "\t\t\t\tprev_split2 = sentence[word_index-2].split(\" \")\n",
        "\n",
        "\t\t\t\tcur_chunk = split_sentence[2]\n",
        "\t\t\t\tprev_to_prev_POS = prev_split2[1]\n",
        "\t\t\t\tprev_POS = prev_split1[1]\n",
        "\t\t\t\tcur_POS = split_sentence[1]\n",
        "\t\t\t\tprev_to_prev_chunk = prev_split2[2]\n",
        "\t\t\t\tprev_chunk = prev_split1[2]\n",
        "\t\t\t\tcur_stem = split_sentence[0].lower()\n",
        "\t\t\t\tprev_stem = prev_split1[0].lower()\n",
        "\t\t\t\tprev_to_prev_stem = prev_split2[0].lower()\n",
        "\t\t\t\tsuffix = split_sentence[0].lower().replace(os.path.commonprefix([PorterStemmer().stem(cur_stem), split_sentence[0].lower()]),'')\n",
        "\n",
        "\n",
        "\t\t\tlabelled_item = cur_chunk, prev_to_prev_POS, prev_POS, cur_POS, prev_to_prev_chunk, prev_chunk, cur_stem, prev_stem, prev_to_prev_stem, suffix\n",
        "\t\t\tlabelled_features.append(labelled_item)\n",
        "\n",
        "\treturn labelled_features\n"
      ],
      "execution_count": 4,
      "outputs": []
    },
    {
      "cell_type": "code",
      "metadata": {
        "id": "NP5s8JVZhLbW"
      },
      "source": [
        "Train_Sentences = import_Train_Data()\n",
        "Test_Sentences = import_Test_Data()\n",
        "\n",
        "Train_Sentences = Remove_Extra_Tag(Train_Sentences)\n",
        "Test_Sentences = Remove_Extra_Tag(Test_Sentences)"
      ],
      "execution_count": 5,
      "outputs": []
    },
    {
      "cell_type": "code",
      "metadata": {
        "id": "dU2yd5djhLba"
      },
      "source": [
        "Set_of_Tags = sorted(list(Get_Tagset(Train_Sentences)))\n",
        "# Set_of_Tags.append('st')\n",
        "indextags = {}\n",
        "# indextags['B']=0\n",
        "# indextags['I']=1\n",
        "for tag_ind in range(0,len(Set_of_Tags)):\n",
        "    indextags[Set_of_Tags[tag_ind]] = tag_ind\n"
      ],
      "execution_count": 6,
      "outputs": []
    },
    {
      "cell_type": "code",
      "metadata": {
        "id": "jCA1V32fhLbt"
      },
      "source": [
        "indexwords = {}\n",
        "indexpos = {}\n",
        "for i in range(len(Train_Sentences)):\n",
        "    for j in (Train_Sentences[i]):\n",
        "        \n",
        "        j = j.split(' ')\n",
        "        word = j[0]\n",
        "        tag = j[1]\n",
        "        # if j[2]=='O':\n",
        "        #   continue\n",
        "        if word not in indexwords.keys():\n",
        "          indexwords[word] = len(indexwords)\n",
        "        if tag not in indexpos.keys():\n",
        "          indexpos[tag] = len(indexpos)\n",
        "indexwords['oov'] = len(indexwords)\n",
        "indexpos['oov'] = len(indexpos)"
      ],
      "execution_count": 8,
      "outputs": []
    },
    {
      "cell_type": "code",
      "metadata": {
        "id": "b8-bTIiHhLbw",
        "outputId": "96e0cfe6-8ee8-4759-daae-97166a9c1094",
        "colab": {
          "base_uri": "https://localhost:8080/"
        }
      },
      "source": [
        "indexwords['oov']"
      ],
      "execution_count": 9,
      "outputs": [
        {
          "output_type": "execute_result",
          "data": {
            "text/plain": [
              "19122"
            ]
          },
          "metadata": {
            "tags": []
          },
          "execution_count": 9
        }
      ]
    },
    {
      "cell_type": "code",
      "metadata": {
        "id": "XOed77YhwPoS",
        "outputId": "6ecbf34a-5d05-412c-dc87-e47830b26105",
        "colab": {
          "base_uri": "https://localhost:8080/"
        }
      },
      "source": [
        "indexpos"
      ],
      "execution_count": 10,
      "outputs": [
        {
          "output_type": "execute_result",
          "data": {
            "text/plain": [
              "{'#': 24,\n",
              " '$': 26,\n",
              " \"''\": 20,\n",
              " '(': 25,\n",
              " ')': 27,\n",
              " ',': 11,\n",
              " '.': 14,\n",
              " ':': 39,\n",
              " 'CC': 12,\n",
              " 'CD': 18,\n",
              " 'DT': 2,\n",
              " 'EX': 22,\n",
              " 'FW': 40,\n",
              " 'IN': 1,\n",
              " 'JJ': 8,\n",
              " 'JJR': 33,\n",
              " 'JJS': 30,\n",
              " 'MD': 23,\n",
              " 'NN': 0,\n",
              " 'NNP': 10,\n",
              " 'NNPS': 28,\n",
              " 'NNS': 9,\n",
              " 'PDT': 37,\n",
              " 'POS': 13,\n",
              " 'PRP': 29,\n",
              " 'PRP$': 17,\n",
              " 'RB': 4,\n",
              " 'RBR': 32,\n",
              " 'RBS': 36,\n",
              " 'RP': 38,\n",
              " 'SYM': 42,\n",
              " 'TO': 6,\n",
              " 'UH': 43,\n",
              " 'VB': 7,\n",
              " 'VBD': 21,\n",
              " 'VBG': 16,\n",
              " 'VBN': 5,\n",
              " 'VBP': 15,\n",
              " 'VBZ': 3,\n",
              " 'WDT': 34,\n",
              " 'WP': 31,\n",
              " 'WP$': 41,\n",
              " 'WRB': 35,\n",
              " '``': 19,\n",
              " 'oov': 44}"
            ]
          },
          "metadata": {
            "tags": []
          },
          "execution_count": 10
        }
      ]
    },
    {
      "cell_type": "code",
      "metadata": {
        "id": "UssA7-W7hLbz"
      },
      "source": [
        "class MyData(torch.utils.data.Dataset):\n",
        "    def __init__(self, indexwords, indexpos, indextags, dataset_list):\n",
        "        self.indexwords = indexwords.copy()\n",
        "        self.indextags = indextags\n",
        "        self.dataset_list = dataset_list\n",
        "        self.indexpos = indexpos\n",
        "\n",
        "    def __getitem__(self, item):\n",
        "\n",
        "        sent = self.dataset_list[item]\n",
        "        wid = []\n",
        "        tagid = []\n",
        "        pid = []\n",
        "        for i in sent:\n",
        "            i = i.split(' ')\n",
        "            word = i[0]\n",
        "            tag = i[1]\n",
        "            # if i[2]=='O':\n",
        "            #   continue\n",
        "            if word not in self.indexwords.keys():\n",
        "                word = 'oov'\n",
        "            if tag not in self.indexpos.keys():\n",
        "                tag = 'oov'\n",
        "            wid.append(self.indexwords[word])\n",
        "            pid.append(self.indexpos[tag])\n",
        "            tagid.append(self.indextags[i[2]])\n",
        "        assert len(wid)==len(tagid)\n",
        "        # print(len(tagid))\n",
        "        return torch.LongTensor(wid), torch.LongTensor(pid), torch.LongTensor(tagid)\n",
        "\n",
        "    def __len__(self):\n",
        "        return len(self.dataset_list)\n"
      ],
      "execution_count": 11,
      "outputs": []
    },
    {
      "cell_type": "code",
      "metadata": {
        "id": "R4nbfgB1hLb5",
        "outputId": "c8663fa8-8d58-4910-a642-b26f4d19e1d2",
        "colab": {
          "base_uri": "https://localhost:8080/"
        }
      },
      "source": [
        "gpu = 0\n",
        "device = torch.device(gpu if torch.cuda.is_available() else \"cpu\")\n",
        "if torch.cuda.is_available():\n",
        "    torch.cuda.set_device(gpu)\n",
        "print(device)"
      ],
      "execution_count": 12,
      "outputs": [
        {
          "output_type": "stream",
          "text": [
            "cuda:0\n"
          ],
          "name": "stdout"
        }
      ]
    },
    {
      "cell_type": "code",
      "metadata": {
        "id": "Pki-Csp9hLb9"
      },
      "source": [
        "BATCH_SIZE = 1"
      ],
      "execution_count": 13,
      "outputs": []
    },
    {
      "cell_type": "code",
      "metadata": {
        "id": "KkgaPhVdhLcA"
      },
      "source": [
        "train_set = MyData(indexwords, indexpos, indextags, Train_Sentences)\n",
        "train_set, val_set = torch.utils.data.random_split(train_set, [int(0.8*len(train_set)), len(train_set)-int(0.8*len(train_set))] )\n",
        "train_set = torch.utils.data.DataLoader(train_set, batch_size=BATCH_SIZE, shuffle=True, num_workers=4)\n",
        "val_set = torch.utils.data.DataLoader(val_set, batch_size=BATCH_SIZE, shuffle=True, num_workers=4)\n"
      ],
      "execution_count": 14,
      "outputs": []
    },
    {
      "cell_type": "code",
      "metadata": {
        "id": "BBefXaLohLcH"
      },
      "source": [
        "class BiLSTMNet(nn.Module):\n",
        "  def __init__(self, hidden_dim, num_words, numpostags, n_layers=1, numTags=3):\n",
        "    super(BiLSTMNet, self).__init__()\n",
        "    self.hidden_dim = hidden_dim\n",
        "    self.embeddings = nn.Embedding(num_words, hidden_dim)\n",
        "    self.embeddings2 = nn.Embedding(numpostags, hidden_dim)\n",
        "    self.bilstm = nn.LSTM(2*hidden_dim, hidden_dim, n_layers, batch_first=True, bidirectional = True)\n",
        "    self.fc = nn.Linear(hidden_dim*2,numTags)\n",
        "    self.dropout = nn.Dropout(0.3)\n",
        "    self.softmax = nn.Softmax(dim=2)\n",
        "\n",
        "  def forward(self,x,y):\n",
        "    x = self.embeddings(x)\n",
        "    y = self.embeddings2(y)\n",
        "    x = torch.cat([x,y], dim=-1)\n",
        "    unpacked, (h_n, c_n) = self.bilstm(x)\n",
        "    out = self.fc(unpacked)\n",
        "    out = self.dropout(out)\n",
        "    return self.softmax(out)"
      ],
      "execution_count": 15,
      "outputs": []
    },
    {
      "cell_type": "code",
      "metadata": {
        "id": "pVv6PnWThLcK"
      },
      "source": [
        "# loss_criteria = nn.BCELoss()\n",
        "loss_criteria = nn.CrossEntropyLoss()\n",
        "model = BiLSTMNet(1024, len(indexwords), len(indexpos))\n",
        "# model = BiLSTMNet(64, len(indexwords))\n",
        "model = model.to(device)\n",
        "optimizer = torch.optim.Adam(model.parameters(), lr=1e-5)\n",
        "# scheduler = torch.optim.lr_scheduler.ReduceLROnPlateau(optimizer)\n",
        "epochs = 10"
      ],
      "execution_count": 26,
      "outputs": []
    },
    {
      "cell_type": "code",
      "metadata": {
        "id": "UlcBvmJ_hLcO"
      },
      "source": [
        "from sklearn.metrics import accuracy_score"
      ],
      "execution_count": 17,
      "outputs": []
    },
    {
      "cell_type": "code",
      "metadata": {
        "id": "v-ZqN0L5hLcS",
        "outputId": "d3af3eee-690b-45fa-bb7a-fa84743664a8",
        "colab": {
          "base_uri": "https://localhost:8080/"
        }
      },
      "source": [
        "# model.train()\n",
        "\n",
        "for epoch in range(9):\n",
        "    total_loss = 0\n",
        "    train_acc = 0\n",
        "    count = 0\n",
        "    model.train()\n",
        "    for (x,t,y) in train_set:\n",
        "        # print(x.shape, y.shape)\n",
        "        optimizer.zero_grad()\n",
        "        out = model(x.to(device), t.to(device))\n",
        "        # print(out.shape)\n",
        "        loss = loss_criteria(out[0], y[0].to(device))\n",
        "        loss.backward()\n",
        "        optimizer.step()\n",
        "        # scheduler.step(loss)\n",
        "        total_loss += loss.item()\n",
        "        # print(torch.argmax(out, dim=-1).detach().numpy())\n",
        "        # print(y)\n",
        "        train_acc += accuracy_score(y[0].detach().cpu().numpy(),torch.argmax(out, dim=-1).detach().cpu().numpy()[0])*len(x)\n",
        "        count+=len(x)\n",
        "    \n",
        "    print(f\"Training loss for epoch {epoch+1}: {total_loss/count}\")\n",
        "    print(f\"Training accuracy for epoch {epoch+1}: {train_acc/count*100}%\")\n",
        "    model.eval()\n",
        "    total_loss = 0\n",
        "    val_acc = 0\n",
        "    count = 0\n",
        "    for (x,t,y) in val_set:\n",
        "        \n",
        "        out = model(x.to(device), t.to(device))\n",
        "        loss = loss_criteria(out[0], y[0].to(device))\n",
        "        \n",
        "        total_loss += loss.item()\n",
        "        val_acc += accuracy_score(y[0].detach().cpu().numpy(),torch.argmax(out, dim=-1).detach().cpu().numpy()[0])*len(x)\n",
        "        count+=len(x)\n",
        "    \n",
        "    print(f\"Validation loss for epoch {epoch+1}: {total_loss/count}\")\n",
        "    print(f\"Validation accuracy for epoch {epoch+1}: {val_acc/count*100}%\")\n",
        "    print('='*20)\n",
        "    # model.eval()\n",
        "    # total_loss = 0\n",
        "    # test_acc = 0\n",
        "    # count = 0\n",
        "    # preds = []\n",
        "    # gold = []\n",
        "    # for (x,t,y) in test_set:\n",
        "    #     out = model(x.to(device), t.to(device))\n",
        "    #     loss = loss_criteria(out[0], y[0].to(device))\n",
        "        \n",
        "    #     total_loss += loss.item()\n",
        "    #     gold.extend(y[0].detach().cpu().numpy())\n",
        "    #     preds.extend(torch.argmax(out, dim=-1).detach().cpu().numpy()[0])\n",
        "    #     test_acc += accuracy_score(y[0].detach().cpu().numpy(),torch.argmax(out, dim=-1).detach().cpu().numpy()[0])*len(x)\n",
        "    #     count+=len(x)\n",
        "\n",
        "    # print(f\"Test loss : {total_loss/count}\")\n",
        "    # print(f\"Test accuracy : {test_acc/count*100}%\")"
      ],
      "execution_count": 27,
      "outputs": [
        {
          "output_type": "stream",
          "text": [
            "Training loss for epoch 1: 0.7049368742246767\n",
            "Training accuracy for epoch 1: 83.59017349486373%\n",
            "Validation loss for epoch 1: 0.6072558696304658\n",
            "Validation accuracy for epoch 1: 94.63920286978535%\n",
            "====================\n",
            "Training loss for epoch 2: 0.661971025740093\n",
            "Training accuracy for epoch 2: 86.78517225892219%\n",
            "Validation loss for epoch 2: 0.5986015070271439\n",
            "Validation accuracy for epoch 2: 95.37839250249178%\n",
            "====================\n",
            "Training loss for epoch 3: 0.6553856484804597\n",
            "Training accuracy for epoch 3: 87.22129202854163%\n",
            "Validation loss for epoch 3: 0.5953997047222167\n",
            "Validation accuracy for epoch 3: 95.66668323837446%\n",
            "====================\n",
            "Training loss for epoch 4: 0.6510208990564543\n",
            "Training accuracy for epoch 4: 87.69841270585216%\n",
            "Validation loss for epoch 4: 0.5929585738603435\n",
            "Validation accuracy for epoch 4: 95.85183498470133%\n",
            "====================\n",
            "Training loss for epoch 5: 0.6483235623860533\n",
            "Training accuracy for epoch 5: 87.89345124070506%\n",
            "Validation loss for epoch 5: 0.5931554479353647\n",
            "Validation accuracy for epoch 5: 95.83164610279127%\n",
            "====================\n",
            "Training loss for epoch 6: 0.6446868876921911\n",
            "Training accuracy for epoch 6: 88.24067920092784%\n",
            "Validation loss for epoch 6: 0.5906655873094896\n",
            "Validation accuracy for epoch 6: 96.03473838474315%\n",
            "====================\n",
            "Training loss for epoch 7: 0.6421609304440908\n",
            "Training accuracy for epoch 7: 88.49697772072712%\n",
            "Validation loss for epoch 7: 0.5899787329520688\n",
            "Validation accuracy for epoch 7: 96.10166376255741%\n",
            "====================\n",
            "Training loss for epoch 8: 0.6403670370178511\n",
            "Training accuracy for epoch 8: 88.78408636753264%\n",
            "Validation loss for epoch 8: 0.5887249965862407\n",
            "Validation accuracy for epoch 8: 96.2632215268397%\n",
            "====================\n",
            "Training loss for epoch 9: 0.6385656742490599\n",
            "Training accuracy for epoch 9: 88.92209742060795%\n",
            "Validation loss for epoch 9: 0.5892155376456728\n",
            "Validation accuracy for epoch 9: 96.20022616213718%\n",
            "====================\n"
          ],
          "name": "stdout"
        }
      ]
    },
    {
      "cell_type": "code",
      "metadata": {
        "id": "zkYciLhhhLcV"
      },
      "source": [
        "test_set = MyData(indexwords, indexpos, indextags, Test_Sentences)\n",
        "test_set = torch.utils.data.DataLoader(test_set, batch_size=BATCH_SIZE, shuffle=True, num_workers=4)\n"
      ],
      "execution_count": 19,
      "outputs": []
    },
    {
      "cell_type": "code",
      "metadata": {
        "id": "-6mD6sPxhLcZ",
        "outputId": "cc9c2891-0d7d-4b42-f07c-e46edcb187dd",
        "colab": {
          "base_uri": "https://localhost:8080/"
        }
      },
      "source": [
        "model.eval()\n",
        "total_loss = 0\n",
        "test_acc = 0\n",
        "count = 0\n",
        "preds = []\n",
        "gold = []\n",
        "for (x,t,y) in test_set:\n",
        "    out = model(x.to(device), t.to(device))\n",
        "    loss = loss_criteria(out[0], y[0].to(device))\n",
        "    \n",
        "    total_loss += loss.item()\n",
        "    gold.extend(y[0].detach().cpu().numpy())\n",
        "    preds.extend(torch.argmax(out, dim=-1).detach().cpu().numpy()[0])\n",
        "    test_acc += accuracy_score(y[0].detach().cpu().numpy(),torch.argmax(out, dim=-1).detach().cpu().numpy()[0])*len(x)\n",
        "    count+=len(x)\n",
        "\n",
        "print(f\"Test loss : {total_loss/count}\")\n",
        "print(f\"Test accuracy : {test_acc/count*100}%\")"
      ],
      "execution_count": 28,
      "outputs": [
        {
          "output_type": "stream",
          "text": [
            "Test loss : 0.5892829192917105\n",
            "Test accuracy : 96.16986840423894%\n"
          ],
          "name": "stdout"
        }
      ]
    },
    {
      "cell_type": "code",
      "metadata": {
        "id": "UzNrCYVtgB48",
        "outputId": "3b5198e7-cabd-4af6-ded7-0749ee1200c8",
        "colab": {
          "base_uri": "https://localhost:8080/"
        }
      },
      "source": [
        "print(accuracy_score(gold,preds))"
      ],
      "execution_count": 29,
      "outputs": [
        {
          "output_type": "stream",
          "text": [
            "0.961690271650801\n"
          ],
          "name": "stdout"
        }
      ]
    },
    {
      "cell_type": "code",
      "metadata": {
        "id": "2XoqSiS4ffRh",
        "outputId": "4c14cc12-03af-41e6-8e8f-c9e4273af3bc",
        "colab": {
          "base_uri": "https://localhost:8080/"
        }
      },
      "source": [
        "from sklearn.metrics import classification_report, confusion_matrix\n",
        "print(classification_report(gold,preds))"
      ],
      "execution_count": 30,
      "outputs": [
        {
          "output_type": "stream",
          "text": [
            "              precision    recall  f1-score   support\n",
            "\n",
            "           0       0.96      0.98      0.97     23852\n",
            "           1       0.96      0.95      0.95     17345\n",
            "           2       0.97      0.95      0.96      6180\n",
            "\n",
            "    accuracy                           0.96     47377\n",
            "   macro avg       0.96      0.96      0.96     47377\n",
            "weighted avg       0.96      0.96      0.96     47377\n",
            "\n"
          ],
          "name": "stdout"
        }
      ]
    },
    {
      "cell_type": "code",
      "metadata": {
        "id": "QaPXRvpMpax-",
        "outputId": "db06a5dd-2a45-4d31-a9e7-40b3dbfa42de",
        "colab": {
          "base_uri": "https://localhost:8080/"
        }
      },
      "source": [
        "indextags"
      ],
      "execution_count": 32,
      "outputs": [
        {
          "output_type": "execute_result",
          "data": {
            "text/plain": [
              "{'B': 0, 'I': 1, 'O': 2}"
            ]
          },
          "metadata": {
            "tags": []
          },
          "execution_count": 32
        }
      ]
    },
    {
      "cell_type": "code",
      "metadata": {
        "id": "kIMufmlkgRMi",
        "outputId": "ee50d1c0-f0ea-4878-c7dd-785142945c85",
        "colab": {
          "base_uri": "https://localhost:8080/",
          "height": 583
        }
      },
      "source": [
        "import seaborn as sns\n",
        "import matplotlib.pyplot as plt  \n",
        "\n",
        "cm = confusion_matrix(gold, preds, list(indextags.values()))\n",
        "print(cm)\n",
        "\n",
        "sns.set(rc={'figure.figsize':(11.7,8.27)})\n",
        "\n",
        "\n",
        "ax= plt.subplot()\n",
        "sns.heatmap(cm, annot=False, ax = ax,cmap=\"YlGnBu\")\n",
        "\n",
        "ax.set_xlabel('Predicted labels')\n",
        "ax.set_ylabel('True labels')\n",
        "ax.set_title('Confusion Matrix') \n",
        "ax.xaxis.set_ticklabels(list(indextags.keys()))\n",
        "ax.yaxis.set_ticklabels(list(indextags.keys()));\n",
        "plt.show()\n"
      ],
      "execution_count": 31,
      "outputs": [
        {
          "output_type": "stream",
          "text": [
            "[[23281   527    44]\n",
            " [  801 16406   138]\n",
            " [  105   200  5875]]\n"
          ],
          "name": "stdout"
        },
        {
          "output_type": "display_data",
          "data": {
            "image/png": "[encoded data removed]",
            "text/plain": [
              "<Figure size 842.4x595.44 with 2 Axes>"
            ]
          },
          "metadata": {
            "tags": []
          }
        }
      ]
    },
    {
      "cell_type": "markdown",
      "metadata": {
        "id": "YInSh_MMhjqa"
      },
      "source": [
        "Error analysis"
      ]
    },
    {
      "cell_type": "code",
      "metadata": {
        "id": "hGFT3hcShfm_",
        "outputId": "6687eb1c-a03d-421a-8807-bf9813dc1c2e",
        "colab": {
          "base_uri": "https://localhost:8080/",
          "height": 1000
        }
      },
      "source": [
        "model.eval()\n",
        "total_loss = 0\n",
        "test_acc = 0\n",
        "count = 0\n",
        "preds = []\n",
        "gold = []\n",
        "for (x,t,y) in test_set:\n",
        "    count+=1\n",
        "    out = model(x.to(device), t.to(device))\n",
        "    loss = loss_criteria(out[0], y[0].to(device))\n",
        "    \n",
        "    total_loss += loss.item()\n",
        "    g = y[0].detach().cpu().numpy()\n",
        "    p = torch.argmax(out, dim=-1).detach().cpu().numpy()[0]\n",
        "    if accuracy_score(g,p)!=1:\n",
        "      print( [list(indexwords.keys())[list(indexwords.values()).index(j)] for j in x.detach().cpu().numpy()[0] ])\n",
        "      print([list(indexpos.keys())[list(indexpos.values()).index(j)] for j in t.detach().cpu().numpy()[0] ])\n",
        "      print( [list(indextags.keys())[list(indextags.values()).index(j)] for j in p])\n",
        "      print( [list(indextags.keys())[list(indextags.values()).index(j)] for j in g])\n",
        "      print('='*20)\n",
        "    if count>100:\n",
        "      break"
      ],
      "execution_count": null,
      "outputs": [
        {
          "output_type": "stream",
          "text": [
            "['oov', 'oov', ',', 'general', 'manager', 'of', 'the', 'stock', 'trading', 'division', 'at', 'Nikko', 'Securities', ',', 'said', 'that', 'after', 'looking', 'at', 'the', 'reasons', 'for', 'Friday', \"'s\", 'Wall', 'Street', 'plunge', ',', 'participants', 'realized', 'that', 'the', 'Tokyo', 'and', 'New', 'York', 'markets', 'have', 'different', 'economic', 'fundamentals', '.']\n",
            "['NNP', 'NNP', ',', 'JJ', 'NN', 'IN', 'DT', 'NN', 'NN', 'NN', 'IN', 'NNP', 'NNP', ',', 'VBD', 'IN', 'IN', 'VBG', 'IN', 'DT', 'NNS', 'IN', 'NNP', 'POS', 'NNP', 'NNP', 'NN', ',', 'NNS', 'VBD', 'IN', 'DT', 'NNP', 'CC', 'NNP', 'NNP', 'NNS', 'VBP', 'JJ', 'JJ', 'NNS', '.']\n",
            "['B', 'I', 'O', 'B', 'I', 'B', 'B', 'I', 'I', 'I', 'B', 'B', 'I', 'O', 'B', 'B', 'B', 'B', 'B', 'B', 'I', 'B', 'B', 'B', 'I', 'I', 'I', 'O', 'B', 'B', 'B', 'B', 'I', 'O', 'B', 'I', 'I', 'B', 'B', 'I', 'I', 'O']\n",
            "['B', 'I', 'O', 'B', 'I', 'B', 'B', 'I', 'I', 'I', 'B', 'B', 'I', 'O', 'B', 'B', 'B', 'B', 'B', 'B', 'I', 'B', 'B', 'B', 'I', 'I', 'I', 'O', 'B', 'B', 'B', 'B', 'I', 'I', 'I', 'I', 'I', 'B', 'B', 'I', 'I', 'O']\n",
            "====================\n",
            "['And', ',', 'because', 'China', \"'s\", 'leaders', 'have', 'abandoned', 'plans', 'to', 'oov', 'reform', 'the', 'economy', ',', 'it', 'is', 'likely', 'to', 'continue', ',', 'analysts', 'say', '.']\n",
            "['CC', ',', 'IN', 'NNP', 'POS', 'NNS', 'VBP', 'VBN', 'NNS', 'TO', 'RB', 'NN', 'DT', 'NN', ',', 'PRP', 'VBZ', 'JJ', 'TO', 'VB', ',', 'NNS', 'VBP', '.']\n",
            "['O', 'O', 'B', 'B', 'B', 'I', 'B', 'I', 'B', 'B', 'B', 'I', 'B', 'I', 'O', 'B', 'B', 'B', 'B', 'I', 'O', 'B', 'B', 'O']\n",
            "['O', 'O', 'B', 'B', 'B', 'I', 'B', 'I', 'B', 'B', 'I', 'I', 'B', 'I', 'O', 'B', 'B', 'B', 'B', 'I', 'O', 'B', 'B', 'O']\n",
            "====================\n",
            "['``', 'We', 'were', 'oov', 'it', ',', 'following', 'the', 'fall', 'of', 'the', 'Dow', 'Friday', ',', \"''\", 'said', 'oov', 'oov', 'oov', ',', 'editor', 'of', 'Money', 'Fund', 'Report', '.']\n",
            "['``', 'PRP', 'VBD', 'VBG', 'PRP', ',', 'VBG', 'DT', 'NN', 'IN', 'DT', 'NNP', 'NNP', ',', \"''\", 'VBD', 'NNP', 'NNP', 'NNP', ',', 'NN', 'IN', 'NNP', 'NNP', 'NNP', '.']\n",
            "['O', 'B', 'B', 'I', 'B', 'O', 'B', 'B', 'I', 'B', 'B', 'I', 'I', 'O', 'O', 'B', 'B', 'I', 'I', 'O', 'B', 'B', 'B', 'I', 'I', 'O']\n",
            "['O', 'B', 'B', 'I', 'B', 'O', 'B', 'B', 'I', 'B', 'B', 'I', 'B', 'O', 'O', 'B', 'B', 'I', 'I', 'O', 'B', 'B', 'B', 'I', 'I', 'O']\n",
            "====================\n",
            "['Not', 'one', 'thing', 'in', 'the', 'house', 'is', 'where', 'it', 'is', 'supposed', 'to', 'be', ',', 'but', 'the', 'structure', 'is', 'fine', '.']\n",
            "['RB', 'CD', 'NN', 'IN', 'DT', 'NN', 'VBZ', 'WRB', 'PRP', 'VBZ', 'VBN', 'TO', 'VB', ',', 'CC', 'DT', 'NN', 'VBZ', 'JJ', '.']\n",
            "['B', 'I', 'I', 'B', 'B', 'I', 'B', 'B', 'B', 'B', 'I', 'B', 'I', 'O', 'O', 'B', 'I', 'B', 'B', 'O']\n",
            "['B', 'I', 'I', 'B', 'B', 'I', 'B', 'B', 'B', 'B', 'I', 'I', 'I', 'O', 'O', 'B', 'I', 'B', 'B', 'O']\n",
            "====================\n",
            "['When', 'he', 'died', 'in', '1959', ',', 'oov', 'left', 'behind', 'four', 'oov', 'of', 'yet', 'another', 'oov', 'book', ',', '``', 'The', 'oov', 'oov', 'oov', ',', \"''\", 'which', 'seemed', 'to', 'go', 'beyond', 'oov', 'into', 'something', 'like', 'oov', '.']\n",
            "['WRB', 'PRP', 'VBD', 'IN', 'CD', ',', 'NNP', 'VBD', 'IN', 'CD', 'NNS', 'IN', 'RB', 'DT', 'NNP', 'NN', ',', '``', 'DT', 'NNP', 'NNP', 'NNP', ',', \"''\", 'WDT', 'VBD', 'TO', 'VB', 'IN', 'NN', 'IN', 'NN', 'IN', 'JJ', '.']\n",
            "['B', 'B', 'B', 'B', 'B', 'O', 'B', 'B', 'B', 'B', 'I', 'B', 'B', 'I', 'I', 'I', 'O', 'O', 'B', 'I', 'I', 'I', 'O', 'O', 'B', 'B', 'B', 'I', 'B', 'B', 'B', 'B', 'B', 'B', 'O']\n",
            "['B', 'B', 'B', 'B', 'B', 'O', 'B', 'B', 'B', 'B', 'I', 'B', 'B', 'I', 'I', 'I', 'O', 'O', 'B', 'I', 'I', 'I', 'O', 'O', 'B', 'B', 'I', 'I', 'B', 'B', 'B', 'B', 'B', 'B', 'O']\n",
            "====================\n",
            "['Colgate', 'sold', 'its', 'oov', 'supply', 'and', 'home', 'health', 'care', 'business', 'last', 'year', '.']\n",
            "['NNP', 'VBD', 'PRP$', 'NN', 'NN', 'CC', 'NN', 'NN', 'NN', 'NN', 'JJ', 'NN', '.']\n",
            "['B', 'B', 'B', 'I', 'I', 'O', 'B', 'I', 'I', 'I', 'B', 'I', 'O']\n",
            "['B', 'B', 'B', 'I', 'I', 'I', 'I', 'I', 'I', 'I', 'B', 'I', 'O']\n",
            "====================\n",
            "['British', 'oov', 'currently', 'own', 'thousands', 'of', 'oov', ',', 'which', 'in', 'turn', 'sell', 'only', 'the', 'oov', \"'\", 'oov', 'and', 'soft', 'drinks', '.']\n",
            "['JJ', 'NNS', 'RB', 'JJ', 'NNS', 'IN', 'NNS', ',', 'WDT', 'IN', 'NN', 'NN', 'RB', 'DT', 'NNS', 'POS', 'NN', 'CC', 'JJ', 'NNS', '.']\n",
            "['B', 'I', 'B', 'I', 'I', 'B', 'B', 'O', 'B', 'B', 'B', 'I', 'B', 'B', 'I', 'B', 'I', 'I', 'I', 'I', 'O']\n",
            "['B', 'I', 'B', 'B', 'B', 'B', 'B', 'O', 'B', 'B', 'B', 'B', 'B', 'B', 'I', 'B', 'I', 'I', 'I', 'I', 'O']\n",
            "====================\n",
            "['Operating', 'expenses', 'increased', '2.6', '%', 'to', '$', '2.04', 'billion', ',', 'including', 'one-time', 'pretax', 'charges', 'of', '$', '40', 'million', 'for', 'oov', 'contract', 'signing', 'bonuses', '.']\n",
            "['NN', 'NNS', 'VBN', 'CD', 'NN', 'TO', '$', 'CD', 'CD', ',', 'VBG', 'JJ', 'JJ', 'NNS', 'IN', '$', 'CD', 'CD', 'IN', 'NN', 'NN', 'VBG', 'NNS', '.']\n",
            "['B', 'I', 'B', 'B', 'I', 'B', 'B', 'I', 'I', 'O', 'B', 'B', 'I', 'I', 'B', 'B', 'I', 'I', 'B', 'B', 'I', 'B', 'B', 'O']\n",
            "['B', 'I', 'B', 'B', 'I', 'B', 'B', 'I', 'I', 'O', 'B', 'B', 'I', 'I', 'B', 'B', 'I', 'I', 'B', 'B', 'I', 'I', 'I', 'O']\n",
            "====================\n",
            "['People', 'tend', 'to', 'be', 'most', 'oov', 'to', 'brands', 'that', 'have', 'oov', 'oov', ',', 'such', 'as', 'oov', 'and', 'oov', '.']\n",
            "['NNS', 'VBP', 'TO', 'VB', 'RBS', 'JJ', 'TO', 'NNS', 'WDT', 'VBP', 'JJ', 'NNS', ',', 'JJ', 'IN', 'NNS', 'CC', 'NN', '.']\n",
            "['B', 'B', 'B', 'I', 'B', 'I', 'B', 'B', 'B', 'B', 'B', 'I', 'O', 'B', 'I', 'B', 'I', 'B', 'O']\n",
            "['B', 'B', 'I', 'I', 'B', 'I', 'B', 'B', 'B', 'B', 'B', 'I', 'O', 'B', 'I', 'B', 'I', 'I', 'O']\n",
            "====================\n",
            "['``', 'They', \"'re\", 'buying', 'oov', \"'s\", 'oov', '.', \"''\"]\n",
            "['``', 'PRP', 'VBP', 'VBG', 'WDT', 'POS', 'JJR', '.', \"''\"]\n",
            "['O', 'B', 'B', 'I', 'B', 'B', 'I', 'O', 'O']\n",
            "['O', 'B', 'B', 'I', 'B', 'B', 'B', 'O', 'O']\n",
            "====================\n",
            "['It', 'is', 'quite', 'oov', 'that', 'you', 'failed', 'so', 'oov', 'in', 'reporting', 'the', 'Hurricane', 'Hugo', 'disaster', '.']\n",
            "['PRP', 'VBZ', 'RB', 'JJ', 'IN', 'PRP', 'VBD', 'RB', 'RB', 'IN', 'VBG', 'DT', 'NNP', 'NNP', 'NN', '.']\n",
            "['B', 'B', 'B', 'B', 'B', 'B', 'B', 'B', 'I', 'B', 'B', 'B', 'I', 'I', 'I', 'O']\n",
            "['B', 'B', 'B', 'I', 'B', 'B', 'B', 'B', 'I', 'B', 'B', 'B', 'I', 'I', 'I', 'O']\n",
            "====================\n",
            "['oov', 'are', 'naturally', 'oov', 'on', 'their', 'ability', 'to', 'keep', 'ahead', 'of', 'oov', 'inflation', 'with', 'investment', 'returns', '.']\n",
            "['NNS', 'VBP', 'RB', 'VBG', 'IN', 'PRP$', 'NN', 'TO', 'VB', 'RB', 'IN', 'NN', 'NN', 'IN', 'NN', 'NNS', '.']\n",
            "['B', 'B', 'I', 'I', 'B', 'B', 'I', 'B', 'I', 'B', 'B', 'B', 'B', 'B', 'B', 'I', 'O']\n",
            "['B', 'B', 'I', 'I', 'B', 'B', 'I', 'B', 'I', 'B', 'B', 'B', 'I', 'B', 'B', 'I', 'O']\n",
            "====================\n",
            "['oov', 'began', 'on', 'oov', 'and', 'oov', 'at', 'an', 'annual', 'rate', 'of', 'oov', 'units', 'last', 'month', ',', 'down', '5.2', '%', 'from', 'August', ',', 'the', 'department', 'said', '.']\n",
            "['NN', 'VBD', 'IN', 'NNS', 'CC', 'NNS', 'IN', 'DT', 'JJ', 'NN', 'IN', 'CD', 'NNS', 'JJ', 'NN', ',', 'RB', 'CD', 'NN', 'IN', 'NNP', ',', 'DT', 'NN', 'VBD', '.']\n",
            "['B', 'B', 'B', 'B', 'O', 'B', 'B', 'B', 'I', 'I', 'B', 'B', 'I', 'B', 'I', 'O', 'B', 'B', 'I', 'B', 'B', 'O', 'B', 'I', 'B', 'O']\n",
            "['B', 'B', 'B', 'B', 'I', 'I', 'B', 'B', 'I', 'I', 'B', 'B', 'I', 'B', 'I', 'O', 'B', 'B', 'I', 'B', 'B', 'O', 'B', 'I', 'B', 'O']\n",
            "====================\n",
            "['However', ',', 'inflation', 'for', '1990', 'was', 'seen', 'slowing', 'to', '4.5', '%', '.']\n",
            "['RB', ',', 'NN', 'IN', 'CD', 'VBD', 'VBN', 'VBG', 'TO', 'CD', 'NN', '.']\n",
            "['B', 'O', 'B', 'B', 'B', 'B', 'I', 'B', 'B', 'B', 'I', 'O']\n",
            "['B', 'O', 'B', 'B', 'B', 'B', 'I', 'I', 'B', 'B', 'I', 'O']\n",
            "====================\n",
            "['oov', 'oov', 'final', 'oov', 'in', 'oov', 'trial', 'of', 'federal', 'judge', '.']\n",
            "['NNP', 'VBZ', 'JJ', 'NNS', 'IN', 'NN', 'NN', 'IN', 'JJ', 'NN', '.']\n",
            "['B', 'B', 'B', 'I', 'B', 'B', 'B', 'B', 'B', 'I', 'O']\n",
            "['B', 'B', 'B', 'I', 'B', 'B', 'I', 'B', 'B', 'I', 'O']\n",
            "====================\n",
            "['The', 'transaction', 'will', 'give', 'oov', 'a', 'well-known', 'European', 'computer', 'brand', 'that', 'includes', 'oov', 'dealers', 'and', 'oov', 'marketing', 'to', 'oov', 'business', 'and', 'oov', 'institutions', '.']\n",
            "['DT', 'NN', 'MD', 'VB', 'NNP', 'DT', 'JJ', 'JJ', 'NN', 'NN', 'WDT', 'VBZ', 'CD', 'NNS', 'CC', 'NNS', 'NN', 'TO', 'JJ', 'NN', 'CC', 'JJ', 'NNS', '.']\n",
            "['B', 'I', 'B', 'I', 'B', 'B', 'I', 'I', 'I', 'I', 'B', 'B', 'B', 'I', 'O', 'B', 'I', 'B', 'B', 'I', 'O', 'B', 'I', 'O']\n",
            "['B', 'I', 'B', 'I', 'B', 'B', 'I', 'I', 'I', 'I', 'B', 'B', 'B', 'I', 'I', 'I', 'B', 'B', 'B', 'I', 'I', 'I', 'I', 'O']\n",
            "====================\n",
            "['In', 'oov', 'that', 'oov', 'the', 'issue', ',', 'Mr.', 'oov', 'writes', ',', '``', 'The', 'oov', 'of', 'oov', 'and', 'oov', 'public', 'oov', 'is', 'an', 'essential', 'element', 'of', 'President', 'Carlos', 'oov', \"'s\", 'plan', 'to', 'modernize', 'Mexico', \"'s\", 'economy', '...', '.', \"''\"]\n",
            "['IN', 'NN', 'WDT', 'VBZ', 'DT', 'NN', ',', 'NNP', 'NNP', 'VBZ', ',', '``', 'DT', 'NN', 'IN', 'NN', 'CC', 'JJ', 'JJ', 'NNS', 'VBZ', 'DT', 'JJ', 'NN', 'IN', 'NNP', 'NNP', 'NNP', 'POS', 'NN', 'TO', 'VB', 'NNP', 'POS', 'NN', ':', '.', \"''\"]\n",
            "['B', 'B', 'B', 'B', 'B', 'I', 'O', 'B', 'I', 'B', 'O', 'O', 'B', 'I', 'B', 'B', 'O', 'B', 'I', 'I', 'B', 'B', 'I', 'I', 'B', 'B', 'I', 'I', 'B', 'I', 'B', 'I', 'B', 'B', 'I', 'O', 'O', 'O']\n",
            "['B', 'B', 'B', 'B', 'B', 'I', 'O', 'B', 'I', 'B', 'O', 'O', 'B', 'I', 'B', 'B', 'I', 'I', 'I', 'I', 'B', 'B', 'I', 'I', 'B', 'B', 'I', 'I', 'B', 'I', 'B', 'I', 'B', 'B', 'I', 'O', 'O', 'O']\n",
            "====================\n",
            "['State', 'law', 'oov', 'can', 'barely', 'keep', 'up', 'with', 'charity', 'oov', ',', 'and', 'reports', 'from', 'oov', 'groups', 'such', 'as', 'the', 'Council', 'of', 'oov', 'Business', 'oov', 'are', 'not', 'encouraging', '.']\n",
            "['NN', 'NN', 'NNS', 'MD', 'RB', 'VB', 'IN', 'IN', 'NN', 'NNS', ',', 'CC', 'NNS', 'IN', 'NN', 'NNS', 'JJ', 'IN', 'DT', 'NNP', 'IN', 'NNP', 'NNP', 'NNP', 'VBP', 'RB', 'VBG', '.']\n",
            "['B', 'B', 'I', 'B', 'I', 'I', 'B', 'B', 'B', 'I', 'O', 'O', 'B', 'B', 'B', 'I', 'B', 'I', 'B', 'I', 'B', 'B', 'I', 'I', 'B', 'I', 'I', 'O']\n",
            "['B', 'I', 'I', 'B', 'I', 'I', 'B', 'B', 'B', 'I', 'O', 'O', 'B', 'B', 'B', 'I', 'B', 'I', 'B', 'I', 'B', 'B', 'I', 'I', 'B', 'O', 'B', 'O']\n",
            "====================\n",
            "['One', 'oov', 'oov', 'who', 'oov', 'oov', 'using', 'junk', 'bonds', 'was', 'oov', 'Communications', 'Inc.', 'in', 'its', 'initial', 'offer', 'to', 'acquire', 'Time', 'Inc.', 'for', '$', 'oov', 'billion', ',', 'or', '$', 'oov', 'a', 'share', '.']\n",
            "['CD', 'JJ', 'NN', 'WP', 'RB', 'VBN', 'VBG', 'NN', 'NNS', 'VBD', 'NNP', 'NNP', 'NNP', 'IN', 'PRP$', 'JJ', 'NN', 'TO', 'VB', 'NNP', 'NNP', 'IN', '$', 'CD', 'CD', ',', 'CC', '$', 'CD', 'DT', 'NN', '.']\n",
            "['B', 'I', 'I', 'B', 'B', 'I', 'I', 'B', 'I', 'B', 'B', 'I', 'I', 'B', 'B', 'I', 'I', 'B', 'I', 'B', 'I', 'B', 'B', 'I', 'I', 'O', 'O', 'B', 'I', 'B', 'I', 'O']\n",
            "['B', 'I', 'I', 'B', 'B', 'B', 'I', 'B', 'I', 'B', 'B', 'I', 'I', 'B', 'B', 'I', 'I', 'B', 'I', 'B', 'I', 'B', 'B', 'I', 'I', 'O', 'O', 'B', 'I', 'B', 'I', 'O']\n",
            "====================\n",
            "['``', 'The', 'oov', 'is', 'only', 'fair', ',', \"''\", 'says', 'oov', 'Roberts', ',', 'administrative', 'director', 'of', 'the', 'Texas', 'oov', 'to', 'oov', 'Committee', '.']\n",
            "['``', 'DT', 'NN', 'VBZ', 'RB', 'JJ', ',', \"''\", 'VBZ', 'NNP', 'NNP', ',', 'JJ', 'NN', 'IN', 'DT', 'NNP', 'NNP', 'TO', 'NNP', 'NNP', '.']\n",
            "['O', 'B', 'I', 'B', 'B', 'I', 'O', 'O', 'B', 'B', 'I', 'O', 'B', 'I', 'B', 'B', 'I', 'I', 'B', 'B', 'I', 'O']\n",
            "['O', 'B', 'I', 'B', 'B', 'B', 'O', 'O', 'B', 'B', 'I', 'O', 'B', 'I', 'B', 'O', 'O', 'O', 'B', 'B', 'B', 'O']\n",
            "====================\n",
            "['oov', 'interest', 'in', 'International', 'Business', 'Machines', 'Corp.', 'plunged', 'to', 'oov', 'shares', 'from', 'oov', 'shares', 'a', 'month', 'earlier', '.']\n",
            "['JJ', 'NN', 'IN', 'NNP', 'NNP', 'NNP', 'NNP', 'VBD', 'TO', 'CD', 'NNS', 'IN', 'CD', 'VBZ', 'DT', 'NN', 'RBR', '.']\n",
            "['B', 'I', 'B', 'B', 'I', 'I', 'I', 'B', 'B', 'B', 'I', 'B', 'B', 'B', 'B', 'I', 'B', 'O']\n",
            "['B', 'I', 'B', 'B', 'I', 'I', 'I', 'B', 'B', 'B', 'I', 'B', 'B', 'I', 'B', 'I', 'B', 'O']\n",
            "====================\n",
            "['Coca-Cola', 'Co.', 'said', 'it', 'produced', 'a', 'new', 'version', 'of', 'its', '1971', '``', 'I', \"'d\", 'like', 'to', 'oov', 'the', 'world', 'to', 'oov', \"''\", 'commercial', '.']\n",
            "['NNP', 'NNP', 'VBD', 'PRP', 'VBD', 'DT', 'JJ', 'NN', 'IN', 'PRP$', 'CD', '``', 'PRP', 'MD', 'VB', 'TO', 'VB', 'DT', 'NN', 'TO', 'VB', \"''\", 'JJ', '.']\n",
            "['B', 'I', 'B', 'B', 'B', 'B', 'I', 'I', 'B', 'B', 'I', 'O', 'B', 'B', 'I', 'B', 'I', 'B', 'I', 'B', 'I', 'O', 'B', 'O']\n",
            "['B', 'I', 'B', 'B', 'B', 'B', 'I', 'I', 'B', 'O', 'O', 'O', 'B', 'B', 'I', 'I', 'I', 'B', 'I', 'B', 'I', 'B', 'I', 'O']\n",
            "====================\n",
            "['Corporate', 'due', 'process', 'oov', 'to', 'management', 'for', 'a', 'variety', 'of', 'reasons', '.']\n",
            "['JJ', 'JJ', 'NN', 'NNS', 'TO', 'NN', 'IN', 'DT', 'NN', 'IN', 'NNS', '.']\n",
            "['B', 'I', 'I', 'I', 'B', 'B', 'B', 'B', 'I', 'B', 'B', 'O']\n",
            "['B', 'I', 'I', 'B', 'B', 'B', 'B', 'B', 'I', 'B', 'B', 'O']\n",
            "====================\n",
            "['Mr.', 'oov', 'complained', 'that', 'he', 'was', '``', 'oov', 'off', \"''\", 'that', 'oov', 'President', 'Dan', 'oov', ',', 'who', 'oov', 'the', 'earthquake', 'oov', 'Wednesday', ',', 'did', \"n't\", 'schedule', 'a', 'private', 'meeting', 'with', 'him', '.']\n",
            "['NNP', 'NNP', 'VBD', 'IN', 'PRP', 'VBD', '``', 'VBD', 'IN', \"''\", 'IN', 'NNP', 'NNP', 'NNP', 'NNP', ',', 'WP', 'VBD', 'DT', 'NN', 'NN', 'NNP', ',', 'VBD', 'RB', 'VB', 'DT', 'JJ', 'NN', 'IN', 'PRP', '.']\n",
            "['B', 'I', 'B', 'B', 'B', 'B', 'O', 'B', 'B', 'O', 'B', 'B', 'I', 'I', 'I', 'O', 'B', 'B', 'B', 'I', 'I', 'I', 'O', 'B', 'I', 'I', 'B', 'I', 'I', 'B', 'B', 'O']\n",
            "['B', 'I', 'B', 'B', 'B', 'B', 'I', 'I', 'B', 'O', 'B', 'B', 'I', 'I', 'I', 'O', 'B', 'B', 'B', 'I', 'I', 'B', 'O', 'B', 'I', 'I', 'B', 'I', 'I', 'B', 'B', 'O']\n",
            "====================\n",
            "['The', 'time', 'is', 'Pacific', 'oov', 'Time', ',', 'and', 'the', 'oov', 'or', 'oov', 'are', 'those', 'subscribers', 'use', 'to', 'identify', 'themselves', '.']\n",
            "['DT', 'NN', 'VBZ', 'NNP', 'NNP', 'NNP', ',', 'CC', 'DT', 'NNS', 'CC', 'NNS', 'VBP', 'DT', 'NNS', 'VBP', 'TO', 'VB', 'PRP', '.']\n",
            "['B', 'I', 'B', 'B', 'I', 'I', 'O', 'O', 'B', 'I', 'O', 'I', 'B', 'B', 'I', 'B', 'B', 'I', 'B', 'O']\n",
            "['B', 'I', 'B', 'B', 'I', 'I', 'O', 'O', 'B', 'I', 'I', 'I', 'B', 'B', 'B', 'B', 'B', 'I', 'B', 'O']\n",
            "====================\n",
            "['Before', 'the', 'takeover', 'mania', 'of', 'the', 'oov', ',', 'it', 'oov', 'to', 'oov', 'out', 'through', 'analysis', 'oov', 'stocks', ',', 'especially', 'those', 'with', 'oov', 'management', ',', 'sound', 'fundamentals', 'and', 'oov', 'prospects', '.']\n",
            "['IN', 'DT', 'NN', 'NN', 'IN', 'DT', 'NNS', ',', 'PRP', 'VBD', 'TO', 'VBG', 'IN', 'IN', 'NN', 'VBD', 'NNS', ',', 'RB', 'DT', 'IN', 'JJ', 'NN', ',', 'NN', 'NNS', 'CC', 'JJ', 'NNS', '.']\n",
            "['B', 'B', 'I', 'I', 'B', 'B', 'I', 'O', 'B', 'B', 'B', 'B', 'B', 'B', 'B', 'B', 'B', 'O', 'B', 'B', 'B', 'B', 'I', 'O', 'B', 'I', 'O', 'B', 'I', 'O']\n",
            "['B', 'B', 'I', 'I', 'B', 'B', 'I', 'O', 'B', 'B', 'B', 'B', 'B', 'B', 'B', 'B', 'I', 'O', 'B', 'B', 'B', 'B', 'I', 'O', 'B', 'I', 'O', 'B', 'I', 'O']\n",
            "====================\n",
            "['In', 'the', 'long', ',', 'oov', 'night', 'after', 'Tuesday', \"'s\", 'oov', 'earthquake', ',', 'Bay', 'oov', 'oov', 'searched', 'for', 'comfort', 'and', 'oov', 'oov', 'they', 'could', '.']\n",
            "['IN', 'DT', 'JJ', ',', 'JJ', 'NN', 'IN', 'NNP', 'POS', 'JJ', 'NN', ',', 'NNP', 'NNP', 'NNS', 'VBD', 'IN', 'NN', 'CC', 'NN', 'WRB', 'PRP', 'MD', '.']\n",
            "['B', 'B', 'I', 'O', 'I', 'I', 'B', 'B', 'B', 'I', 'I', 'O', 'B', 'I', 'I', 'B', 'B', 'B', 'O', 'B', 'B', 'B', 'B', 'O']\n",
            "['B', 'B', 'I', 'I', 'I', 'I', 'B', 'B', 'B', 'I', 'I', 'O', 'B', 'I', 'I', 'B', 'B', 'B', 'I', 'I', 'B', 'B', 'B', 'O']\n",
            "====================\n",
            "['Small', 'businesses', 'in', 'general', 'account', 'for', 'almost', '40', '%', 'of', 'oov', 'personal', 'income', ',', 'the', 'IRS', 'has', 'said', '.']\n",
            "['JJ', 'NNS', 'IN', 'JJ', 'NN', 'IN', 'RB', 'CD', 'NN', 'IN', 'JJ', 'JJ', 'NN', ',', 'DT', 'NNP', 'VBZ', 'VBD', '.']\n",
            "['B', 'I', 'B', 'B', 'I', 'B', 'B', 'I', 'I', 'B', 'B', 'I', 'I', 'O', 'B', 'I', 'B', 'B', 'O']\n",
            "['B', 'I', 'B', 'B', 'B', 'B', 'B', 'I', 'I', 'B', 'B', 'I', 'I', 'O', 'B', 'I', 'B', 'I', 'O']\n",
            "====================\n",
            "['She', 'says', 'her', 'group', 'used', 'to', 'give', 'tips', 'on', 'oov', 'oov', '--', 'check', 'oov', 'and', 'experience', 'oov', ',', 'consult', 'regulators', 'and', 'oov', 'Business', 'oov', '--', 'but', 'found', 'that', 'even', 'some', 'people', 'who', 'took', 'these', 'steps', '``', 'were', 'still', 'getting', 'oov', 'off', '.', \"''\"]\n",
            "['PRP', 'VBZ', 'PRP$', 'NN', 'VBN', 'TO', 'VB', 'NNS', 'IN', 'VBG', 'NNS', ':', 'NN', 'JJ', 'CC', 'NN', 'NNS', ',', 'VB', 'NNS', 'CC', 'NNP', 'NNP', 'NNP', ':', 'CC', 'VBD', 'IN', 'RB', 'DT', 'NNS', 'WP', 'VBD', 'DT', 'NNS', '``', 'VBD', 'RB', 'VBG', 'VBN', 'IN', '.', \"''\"]\n",
            "['B', 'B', 'B', 'I', 'B', 'B', 'I', 'B', 'B', 'B', 'I', 'O', 'B', 'I', 'I', 'I', 'I', 'O', 'B', 'B', 'O', 'B', 'I', 'I', 'O', 'O', 'B', 'B', 'B', 'I', 'I', 'B', 'B', 'B', 'I', 'O', 'B', 'I', 'I', 'B', 'B', 'O', 'O']\n",
            "['B', 'B', 'B', 'I', 'B', 'I', 'I', 'B', 'B', 'B', 'B', 'O', 'B', 'B', 'I', 'I', 'I', 'O', 'B', 'B', 'O', 'B', 'I', 'I', 'O', 'O', 'B', 'B', 'B', 'I', 'I', 'B', 'B', 'B', 'I', 'O', 'B', 'I', 'I', 'I', 'B', 'O', 'O']\n",
            "====================\n",
            "['But', 'the', 'company', 'said', 'the', 'amount', 'ca', \"n't\", 'be', 'determined', 'until', 'it', 'knows', 'how', 'many', 'managers', 'oov', 'to', 'retire', '.']\n",
            "['CC', 'DT', 'NN', 'VBD', 'DT', 'NN', 'MD', 'RB', 'VB', 'VBN', 'IN', 'PRP', 'VBZ', 'WRB', 'JJ', 'NNS', 'VBP', 'TO', 'VB', '.']\n",
            "['O', 'B', 'I', 'B', 'B', 'I', 'B', 'I', 'I', 'I', 'B', 'B', 'B', 'B', 'B', 'I', 'B', 'B', 'I', 'O']\n",
            "['O', 'B', 'I', 'B', 'B', 'I', 'B', 'I', 'I', 'I', 'B', 'B', 'B', 'B', 'I', 'I', 'B', 'I', 'I', 'O']\n",
            "====================\n",
            "['oov', 'attracted', 'investors', 'because', 'of', 'their', 'land', 'property', 'holdings', 'that', 'could', 'figure', 'in', 'development', 'or', 'other', 'plans', ',', 'traders', 'said', '.']\n",
            "['NNP', 'VBD', 'NNS', 'IN', 'IN', 'PRP$', 'NN', 'NN', 'NNS', 'WDT', 'MD', 'VB', 'IN', 'NN', 'CC', 'JJ', 'NNS', ',', 'NNS', 'VBD', '.']\n",
            "['B', 'B', 'B', 'B', 'B', 'B', 'I', 'I', 'I', 'B', 'B', 'I', 'B', 'B', 'O', 'B', 'I', 'O', 'B', 'B', 'O']\n",
            "['B', 'B', 'B', 'B', 'I', 'B', 'I', 'I', 'I', 'B', 'B', 'I', 'B', 'B', 'O', 'B', 'I', 'O', 'B', 'B', 'O']\n",
            "====================\n",
            "['oov', 'might', 'be', 'able', 'to', 'tell', 'oov', 'daily', ',', 'for', 'instance', ',', 'about', 'oov', 'equipment', ',', 'so', 'they', 'could', 'offer', 'oov', 'on', 'oov', 'that', 'equipment', 'oov', '.']\n",
            "['NNS', 'MD', 'VB', 'JJ', 'TO', 'VB', 'NN', 'JJ', ',', 'IN', 'NN', ',', 'IN', 'JJ', 'NN', ',', 'IN', 'PRP', 'MD', 'VB', 'NNS', 'IN', 'WDT', 'DT', 'NN', 'VBZ', '.']\n",
            "['B', 'B', 'I', 'B', 'B', 'I', 'B', 'B', 'O', 'B', 'B', 'O', 'B', 'I', 'I', 'O', 'B', 'B', 'B', 'I', 'B', 'B', 'B', 'B', 'I', 'B', 'O']\n",
            "['B', 'B', 'I', 'B', 'B', 'I', 'B', 'B', 'O', 'B', 'B', 'O', 'B', 'B', 'I', 'O', 'B', 'B', 'B', 'I', 'B', 'B', 'B', 'B', 'I', 'B', 'O']\n",
            "====================\n",
            "['Mr.', 'oov', 'was', 'the', 'subject', 'of', 'a', 'page', 'one', 'profile', 'in', 'The', 'Wall', 'Street', 'Journal', 'in', '1984', ',', 'after', 'the', 'SEC', 'oov', 'him', 'about', 'ties', 'between', 'him', 'and', 'companies', 'he', 'oov', 'in', 'a', 'oov', '.']\n",
            "['NNP', 'NNP', 'VBD', 'DT', 'NN', 'IN', 'DT', 'NN', 'CD', 'NN', 'IN', 'DT', 'NNP', 'NNP', 'NNP', 'IN', 'CD', ',', 'IN', 'DT', 'NNP', 'VBD', 'PRP', 'IN', 'NNS', 'IN', 'PRP', 'CC', 'NNS', 'PRP', 'VBD', 'IN', 'DT', 'NN', '.']\n",
            "['B', 'I', 'B', 'B', 'I', 'B', 'B', 'I', 'I', 'I', 'B', 'B', 'I', 'I', 'I', 'B', 'B', 'O', 'B', 'B', 'I', 'B', 'B', 'B', 'I', 'B', 'B', 'O', 'B', 'B', 'B', 'B', 'B', 'I', 'O']\n",
            "['B', 'I', 'B', 'B', 'I', 'B', 'B', 'I', 'I', 'I', 'B', 'B', 'I', 'I', 'I', 'B', 'B', 'O', 'B', 'B', 'I', 'B', 'B', 'B', 'B', 'B', 'B', 'O', 'B', 'B', 'B', 'B', 'B', 'I', 'O']\n",
            "====================\n",
            "['oov', 'operations', 'and', 'assets', 'have', 'been', 'sold', '.']\n",
            "['JJ', 'NNS', 'CC', 'NNS', 'VBP', 'VBN', 'VBN', '.']\n",
            "['B', 'I', 'I', 'I', 'B', 'I', 'I', 'O']\n",
            "['B', 'I', 'O', 'B', 'B', 'I', 'I', 'O']\n",
            "====================\n",
            "['Neither', 'she', 'nor', 'other', 'real-estate', 'executives', 'and', 'brokers', 'could', 'project', 'how', 'much', 'less', 'oov', 'properties', 'might', 'bring', ',', 'but', 'she', 'said', 'the', 'oov', 'price', 'structure', 'would', 'affect', 'prices', '``', 'for', 'a', 'while', '.', \"''\"]\n",
            "['CC', 'PRP', 'CC', 'JJ', 'NN', 'NNS', 'CC', 'NNS', 'MD', 'VB', 'WRB', 'RB', 'JJR', 'NNP', 'NNS', 'MD', 'VB', ',', 'CC', 'PRP', 'VBD', 'DT', 'JJ', 'NN', 'NN', 'MD', 'VB', 'NNS', '``', 'IN', 'DT', 'NN', '.', \"''\"]\n",
            "['O', 'B', 'O', 'B', 'I', 'I', 'O', 'I', 'B', 'I', 'B', 'B', 'I', 'I', 'I', 'B', 'I', 'O', 'O', 'B', 'B', 'B', 'I', 'I', 'I', 'B', 'I', 'B', 'O', 'B', 'B', 'I', 'O', 'O']\n",
            "['O', 'B', 'O', 'B', 'I', 'I', 'I', 'I', 'B', 'I', 'B', 'I', 'I', 'B', 'I', 'B', 'I', 'O', 'O', 'B', 'B', 'B', 'I', 'I', 'I', 'B', 'I', 'B', 'O', 'B', 'B', 'I', 'O', 'O']\n",
            "====================\n",
            "['After', 'oov', 'oov', 'from', 'oov', 'producers', ',', 'this', 'branch', 'got', 'the', 'other', 'branch', 'to', 'oov', 'its', 'approval', ',', 'thus', 'oov', 'the', 'machine', \"'s\", 'potential', 'market', 'to', 'oov', 'and', 'restaurants', 'and', 'other', 'oov', 'that', 'are', \"n't\", 'regulated', 'by', 'the', 'oov', '.']\n",
            "['IN', 'VBG', 'NNS', 'IN', 'NN', 'NNS', ',', 'DT', 'NN', 'VBD', 'DT', 'JJ', 'NN', 'TO', 'VB', 'PRP$', 'NN', ',', 'RB', 'VBG', 'DT', 'NN', 'POS', 'JJ', 'NN', 'TO', 'NNS', 'CC', 'NNS', 'CC', 'JJ', 'NNS', 'WDT', 'VBP', 'RB', 'VBN', 'IN', 'DT', 'NNP', '.']\n",
            "['B', 'B', 'B', 'B', 'B', 'I', 'O', 'B', 'I', 'B', 'B', 'I', 'I', 'B', 'I', 'B', 'I', 'O', 'B', 'I', 'B', 'I', 'B', 'I', 'I', 'B', 'B', 'I', 'B', 'O', 'B', 'I', 'B', 'B', 'I', 'I', 'B', 'B', 'I', 'O']\n",
            "['B', 'B', 'B', 'B', 'B', 'I', 'O', 'B', 'I', 'B', 'B', 'I', 'I', 'B', 'I', 'B', 'I', 'O', 'B', 'B', 'B', 'I', 'B', 'I', 'I', 'B', 'B', 'O', 'B', 'O', 'B', 'I', 'B', 'B', 'I', 'I', 'B', 'B', 'I', 'O']\n",
            "====================\n",
            "['Had', 'oov', 'been', 'available', 'in', 'oov', 'and', 'had', 'parents', 'bought', 'a', 'face', 'amount', 'equal', 'to', 'four', 'years', \"'\", 'oov', 'at', 'the', 'time', ',', 'oov', 'for', 'their', 'children', \"'s\", '1988', 'oov', ',', 'they', 'would', 'have', 'been', 'left', 'with', 'only', 'enough', 'to', 'pay', 'for', 'two', 'years', ',', 'Mr.', 'Anderson', 'figures', '.']\n",
            "['VBD', 'NNS', 'VBN', 'JJ', 'IN', 'CD', 'CC', 'VBD', 'NNS', 'VBD', 'DT', 'NN', 'NN', 'JJ', 'TO', 'CD', 'NNS', 'POS', 'NN', 'IN', 'DT', 'NN', ',', 'VBG', 'IN', 'PRP$', 'NNS', 'POS', 'CD', 'NN', ',', 'PRP', 'MD', 'VB', 'VBN', 'VBN', 'IN', 'RB', 'RB', 'TO', 'VB', 'IN', 'CD', 'NNS', ',', 'NNP', 'NNP', 'VBZ', '.']\n",
            "['B', 'B', 'I', 'B', 'B', 'B', 'I', 'B', 'B', 'B', 'B', 'I', 'I', 'B', 'B', 'B', 'I', 'B', 'I', 'B', 'B', 'I', 'O', 'B', 'B', 'B', 'I', 'B', 'I', 'I', 'O', 'B', 'B', 'I', 'I', 'I', 'B', 'B', 'I', 'B', 'I', 'B', 'B', 'I', 'O', 'B', 'I', 'B', 'O']\n",
            "['O', 'B', 'B', 'B', 'B', 'B', 'O', 'O', 'B', 'B', 'B', 'I', 'I', 'B', 'B', 'B', 'I', 'B', 'I', 'B', 'B', 'I', 'O', 'B', 'B', 'B', 'I', 'B', 'I', 'I', 'O', 'B', 'B', 'I', 'I', 'I', 'B', 'B', 'I', 'B', 'I', 'B', 'B', 'I', 'O', 'B', 'I', 'B', 'O']\n",
            "====================\n",
            "['The', 'three', 'of', 'us', 'stopped', 'breathing', 'for', 'a', 'moment', ',', 'and', 'then', 'when', 'it', 'kept', 'on', 'coming', 'we', 'oov', 'for', 'the', 'oov', '.']\n",
            "['DT', 'CD', 'IN', 'PRP', 'VBD', 'NN', 'IN', 'DT', 'NN', ',', 'CC', 'RB', 'WRB', 'PRP', 'VBD', 'IN', 'VBG', 'PRP', 'VBD', 'IN', 'DT', 'NN', '.']\n",
            "['B', 'I', 'B', 'B', 'B', 'B', 'B', 'B', 'I', 'O', 'O', 'B', 'B', 'B', 'B', 'B', 'B', 'B', 'B', 'B', 'B', 'I', 'O']\n",
            "['B', 'I', 'B', 'B', 'B', 'I', 'B', 'B', 'I', 'O', 'O', 'O', 'B', 'B', 'B', 'B', 'B', 'B', 'B', 'B', 'B', 'I', 'O']\n",
            "====================\n",
            "['Indeed', '.', 'oov', ',', 'the', 'trust', 'failed', 'to', 'auction', 'off', 'the', 'paper', 'mill', ',', 'a', 'bank', ',', 'an', 'office', 'building', 'and', 'a', 'small', 'oov', 'plant', '.']\n",
            "['RB', '.', 'RB', ',', 'DT', 'NN', 'VBD', 'TO', 'VB', 'IN', 'DT', 'NN', 'NN', ',', 'DT', 'NN', ',', 'DT', 'NN', 'NN', 'CC', 'DT', 'JJ', 'JJ', 'NN', '.']\n",
            "['B', 'O', 'B', 'O', 'B', 'I', 'B', 'B', 'I', 'B', 'B', 'I', 'I', 'O', 'B', 'I', 'O', 'B', 'I', 'I', 'O', 'B', 'I', 'I', 'I', 'O']\n",
            "['B', 'O', 'B', 'O', 'B', 'I', 'B', 'I', 'I', 'B', 'B', 'I', 'I', 'O', 'B', 'I', 'O', 'B', 'I', 'I', 'O', 'B', 'I', 'I', 'I', 'O']\n",
            "====================\n",
            "['-LRB-', 'Mr.', 'oov', ',', 'who', 'was', 'oov', 'in', 'Florida', 'state', 'court', 'of', 'selling', 'oov', 'securities', 'and', 'in', 'California', 'state', 'court', 'of', 'oov', 'use', 'of', 'the', 'telephone', 'to', 'oov', 'and', 'oov', ',', 'is', 'now', 'on', 'oov', '.']\n",
            "['(', 'NNP', 'NNP', ',', 'WP', 'VBD', 'VBN', 'IN', 'NNP', 'NN', 'NN', 'IN', 'VBG', 'JJ', 'NNS', 'CC', 'IN', 'NNP', 'NN', 'NN', 'IN', 'JJ', 'NN', 'IN', 'DT', 'NN', 'TO', 'VB', 'CC', 'VB', ',', 'VBZ', 'RB', 'IN', 'NN', '.']\n",
            "['O', 'B', 'I', 'O', 'B', 'B', 'I', 'B', 'B', 'I', 'I', 'B', 'B', 'B', 'I', 'O', 'B', 'B', 'I', 'I', 'B', 'B', 'I', 'B', 'B', 'I', 'B', 'I', 'O', 'B', 'O', 'B', 'B', 'B', 'B', 'O']\n",
            "['O', 'B', 'I', 'O', 'B', 'B', 'I', 'B', 'B', 'I', 'I', 'B', 'B', 'B', 'I', 'O', 'B', 'B', 'I', 'I', 'B', 'B', 'I', 'B', 'B', 'I', 'B', 'I', 'I', 'I', 'O', 'B', 'B', 'B', 'B', 'O']\n",
            "====================\n",
            "['Charles', 'oov', ',', 'oov', 'of', 'oov', 'and', 'acquisitions', 'at', 'Salomon', 'Brothers', 'Inc.', ',', 'says', 'it', 'is', 'natural', 'for', 'banks', 'to', 'try', 'to', 'expand', 'beyond', 'their', 'oov', 'business', 'of', 'providing', 'senior', 'debt', 'for', 'buy-outs', '.']\n",
            "['NNP', 'NNP', ',', 'NN', 'IN', 'NNS', 'CC', 'NNS', 'IN', 'NNP', 'NNP', 'NNP', ',', 'VBZ', 'PRP', 'VBZ', 'JJ', 'IN', 'NNS', 'TO', 'VB', 'TO', 'VB', 'IN', 'PRP$', 'JJ', 'NN', 'IN', 'VBG', 'JJ', 'NN', 'IN', 'NNS', '.']\n",
            "['B', 'I', 'O', 'B', 'B', 'B', 'I', 'I', 'B', 'B', 'I', 'I', 'O', 'B', 'B', 'B', 'B', 'B', 'B', 'B', 'I', 'B', 'I', 'B', 'B', 'I', 'I', 'B', 'B', 'B', 'I', 'B', 'B', 'O']\n",
            "['B', 'I', 'O', 'B', 'B', 'B', 'I', 'I', 'B', 'B', 'I', 'I', 'O', 'B', 'B', 'B', 'B', 'B', 'B', 'B', 'I', 'I', 'I', 'B', 'B', 'I', 'I', 'B', 'B', 'B', 'I', 'B', 'B', 'O']\n",
            "====================\n",
            "['The', 'earthquake', 'is', 'likely', 'to', 'reduce', 'oov', 'oov', 'in', 'the', 'near', 'term', 'and', 'then', 'could', 'raise', 'it', 'a', 'bit', 'as', 'rebuilding', 'oov', '.']\n",
            "['DT', 'NN', 'VBZ', 'JJ', 'TO', 'VB', 'NNP', 'RB', 'IN', 'DT', 'JJ', 'NN', 'CC', 'RB', 'MD', 'VB', 'PRP', 'DT', 'NN', 'IN', 'VBG', 'VBZ', '.']\n",
            "['B', 'I', 'B', 'B', 'B', 'I', 'B', 'B', 'B', 'B', 'I', 'I', 'O', 'B', 'B', 'I', 'B', 'B', 'I', 'B', 'B', 'B', 'O']\n",
            "['B', 'I', 'B', 'B', 'B', 'I', 'B', 'B', 'B', 'B', 'I', 'I', 'O', 'O', 'B', 'I', 'B', 'B', 'I', 'B', 'B', 'B', 'O']\n",
            "====================\n",
            "['oov', 'Corp.', 'jumped', '$', '1.125', 'to', '$', 'oov', 'and', 'Chevron', 'Corp.', ',', 'despite', 'a', 'temporary', 'oov', 'shutdown', ',', 'rose', '$', '1', 'to', '$', '65', '.']\n",
            "['NNP', 'NNP', 'VBD', '$', 'CD', 'TO', '$', 'CD', 'CC', 'NNP', 'NNP', ',', 'IN', 'DT', 'JJ', 'NN', 'NN', ',', 'VBD', '$', 'CD', 'TO', '$', 'CD', '.']\n",
            "['B', 'I', 'B', 'B', 'I', 'B', 'B', 'I', 'I', 'I', 'I', 'O', 'B', 'B', 'I', 'I', 'I', 'O', 'B', 'B', 'I', 'B', 'B', 'I', 'O']\n",
            "['B', 'I', 'B', 'B', 'I', 'B', 'B', 'I', 'O', 'B', 'I', 'O', 'B', 'B', 'I', 'I', 'I', 'O', 'B', 'B', 'I', 'B', 'B', 'I', 'O']\n",
            "====================\n",
            "['But', 'in', 'oov', 'material', 'for', 'the', 'campaign', ',', 'the', 'trade', 'group', 'oov', 'members', 'to', '``', 'arm', \"''\", 'for', 'a', '``', 'oov', \"''\", 'against', 'big', ',', 'oov', 'oov', 'companies', '.']\n",
            "['CC', 'IN', 'JJ', 'NN', 'IN', 'DT', 'NN', ',', 'DT', 'NN', 'NN', 'VBZ', 'NNS', 'TO', '``', 'NN', \"''\", 'IN', 'DT', '``', 'NN', \"''\", 'IN', 'JJ', ',', 'JJ', 'JJ', 'NNS', '.']\n",
            "['O', 'B', 'B', 'I', 'B', 'B', 'I', 'O', 'B', 'I', 'I', 'B', 'B', 'B', 'O', 'B', 'O', 'B', 'B', 'I', 'I', 'O', 'B', 'B', 'I', 'I', 'I', 'I', 'O']\n",
            "['O', 'B', 'B', 'I', 'B', 'B', 'I', 'O', 'B', 'I', 'I', 'B', 'B', 'B', 'I', 'I', 'O', 'B', 'B', 'I', 'I', 'O', 'B', 'B', 'I', 'I', 'I', 'I', 'O']\n",
            "====================\n",
            "['oov', 'of', 'the', 'bill', 'are', 'concerned', 'an', 'airline', 'might', 'oov', 'costly', 'safety', 'measures', 'in', 'order', 'to', 'repay', 'debt', '.']\n",
            "['NNS', 'IN', 'DT', 'NN', 'VBP', 'VBN', 'DT', 'NN', 'MD', 'VB', 'JJ', 'NN', 'NNS', 'IN', 'NN', 'TO', 'VB', 'NN', '.']\n",
            "['B', 'B', 'B', 'I', 'B', 'I', 'B', 'I', 'B', 'I', 'B', 'I', 'I', 'B', 'B', 'B', 'I', 'B', 'O']\n",
            "['B', 'B', 'B', 'I', 'B', 'B', 'B', 'I', 'B', 'I', 'B', 'I', 'I', 'B', 'O', 'B', 'I', 'B', 'O']\n",
            "====================\n",
            "['``', 'It', 'oov', 'almost', 'product', 'de', 'oov', ',', \"''\", 'oov', 'one', 'account', 'executive', 'at', 'Dean', 'Witter', '.']\n",
            "['``', 'PRP', 'PRP', 'JJ', 'NN', 'FW', 'FW', ',', \"''\", 'VBZ', 'CD', 'NN', 'NN', 'IN', 'NNP', 'NNP', '.']\n",
            "['O', 'B', 'B', 'B', 'I', 'B', 'B', 'O', 'O', 'B', 'B', 'I', 'B', 'B', 'B', 'I', 'O']\n",
            "['O', 'B', 'B', 'B', 'B', 'I', 'I', 'O', 'O', 'B', 'B', 'I', 'I', 'B', 'B', 'I', 'O']\n",
            "====================\n",
            "['Most', 'short-term', 'certificates', 'of', 'deposit', 'are', 'yielding', 'about', '8', '%', 'or', 'less', 'at', 'major', 'banks', ',', 'and', 'the', 'yields', 'on', 'Treasury', 'bills', 'sold', 'at', 'Monday', \"'s\", 'auction', 'fell', 'to', 'oov', '%', 'for', 'three', 'months', 'and', '7.82', '%', 'for', 'six', 'months', '.']\n",
            "['JJS', 'JJ', 'NNS', 'IN', 'NN', 'VBP', 'VBG', 'IN', 'CD', 'NN', 'CC', 'JJR', 'IN', 'JJ', 'NNS', ',', 'CC', 'DT', 'NNS', 'IN', 'NNP', 'NNS', 'VBN', 'IN', 'NNP', 'POS', 'NN', 'VBD', 'TO', 'CD', 'NN', 'IN', 'CD', 'NNS', 'CC', 'CD', 'NN', 'IN', 'CD', 'NNS', '.']\n",
            "['B', 'I', 'I', 'B', 'B', 'B', 'I', 'B', 'I', 'I', 'O', 'B', 'B', 'B', 'I', 'O', 'O', 'B', 'I', 'B', 'B', 'I', 'B', 'B', 'B', 'B', 'I', 'B', 'B', 'B', 'I', 'B', 'B', 'I', 'O', 'B', 'I', 'B', 'B', 'I', 'O']\n",
            "['B', 'I', 'I', 'B', 'B', 'B', 'I', 'B', 'I', 'I', 'I', 'I', 'B', 'B', 'I', 'O', 'O', 'B', 'I', 'B', 'B', 'I', 'B', 'B', 'B', 'B', 'I', 'B', 'B', 'B', 'I', 'B', 'B', 'I', 'O', 'B', 'I', 'B', 'B', 'I', 'O']\n",
            "====================\n",
            "['``', 'The', 'market', 'is', 'concerned', 'about', 'its', 'ability', 'to', 'oov', 'all', 'this', 'debt', 'at', 'current', 'levels', '.', \"''\"]\n",
            "['``', 'DT', 'NN', 'VBZ', 'VBN', 'IN', 'PRP$', 'NN', 'TO', 'VB', 'PDT', 'DT', 'NN', 'IN', 'JJ', 'NNS', '.', \"''\"]\n",
            "['O', 'B', 'I', 'B', 'I', 'B', 'B', 'I', 'B', 'I', 'B', 'B', 'I', 'B', 'B', 'I', 'O', 'O']\n",
            "['O', 'B', 'I', 'B', 'B', 'B', 'B', 'I', 'B', 'I', 'B', 'I', 'I', 'B', 'B', 'I', 'O', 'O']\n",
            "====================\n"
          ],
          "name": "stdout"
        }
      ]
    },
    {
      "cell_type": "code",
      "metadata": {
        "id": "1k1lTtiOj6oM",
        "outputId": "5f531c82-e52c-41d8-88fc-43263bc26682",
        "colab": {
          "base_uri": "https://localhost:8080/",
          "height": 158
        }
      },
      "source": [
        "print(model)"
      ],
      "execution_count": null,
      "outputs": [
        {
          "output_type": "stream",
          "text": [
            "BiLSTMNet(\n",
            "  (embeddings): Embedding(8119, 1024)\n",
            "  (embeddings2): Embedding(44, 1024)\n",
            "  (bilstm): LSTM(2048, 1024, batch_first=True, bidirectional=True)\n",
            "  (fc): Linear(in_features=2048, out_features=3, bias=True)\n",
            "  (dropout): Dropout(p=0.3, inplace=False)\n",
            "  (softmax): Softmax(dim=2)\n",
            ")\n"
          ],
          "name": "stdout"
        }
      ]
    }
  ]
}