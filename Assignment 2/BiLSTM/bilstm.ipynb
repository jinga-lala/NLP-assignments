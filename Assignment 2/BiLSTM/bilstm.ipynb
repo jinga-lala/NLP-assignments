{
  "nbformat": 4,
  "nbformat_minor": 0,
  "metadata": {
    "orig_nbformat": 2,
    "kernelspec": {
      "name": "python3",
      "display_name": "Python 3"
    },
    "colab": {
      "name": "bilstm_95.3%.ipynb",
      "provenance": []
    },
    "accelerator": "GPU"
  },
  "cells": [
    {
      "cell_type": "code",
      "metadata": {
        "id": "JJAOmpinhLbD"
      },
      "source": [
        "import numpy as np\n",
        "from numpy import unravel_index\n",
        "import nltk\n",
        "from nltk.stem import PorterStemmer\n",
        "from nltk.classify import MaxentClassifier\n",
        "from tqdm import tqdm\n",
        "import pickle\n",
        "import seaborn as sn\n",
        "import pandas as pd\n",
        "import matplotlib.pyplot as plt\n",
        "import os\n",
        "import torch\n",
        "import torch.nn as nn"
      ],
      "execution_count": 1,
      "outputs": []
    },
    {
      "cell_type": "code",
      "metadata": {
        "id": "vsSOf4lphLbL"
      },
      "source": [
        "def import_Train_Data():\n",
        "\tftrain = open(\"./CRF/assignment2dataset/train.txt\")\n",
        "\tlines = ftrain.readlines()\n",
        "\n",
        "\tSentences = []\n",
        "\tSentence_Construct = []\n",
        "\tfor line in lines:\n",
        "\t\tif line =='\\n':\n",
        "\t\t\tSentences.append(Sentence_Construct)\n",
        "\t\t\tSentence_Construct = []\n",
        "\n",
        "\t\telse:\n",
        "\t\t\tSentence_Construct.append(line)\n",
        "\n",
        "\tftrain.close()\n",
        "\treturn Sentences\n",
        "\n",
        "\n",
        "def import_Test_Data():\n",
        "\tftest = open(\"./CRF/assignment2dataset/test.txt\")\n",
        "\tlines = ftest.readlines()\n",
        "\n",
        "\tSentences = []\n",
        "\tSentence_Construct = []\n",
        "\tfor line in lines:\n",
        "\t\tif line =='\\n':\n",
        "\t\t\tSentences.append(Sentence_Construct)\n",
        "\t\t\tSentence_Construct = []\n",
        "\n",
        "\t\telse:\n",
        "\t\t\tSentence_Construct.append(line)\n",
        "\n",
        "\tftest.close()\n",
        "\treturn Sentences\n",
        "\n",
        "\n",
        "def Remove_Extra_Tag(Sentences):\n",
        "\n",
        "\tFinal_Sentences = []\n",
        "\n",
        "\tfor line in Sentences:\n",
        "\n",
        "\t\t##Adding start tag\n",
        "\t\tFinal_Line = []\n",
        "\n",
        "\t\tfor word in line:\n",
        "\t\t\tSplit_Term = word.split(\" \")\n",
        "\n",
        "\t\t\tif \"-\" in Split_Term[2]:\n",
        "\t\t\t\tFinal_Word = Split_Term[0]+\" \"+Split_Term[1]+\" \"+Split_Term[2].split(\"-\")[0]\n",
        "\t\t\t\tFinal_Line.append(Final_Word)\n",
        "\n",
        "\t\t\telse:\n",
        "\t\t\t\tFinal_Line.append(word[:-1])\n",
        "\n",
        "\t\tFinal_Sentences.append(Final_Line)\n",
        "\n",
        "\treturn Final_Sentences\n",
        "\n",
        "def Get_Tagset(Sentences):\n",
        "\n",
        "\tTagSet = []\n",
        "\n",
        "\tfor sentence in Sentences:\n",
        "\t\tfor word in sentence:\n",
        "\t\t\tTagSet.append(word.split(\" \")[2])\n",
        "\n",
        "\treturn set(TagSet)\n"
      ],
      "execution_count": 2,
      "outputs": []
    },
    {
      "cell_type": "code",
      "metadata": {
        "id": "mfB36igwhuht",
        "outputId": "ee5fbc0b-60cb-46b6-eb1d-fef8bafbb9ed",
        "colab": {
          "base_uri": "https://localhost:8080/",
          "height": 140
        }
      },
      "source": [
        "!unzip CRF.zip"
      ],
      "execution_count": 3,
      "outputs": [
        {
          "output_type": "stream",
          "text": [
            "Archive:  CRF.zip\n",
            "   creating: CRF/\n",
            "  inflating: CRF/CRF-chunking.py     \n",
            "   creating: CRF/assignment2dataset/\n",
            "  inflating: CRF/assignment2dataset/README  \n",
            "  inflating: CRF/assignment2dataset/test.txt  \n",
            "  inflating: CRF/assignment2dataset/train.txt  \n"
          ],
          "name": "stdout"
        }
      ]
    },
    {
      "cell_type": "code",
      "metadata": {
        "id": "WyVF1snWhLbQ"
      },
      "source": [
        "def build_labelled_features(Sentences):\n",
        "\n",
        "\t####Feature Set being used\n",
        "\t# 3 POS tags -> PrevtopPrev Prev Current \n",
        "\t# 2 chunk labels -> PrevtoPrev Prev\n",
        "\t# 3  word-stems -> PrevtoPrev Prev Current => Stems\n",
        "\t# Morphological Features -> isCaptital\n",
        "\n",
        "\tlabelled_features = []\n",
        "\t\n",
        "\tfor sentence in Sentences:\n",
        "\n",
        "\t\tfor word_index in range(0,len(sentence)):\n",
        "\n",
        "\t\t\tsplit_sentence = sentence[word_index].split(\" \")\n",
        "\n",
        "\t\t\tif word_index == 0:\n",
        "\t\t\t\t# print(sentence[word_index])\n",
        "\t\t\t\tcur_chunk = split_sentence[2]\n",
        "\t\t\t\tprev_to_prev_POS = 'st'\n",
        "\t\t\t\tprev_POS = 'st'\n",
        "\t\t\t\tcur_POS = split_sentence[1]\n",
        "\t\t\t\tprev_to_prev_chunk = 'st'\n",
        "\t\t\t\tprev_chunk = 'st'\n",
        "\t\t\t\tcur_stem = split_sentence[0].lower()\n",
        "\t\t\t\tprev_stem = 'st'\n",
        "\t\t\t\tprev_to_prev_stem = 'st'\n",
        "\t\t\t\tsuffix = split_sentence[0].lower().replace(os.path.commonprefix([PorterStemmer().stem(cur_stem), split_sentence[0].lower()]),'')\n",
        "\n",
        "\n",
        "\t\t\telif word_index == 1:\n",
        "\t\t\t\t# print(sentence[word_index])\n",
        "\t\t\t\tprev_split = sentence[word_index-1].split(\" \")\n",
        "\n",
        "\t\t\t\tcur_chunk = split_sentence[2]\n",
        "\t\t\t\tprev_to_prev_POS = 'st'\n",
        "\t\t\t\tprev_POS = prev_split[1]\n",
        "\t\t\t\tcur_POS = split_sentence[1]\n",
        "\t\t\t\tprev_to_prev_chunk = 'st'\n",
        "\t\t\t\tprev_chunk = prev_split[2]\n",
        "\t\t\t\tcur_stem = split_sentence[0].lower()\n",
        "\t\t\t\tprev_stem = prev_split[0].lower()\n",
        "\t\t\t\tprev_to_prev_stem = 'st'\n",
        "\t\t\t\tsuffix = split_sentence[0].lower().replace(os.path.commonprefix([PorterStemmer().stem(cur_stem), split_sentence[0].lower()]),'')\n",
        "\n",
        "\t\t\t\t\n",
        "\t\t\telse:\n",
        "\t\t\t\tprev_split1 = sentence[word_index-1].split(\" \")\n",
        "\t\t\t\tprev_split2 = sentence[word_index-2].split(\" \")\n",
        "\n",
        "\t\t\t\tcur_chunk = split_sentence[2]\n",
        "\t\t\t\tprev_to_prev_POS = prev_split2[1]\n",
        "\t\t\t\tprev_POS = prev_split1[1]\n",
        "\t\t\t\tcur_POS = split_sentence[1]\n",
        "\t\t\t\tprev_to_prev_chunk = prev_split2[2]\n",
        "\t\t\t\tprev_chunk = prev_split1[2]\n",
        "\t\t\t\tcur_stem = split_sentence[0].lower()\n",
        "\t\t\t\tprev_stem = prev_split1[0].lower()\n",
        "\t\t\t\tprev_to_prev_stem = prev_split2[0].lower()\n",
        "\t\t\t\tsuffix = split_sentence[0].lower().replace(os.path.commonprefix([PorterStemmer().stem(cur_stem), split_sentence[0].lower()]),'')\n",
        "\n",
        "\n",
        "\t\t\tlabelled_item = cur_chunk, prev_to_prev_POS, prev_POS, cur_POS, prev_to_prev_chunk, prev_chunk, cur_stem, prev_stem, prev_to_prev_stem, suffix\n",
        "\t\t\tlabelled_features.append(labelled_item)\n",
        "\n",
        "\treturn labelled_features\n"
      ],
      "execution_count": 4,
      "outputs": []
    },
    {
      "cell_type": "code",
      "metadata": {
        "id": "NP5s8JVZhLbW"
      },
      "source": [
        "Train_Sentences = import_Test_Data()\n",
        "Test_Sentences = import_Train_Data()\n",
        "\n",
        "Train_Sentences = Remove_Extra_Tag(Train_Sentences)\n",
        "Test_Sentences = Remove_Extra_Tag(Test_Sentences)"
      ],
      "execution_count": 5,
      "outputs": []
    },
    {
      "cell_type": "code",
      "metadata": {
        "id": "dU2yd5djhLba"
      },
      "source": [
        "Set_of_Tags = sorted(list(Get_Tagset(Train_Sentences)))\n",
        "# Set_of_Tags.append('st')\n",
        "indextags = {}\n",
        "\n",
        "for tag_ind in range(0,len(Set_of_Tags)):\n",
        "    indextags[Set_of_Tags[tag_ind]] = tag_ind\n"
      ],
      "execution_count": 6,
      "outputs": []
    },
    {
      "cell_type": "code",
      "metadata": {
        "id": "jCA1V32fhLbt"
      },
      "source": [
        "indexwords = {}\n",
        "indexpos = {}\n",
        "for i in range(len(Train_Sentences)):\n",
        "    for j in (Train_Sentences[i]):\n",
        "        j = j.split(' ')\n",
        "        word = j[0]\n",
        "        tag = j[1]\n",
        "        if word not in indexwords.keys():\n",
        "          indexwords[word] = len(indexwords)\n",
        "        if tag not in indexpos.keys():\n",
        "          indexpos[tag] = len(indexpos)\n",
        "indexwords['oov'] = len(indexwords)\n",
        "indexpos['oov'] = len(indexpos)"
      ],
      "execution_count": 7,
      "outputs": []
    },
    {
      "cell_type": "code",
      "metadata": {
        "id": "b8-bTIiHhLbw",
        "outputId": "7569d017-ee5a-41a2-f98c-38d6e78494fa",
        "colab": {
          "base_uri": "https://localhost:8080/",
          "height": 34
        }
      },
      "source": [
        "indexwords['oov']"
      ],
      "execution_count": null,
      "outputs": [
        {
          "output_type": "execute_result",
          "data": {
            "text/plain": [
              "8118"
            ]
          },
          "metadata": {
            "tags": []
          },
          "execution_count": 53
        }
      ]
    },
    {
      "cell_type": "code",
      "metadata": {
        "id": "XOed77YhwPoS",
        "outputId": "5144a5c9-d147-4810-96e0-f2891fba53d1",
        "colab": {
          "base_uri": "https://localhost:8080/",
          "height": 774
        }
      },
      "source": [
        "indexpos"
      ],
      "execution_count": null,
      "outputs": [
        {
          "output_type": "execute_result",
          "data": {
            "text/plain": [
              "{'#': 42,\n",
              " '$': 23,\n",
              " \"''\": 33,\n",
              " '(': 34,\n",
              " ')': 35,\n",
              " ',': 17,\n",
              " '.': 14,\n",
              " ':': 29,\n",
              " 'CC': 19,\n",
              " 'CD': 13,\n",
              " 'DT': 5,\n",
              " 'EX': 32,\n",
              " 'FW': 40,\n",
              " 'IN': 9,\n",
              " 'JJ': 6,\n",
              " 'JJR': 25,\n",
              " 'JJS': 30,\n",
              " 'MD': 27,\n",
              " 'NN': 2,\n",
              " 'NNP': 0,\n",
              " 'NNPS': 26,\n",
              " 'NNS': 12,\n",
              " 'PDT': 41,\n",
              " 'POS': 1,\n",
              " 'PRP': 4,\n",
              " 'PRP$': 8,\n",
              " 'RB': 20,\n",
              " 'RBR': 24,\n",
              " 'RBS': 39,\n",
              " 'RP': 37,\n",
              " 'TO': 10,\n",
              " 'UH': 38,\n",
              " 'VB': 11,\n",
              " 'VBD': 3,\n",
              " 'VBG': 7,\n",
              " 'VBN': 18,\n",
              " 'VBP': 16,\n",
              " 'VBZ': 15,\n",
              " 'WDT': 21,\n",
              " 'WP': 22,\n",
              " 'WP$': 36,\n",
              " 'WRB': 28,\n",
              " '``': 31}"
            ]
          },
          "metadata": {
            "tags": []
          },
          "execution_count": 55
        }
      ]
    },
    {
      "cell_type": "code",
      "metadata": {
        "id": "UssA7-W7hLbz"
      },
      "source": [
        "class MyData(torch.utils.data.Dataset):\n",
        "    def __init__(self, indexwords, indexpos, indextags, dataset_list):\n",
        "        self.indexwords = indexwords.copy()\n",
        "        self.indextags = indextags\n",
        "        self.dataset_list = dataset_list\n",
        "        self.indexpos = indexpos\n",
        "\n",
        "    def __getitem__(self, item):\n",
        "\n",
        "        sent = self.dataset_list[item]\n",
        "        wid = []\n",
        "        tagid = []\n",
        "        pid = []\n",
        "        for i in sent:\n",
        "            i = i.split(' ')\n",
        "            word = i[0]\n",
        "            tag = i[1]\n",
        "            if word not in self.indexwords.keys():\n",
        "                word = 'oov'\n",
        "            if tag not in self.indexpos.keys():\n",
        "                tag = 'oov'\n",
        "            wid.append(self.indexwords[word])\n",
        "            pid.append(self.indexpos[tag])\n",
        "            tagid.append(self.indextags[i[2]])\n",
        "        assert len(wid)==len(tagid)\n",
        "        # print(len(tagid))\n",
        "        return torch.LongTensor(wid), torch.LongTensor(pid), torch.LongTensor(tagid)\n",
        "\n",
        "    def __len__(self):\n",
        "        return len(self.dataset_list)\n"
      ],
      "execution_count": 8,
      "outputs": []
    },
    {
      "cell_type": "code",
      "metadata": {
        "id": "R4nbfgB1hLb5",
        "outputId": "a380e07b-cf04-417f-8ec5-9d86330a7a8d",
        "colab": {
          "base_uri": "https://localhost:8080/",
          "height": 34
        }
      },
      "source": [
        "gpu = 0\n",
        "device = torch.device(gpu if torch.cuda.is_available() else \"cpu\")\n",
        "if torch.cuda.is_available():\n",
        "    torch.cuda.set_device(gpu)\n",
        "print(device)"
      ],
      "execution_count": 9,
      "outputs": [
        {
          "output_type": "stream",
          "text": [
            "cuda:0\n"
          ],
          "name": "stdout"
        }
      ]
    },
    {
      "cell_type": "code",
      "metadata": {
        "id": "Pki-Csp9hLb9"
      },
      "source": [
        "BATCH_SIZE = 1"
      ],
      "execution_count": 10,
      "outputs": []
    },
    {
      "cell_type": "code",
      "metadata": {
        "id": "KkgaPhVdhLcA"
      },
      "source": [
        "train_set = MyData(indexwords, indexpos, indextags, Train_Sentences)\n",
        "train_set, val_set = torch.utils.data.random_split(train_set, [int(0.8*len(train_set)), len(train_set)-int(0.8*len(train_set))] )\n",
        "train_set = torch.utils.data.DataLoader(train_set, batch_size=BATCH_SIZE, shuffle=True, num_workers=4)\n",
        "val_set = torch.utils.data.DataLoader(val_set, batch_size=BATCH_SIZE, shuffle=True, num_workers=4)\n"
      ],
      "execution_count": 11,
      "outputs": []
    },
    {
      "cell_type": "code",
      "metadata": {
        "id": "BBefXaLohLcH"
      },
      "source": [
        "class BiLSTMNet(nn.Module):\n",
        "  def __init__(self, hidden_dim, num_words, numpostags, n_layers=1, numTags=3):\n",
        "    super(BiLSTMNet, self).__init__()\n",
        "    self.hidden_dim = hidden_dim\n",
        "    self.embeddings = nn.Embedding(num_words, hidden_dim)\n",
        "    self.embeddings2 = nn.Embedding(numpostags, hidden_dim)\n",
        "    self.bilstm = nn.LSTM(2*hidden_dim, hidden_dim, n_layers, batch_first=True, bidirectional = True)\n",
        "    self.fc = nn.Linear(hidden_dim*2,numTags)\n",
        "    self.dropout = nn.Dropout(0.3)\n",
        "    self.softmax = nn.Softmax(dim=2)\n",
        "\n",
        "  def forward(self,x,y):\n",
        "    x = self.embeddings(x)\n",
        "    y = self.embeddings2(y)\n",
        "    x = torch.cat([x,y], dim=-1)\n",
        "    unpacked, (h_n, c_n) = self.bilstm(x)\n",
        "    out = self.fc(unpacked)\n",
        "    out = self.dropout(out)\n",
        "    return self.softmax(out)"
      ],
      "execution_count": 12,
      "outputs": []
    },
    {
      "cell_type": "code",
      "metadata": {
        "id": "pVv6PnWThLcK"
      },
      "source": [
        "# loss_criteria = nn.BCELoss()\n",
        "loss_criteria = nn.CrossEntropyLoss()\n",
        "model = BiLSTMNet(1024, len(indexwords), len(indexpos))\n",
        "# model = BiLSTMNet(64, len(indexwords))\n",
        "model = model.to(device)\n",
        "optimizer = torch.optim.Adam(model.parameters(), lr=1e-5)\n",
        "# scheduler = torch.optim.lr_scheduler.ReduceLROnPlateau(optimizer)\n",
        "epochs = 15"
      ],
      "execution_count": 13,
      "outputs": []
    },
    {
      "cell_type": "code",
      "metadata": {
        "id": "UlcBvmJ_hLcO"
      },
      "source": [
        "from sklearn.metrics import accuracy_score"
      ],
      "execution_count": 14,
      "outputs": []
    },
    {
      "cell_type": "code",
      "metadata": {
        "id": "v-ZqN0L5hLcS",
        "outputId": "32402965-6866-426a-aff6-fa253837f8f6",
        "colab": {
          "base_uri": "https://localhost:8080/",
          "height": 1000
        }
      },
      "source": [
        "# model.train()\n",
        "\n",
        "for epoch in range(epochs):\n",
        "    total_loss = 0\n",
        "    train_acc = 0\n",
        "    count = 0\n",
        "    model.train()\n",
        "    for (x,t,y) in train_set:\n",
        "        # print(x.shape, y.shape)\n",
        "        optimizer.zero_grad()\n",
        "        out = model(x.to(device), t.to(device))\n",
        "        # print(out.shape)\n",
        "        loss = loss_criteria(out[0], y[0].to(device))\n",
        "        loss.backward()\n",
        "        optimizer.step()\n",
        "        # scheduler.step(loss)\n",
        "        total_loss += loss.item()\n",
        "        # print(torch.argmax(out, dim=-1).detach().numpy())\n",
        "        # print(y)\n",
        "        train_acc += accuracy_score(y[0].detach().cpu().numpy(),torch.argmax(out, dim=-1).detach().cpu().numpy()[0])*len(x)\n",
        "        count+=len(x)\n",
        "    \n",
        "    print(f\"Training loss for epoch {epoch+1}: {total_loss/count}\")\n",
        "    print(f\"Training accuracy for epoch {epoch+1}: {train_acc/count*100}%\")\n",
        "    model.eval()\n",
        "    total_loss = 0\n",
        "    val_acc = 0\n",
        "    count = 0\n",
        "    for (x,t,y) in val_set:\n",
        "        \n",
        "        out = model(x.to(device), t.to(device))\n",
        "        loss = loss_criteria(out[0], y[0].to(device))\n",
        "        \n",
        "        total_loss += loss.item()\n",
        "        val_acc += accuracy_score(y[0].detach().cpu().numpy(),torch.argmax(out, dim=-1).detach().cpu().numpy()[0])*len(x)\n",
        "        count+=len(x)\n",
        "    \n",
        "    print(f\"Validation loss for epoch {epoch+1}: {total_loss/count}\")\n",
        "    print(f\"Validation accuracy for epoch {epoch+1}: {val_acc/count*100}%\")\n",
        "    print('='*20)"
      ],
      "execution_count": 15,
      "outputs": [
        {
          "output_type": "stream",
          "text": [
            "Training loss for epoch 1: 0.7898152462438888\n",
            "Training accuracy for epoch 1: 77.62030548519486%\n",
            "Validation loss for epoch 1: 0.6528339516140391\n",
            "Validation accuracy for epoch 1: 91.29913894231132%\n",
            "====================\n",
            "Training loss for epoch 2: 0.6917241815456772\n",
            "Training accuracy for epoch 2: 84.7753365476246%\n",
            "Validation loss for epoch 2: 0.622033098495332\n",
            "Validation accuracy for epoch 2: 93.65565134421782%\n",
            "====================\n",
            "Training loss for epoch 3: 0.6717590409972936\n",
            "Training accuracy for epoch 3: 86.2306019783628%\n",
            "Validation loss for epoch 3: 0.6140512546002125\n",
            "Validation accuracy for epoch 3: 94.16566549831357%\n",
            "====================\n",
            "Training loss for epoch 4: 0.6637530616531467\n",
            "Training accuracy for epoch 4: 87.10936252256111%\n",
            "Validation loss for epoch 4: 0.6105941179076732\n",
            "Validation accuracy for epoch 4: 94.36224270827131%\n",
            "====================\n",
            "Training loss for epoch 5: 0.6597897608951429\n",
            "Training accuracy for epoch 5: 86.96860620788549%\n",
            "Validation loss for epoch 5: 0.6073829337917546\n",
            "Validation accuracy for epoch 5: 94.57107706808917%\n",
            "====================\n",
            "Training loss for epoch 6: 0.6534681355753176\n",
            "Training accuracy for epoch 6: 87.78359307454512%\n",
            "Validation loss for epoch 6: 0.6063270648714922\n",
            "Validation accuracy for epoch 6: 94.72853414242623%\n",
            "====================\n",
            "Training loss for epoch 7: 0.6497331145315011\n",
            "Training accuracy for epoch 7: 88.33275535278227%\n",
            "Validation loss for epoch 7: 0.6054344282256758\n",
            "Validation accuracy for epoch 7: 94.71320188997458%\n",
            "====================\n",
            "Training loss for epoch 8: 0.6478400876093829\n",
            "Training accuracy for epoch 8: 88.23908550734217%\n",
            "Validation loss for epoch 8: 0.6031984108553335\n",
            "Validation accuracy for epoch 8: 94.9261741901163%\n",
            "====================\n",
            "Training loss for epoch 9: 0.6461115272019945\n",
            "Training accuracy for epoch 9: 88.22377523157485%\n",
            "Validation loss for epoch 9: 0.6020523167721391\n",
            "Validation accuracy for epoch 9: 94.87292422543983%\n",
            "====================\n",
            "Training loss for epoch 10: 0.6436202362726163\n",
            "Training accuracy for epoch 10: 88.47036523360511%\n",
            "Validation loss for epoch 10: 0.6003612926225212\n",
            "Validation accuracy for epoch 10: 95.21808447885056%\n",
            "====================\n",
            "Training loss for epoch 11: 0.640376570989361\n",
            "Training accuracy for epoch 11: 88.89643872448578%\n",
            "Validation loss for epoch 11: 0.5992776134765474\n",
            "Validation accuracy for epoch 11: 95.16493403122315%\n",
            "====================\n",
            "Training loss for epoch 12: 0.6390399659472715\n",
            "Training accuracy for epoch 12: 89.09033019448765%\n",
            "Validation loss for epoch 12: 0.6004192173924695\n",
            "Validation accuracy for epoch 12: 95.14634396954833%\n",
            "====================\n",
            "Training loss for epoch 13: 0.6368028554136965\n",
            "Training accuracy for epoch 13: 89.19350253304204%\n",
            "Validation loss for epoch 13: 0.5989979098807493\n",
            "Validation accuracy for epoch 13: 95.26484998093439%\n",
            "====================\n",
            "Training loss for epoch 14: 0.6372493091320087\n",
            "Training accuracy for epoch 14: 89.23506453904943%\n",
            "Validation loss for epoch 14: 0.5986055489213532\n",
            "Validation accuracy for epoch 14: 95.2843932414893%\n",
            "====================\n",
            "Training loss for epoch 15: 0.6369606383547715\n",
            "Training accuracy for epoch 15: 89.0393011295346%\n",
            "Validation loss for epoch 15: 0.5988957235594246\n",
            "Validation accuracy for epoch 15: 95.1706156774944%\n",
            "====================\n"
          ],
          "name": "stdout"
        }
      ]
    },
    {
      "cell_type": "code",
      "metadata": {
        "id": "zkYciLhhhLcV"
      },
      "source": [
        "test_set = MyData(indexwords, indexpos, indextags, Test_Sentences)\n",
        "test_set = torch.utils.data.DataLoader(test_set, batch_size=BATCH_SIZE, shuffle=True, num_workers=4)\n"
      ],
      "execution_count": 16,
      "outputs": []
    },
    {
      "cell_type": "code",
      "metadata": {
        "id": "-6mD6sPxhLcZ",
        "outputId": "06553d51-4c4d-47b8-f730-3da2ac6b52fb",
        "colab": {
          "base_uri": "https://localhost:8080/",
          "height": 52
        }
      },
      "source": [
        "model.eval()\n",
        "total_loss = 0\n",
        "test_acc = 0\n",
        "count = 0\n",
        "preds = []\n",
        "gold = []\n",
        "for (x,t,y) in test_set:\n",
        "    \n",
        "    out = model(x.to(device), t.to(device))\n",
        "    loss = loss_criteria(out[0], y[0].to(device))\n",
        "    \n",
        "    total_loss += loss.item()\n",
        "    gold.extend(y[0].detach().cpu().numpy())\n",
        "    preds.extend(torch.argmax(out, dim=-1).detach().cpu().numpy()[0])\n",
        "    test_acc += accuracy_score(y[0].detach().cpu().numpy(),torch.argmax(out, dim=-1).detach().cpu().numpy()[0])*len(x)\n",
        "    count+=len(x)\n",
        "\n",
        "print(f\"Test loss : {total_loss/count}\")\n",
        "print(f\"Test accuracy : {test_acc/count*100}%\")"
      ],
      "execution_count": 18,
      "outputs": [
        {
          "output_type": "stream",
          "text": [
            "Test loss : 0.5982996001772936\n",
            "Test accuracy : 95.33008598394144%\n"
          ],
          "name": "stdout"
        }
      ]
    },
    {
      "cell_type": "code",
      "metadata": {
        "id": "UzNrCYVtgB48",
        "outputId": "ab58546c-ae6d-4339-b157-b117552a52eb",
        "colab": {
          "base_uri": "https://localhost:8080/",
          "height": 34
        }
      },
      "source": [
        "print(accuracy_score(gold,preds))"
      ],
      "execution_count": 20,
      "outputs": [
        {
          "output_type": "stream",
          "text": [
            "0.9525993378265408\n"
          ],
          "name": "stdout"
        }
      ]
    },
    {
      "cell_type": "code",
      "metadata": {
        "id": "2XoqSiS4ffRh",
        "outputId": "9ce6b8f6-c775-4f4f-cd39-db3232a7b244",
        "colab": {
          "base_uri": "https://localhost:8080/",
          "height": 193
        }
      },
      "source": [
        "from sklearn.metrics import classification_report, confusion_matrix\n",
        "print(classification_report(gold,preds))"
      ],
      "execution_count": 23,
      "outputs": [
        {
          "output_type": "stream",
          "text": [
            "              precision    recall  f1-score   support\n",
            "\n",
            "           0       0.95      0.97      0.96    106978\n",
            "           1       0.96      0.92      0.94     76847\n",
            "           2       0.95      0.96      0.95     27902\n",
            "\n",
            "    accuracy                           0.95    211727\n",
            "   macro avg       0.95      0.95      0.95    211727\n",
            "weighted avg       0.95      0.95      0.95    211727\n",
            "\n"
          ],
          "name": "stdout"
        }
      ]
    },
    {
      "cell_type": "code",
      "metadata": {
        "id": "kIMufmlkgRMi",
        "outputId": "03d4b241-ed4e-4425-c27f-71208cb63b11",
        "colab": {
          "base_uri": "https://localhost:8080/",
          "height": 586
        }
      },
      "source": [
        "import seaborn as sns\n",
        "import matplotlib.pyplot as plt  \n",
        "\n",
        "cm = confusion_matrix(gold, preds, list(indextags.values()))\n",
        "print(cm)\n",
        "\n",
        "sns.set(rc={'figure.figsize':(11.7,8.27)})\n",
        "\n",
        "\n",
        "ax= plt.subplot()\n",
        "sns.heatmap(cm, annot=False, ax = ax,cmap=\"YlGnBu\")\n",
        "\n",
        "ax.set_xlabel('Predicted labels')\n",
        "ax.set_ylabel('True labels')\n",
        "ax.set_title('Confusion Matrix') \n",
        "ax.xaxis.set_ticklabels(list(indextags.keys()))\n",
        "ax.yaxis.set_ticklabels(list(indextags.keys()));\n",
        "plt.show()"
      ],
      "execution_count": 25,
      "outputs": [
        {
          "output_type": "stream",
          "text": [
            "[[104230   2506    242]\n",
            " [  4985  70723   1139]\n",
            " [   562    602  26738]]\n"
          ],
          "name": "stdout"
        },
        {
          "output_type": "display_data",
          "data": {
            "image/png": "[encoded data removed]",
            "text/plain": [
              "<Figure size 842.4x595.44 with 2 Axes>"
            ]
          },
          "metadata": {
            "tags": []
          }
        }
      ]
    }
  ]
}