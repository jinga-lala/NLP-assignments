{
 "cells": [
  {
   "cell_type": "code",
   "execution_count": 1,
   "metadata": {
    "_cell_guid": "b1076dfc-b9ad-4769-8c92-a6c4dae69d19",
    "_uuid": "8f2839f25d086af736a60e9eeb907d3b93b6e0e5",
    "execution": {
     "iopub.execute_input": "2020-12-10T05:31:11.233364Z",
     "iopub.status.busy": "2020-12-10T05:31:11.232377Z",
     "iopub.status.idle": "2020-12-10T05:31:11.238932Z",
     "shell.execute_reply": "2020-12-10T05:31:11.237976Z"
    },
    "papermill": {
     "duration": 0.030382,
     "end_time": "2020-12-10T05:31:11.239104",
     "exception": false,
     "start_time": "2020-12-10T05:31:11.208722",
     "status": "completed"
    },
    "tags": []
   },
   "outputs": [
    {
     "name": "stdout",
     "output_type": "stream",
     "text": [
      "/kaggle/input/jigsaw-toxic-comment-classification-challenge/train.csv.zip\n",
      "/kaggle/input/jigsaw-toxic-comment-classification-challenge/sample_submission.csv.zip\n",
      "/kaggle/input/jigsaw-toxic-comment-classification-challenge/test_labels.csv.zip\n",
      "/kaggle/input/jigsaw-toxic-comment-classification-challenge/test.csv.zip\n"
     ]
    }
   ],
   "source": [
    "# This Python 3 environment comes with many helpful analytics libraries installed\n",
    "# It is defined by the kaggle/python Docker image: https://github.com/kaggle/docker-python\n",
    "# For example, here's several helpful packages to load\n",
    "\n",
    "import numpy as np # linear algebra\n",
    "import pandas as pd # data processing, CSV file I/O (e.g. pd.read_csv)\n",
    "\n",
    "# Input data files are available in the read-only \"../input/\" directory\n",
    "# For example, running this (by clicking run or pressing Shift+Enter) will list all files under the input directory\n",
    "\n",
    "import os\n",
    "for dirname, _, filenames in os.walk('/kaggle/input'):\n",
    "    for filename in filenames:\n",
    "        print(os.path.join(dirname, filename))\n",
    "\n",
    "# You can write up to 5GB to the current directory (/kaggle/working/) that gets preserved as output when you create a version using \"Save & Run All\" \n",
    "# You can also write temporary files to /kaggle/temp/, but they won't be saved outside of the current session"
   ]
  },
  {
   "cell_type": "code",
   "execution_count": 2,
   "metadata": {
    "_cell_guid": "79c7e3d0-c299-4dcb-8224-4455121ee9b0",
    "_kg_hide-output": true,
    "_uuid": "d629ff2d2480ee46fbb7e2d37f6b5fab8052498a",
    "execution": {
     "iopub.execute_input": "2020-12-10T05:31:11.273095Z",
     "iopub.status.busy": "2020-12-10T05:31:11.272207Z",
     "iopub.status.idle": "2020-12-10T05:31:22.853523Z",
     "shell.execute_reply": "2020-12-10T05:31:22.852947Z"
    },
    "papermill": {
     "duration": 11.599039,
     "end_time": "2020-12-10T05:31:22.853657",
     "exception": false,
     "start_time": "2020-12-10T05:31:11.254618",
     "status": "completed"
    },
    "tags": []
   },
   "outputs": [
    {
     "name": "stdout",
     "output_type": "stream",
     "text": [
      "Requirement already satisfied: transformers in /opt/conda/lib/python3.7/site-packages (3.5.1)\r\n",
      "Collecting clean-text\r\n",
      "  Downloading clean_text-0.3.0-py3-none-any.whl (9.6 kB)\r\n",
      "Requirement already satisfied: emoji in /opt/conda/lib/python3.7/site-packages (from clean-text) (0.6.0)\r\n",
      "Requirement already satisfied: sentencepiece==0.1.91 in /opt/conda/lib/python3.7/site-packages (from transformers) (0.1.91)\r\n",
      "Requirement already satisfied: packaging in /opt/conda/lib/python3.7/site-packages (from transformers) (20.1)\r\n",
      "Requirement already satisfied: sacremoses in /opt/conda/lib/python3.7/site-packages (from transformers) (0.0.43)\r\n",
      "Requirement already satisfied: tokenizers==0.9.3 in /opt/conda/lib/python3.7/site-packages (from transformers) (0.9.3)\r\n",
      "Requirement already satisfied: requests in /opt/conda/lib/python3.7/site-packages (from transformers) (2.23.0)\r\n",
      "Requirement already satisfied: numpy in /opt/conda/lib/python3.7/site-packages (from transformers) (1.18.5)\r\n",
      "Requirement already satisfied: protobuf in /opt/conda/lib/python3.7/site-packages (from transformers) (3.14.0)\r\n",
      "Requirement already satisfied: filelock in /opt/conda/lib/python3.7/site-packages (from transformers) (3.0.10)\r\n",
      "Requirement already satisfied: tqdm>=4.27 in /opt/conda/lib/python3.7/site-packages (from transformers) (4.45.0)\r\n",
      "Requirement already satisfied: regex!=2019.12.17 in /opt/conda/lib/python3.7/site-packages (from transformers) (2020.4.4)\r\n",
      "Collecting ftfy<6.0,>=5.8\r\n",
      "  Downloading ftfy-5.8.tar.gz (64 kB)\r\n",
      "\u001b[K     |████████████████████████████████| 64 kB 1.2 MB/s \r\n",
      "\u001b[?25hRequirement already satisfied: wcwidth in /opt/conda/lib/python3.7/site-packages (from ftfy<6.0,>=5.8->clean-text) (0.1.9)\r\n",
      "Requirement already satisfied: pyparsing>=2.0.2 in /opt/conda/lib/python3.7/site-packages (from packaging->transformers) (2.4.7)\r\n",
      "Requirement already satisfied: six in /opt/conda/lib/python3.7/site-packages (from packaging->transformers) (1.14.0)\r\n",
      "Requirement already satisfied: six in /opt/conda/lib/python3.7/site-packages (from packaging->transformers) (1.14.0)\r\n",
      "Requirement already satisfied: chardet<4,>=3.0.2 in /opt/conda/lib/python3.7/site-packages (from requests->transformers) (3.0.4)\r\n",
      "Requirement already satisfied: certifi>=2017.4.17 in /opt/conda/lib/python3.7/site-packages (from requests->transformers) (2020.11.8)\r\n",
      "Requirement already satisfied: urllib3!=1.25.0,!=1.25.1,<1.26,>=1.21.1 in /opt/conda/lib/python3.7/site-packages (from requests->transformers) (1.25.9)\r\n",
      "Requirement already satisfied: idna<3,>=2.5 in /opt/conda/lib/python3.7/site-packages (from requests->transformers) (2.9)\r\n",
      "Requirement already satisfied: regex!=2019.12.17 in /opt/conda/lib/python3.7/site-packages (from transformers) (2020.4.4)\r\n",
      "Requirement already satisfied: joblib in /opt/conda/lib/python3.7/site-packages (from sacremoses->transformers) (0.14.1)\r\n",
      "Requirement already satisfied: click in /opt/conda/lib/python3.7/site-packages (from sacremoses->transformers) (7.1.1)\r\n",
      "Requirement already satisfied: six in /opt/conda/lib/python3.7/site-packages (from packaging->transformers) (1.14.0)\r\n",
      "Requirement already satisfied: tqdm>=4.27 in /opt/conda/lib/python3.7/site-packages (from transformers) (4.45.0)\r\n",
      "Building wheels for collected packages: ftfy\r\n",
      "  Building wheel for ftfy (setup.py) ... \u001b[?25l-\b \b\\\b \b|\b \bdone\r\n",
      "\u001b[?25h  Created wheel for ftfy: filename=ftfy-5.8-py3-none-any.whl size=45612 sha256=3daf31568c2f44c62ae8a21d2e51d54c18182a8536c24e3011d3a95e32add666\r\n",
      "  Stored in directory: /root/.cache/pip/wheels/49/1c/fc/8b19700f939810cd8fd9495ae34934b246279791288eda1c31\r\n",
      "Successfully built ftfy\r\n",
      "Installing collected packages: ftfy, clean-text\r\n",
      "Successfully installed clean-text-0.3.0 ftfy-5.8\r\n"
     ]
    }
   ],
   "source": [
    "!pip install transformers clean-text"
   ]
  },
  {
   "cell_type": "code",
   "execution_count": 3,
   "metadata": {
    "execution": {
     "iopub.execute_input": "2020-12-10T05:31:22.899926Z",
     "iopub.status.busy": "2020-12-10T05:31:22.898879Z",
     "iopub.status.idle": "2020-12-10T05:31:25.016102Z",
     "shell.execute_reply": "2020-12-10T05:31:25.015455Z"
    },
    "papermill": {
     "duration": 2.142298,
     "end_time": "2020-12-10T05:31:25.016226",
     "exception": false,
     "start_time": "2020-12-10T05:31:22.873928",
     "status": "completed"
    },
    "tags": []
   },
   "outputs": [],
   "source": [
    "train_path = '../input/jigsaw-toxic-comment-classification-challenge/train.csv.zip'\n",
    "\n",
    "data = pd.read_csv(train_path)"
   ]
  },
  {
   "cell_type": "code",
   "execution_count": 4,
   "metadata": {
    "execution": {
     "iopub.execute_input": "2020-12-10T05:31:25.062149Z",
     "iopub.status.busy": "2020-12-10T05:31:25.061314Z",
     "iopub.status.idle": "2020-12-10T05:31:25.065827Z",
     "shell.execute_reply": "2020-12-10T05:31:25.065310Z"
    },
    "papermill": {
     "duration": 0.029105,
     "end_time": "2020-12-10T05:31:25.065931",
     "exception": false,
     "start_time": "2020-12-10T05:31:25.036826",
     "status": "completed"
    },
    "tags": []
   },
   "outputs": [
    {
     "name": "stdout",
     "output_type": "stream",
     "text": [
      "Number of Records: 159571, Number of features/columns: 8\n"
     ]
    }
   ],
   "source": [
    "print('Number of Records: {}, Number of features/columns: {}'.format(data.shape[0], data.shape[1]))"
   ]
  },
  {
   "cell_type": "code",
   "execution_count": 5,
   "metadata": {
    "execution": {
     "iopub.execute_input": "2020-12-10T05:31:25.108864Z",
     "iopub.status.busy": "2020-12-10T05:31:25.108223Z",
     "iopub.status.idle": "2020-12-10T05:31:25.153182Z",
     "shell.execute_reply": "2020-12-10T05:31:25.152301Z"
    },
    "papermill": {
     "duration": 0.067947,
     "end_time": "2020-12-10T05:31:25.153277",
     "exception": false,
     "start_time": "2020-12-10T05:31:25.085330",
     "status": "completed"
    },
    "tags": []
   },
   "outputs": [
    {
     "name": "stdout",
     "output_type": "stream",
     "text": [
      "Null values: 0\n"
     ]
    }
   ],
   "source": [
    "print('Null values: {}'.format(data.isnull().values.sum()))"
   ]
  },
  {
   "cell_type": "code",
   "execution_count": 6,
   "metadata": {
    "execution": {
     "iopub.execute_input": "2020-12-10T05:31:25.209886Z",
     "iopub.status.busy": "2020-12-10T05:31:25.203933Z",
     "iopub.status.idle": "2020-12-10T05:31:25.212914Z",
     "shell.execute_reply": "2020-12-10T05:31:25.212382Z"
    },
    "papermill": {
     "duration": 0.039107,
     "end_time": "2020-12-10T05:31:25.213019",
     "exception": false,
     "start_time": "2020-12-10T05:31:25.173912",
     "status": "completed"
    },
    "tags": []
   },
   "outputs": [],
   "source": [
    "target_columns = list(data.columns)[2:]\n",
    "y_labels = data[target_columns].values"
   ]
  },
  {
   "cell_type": "code",
   "execution_count": 7,
   "metadata": {
    "execution": {
     "iopub.execute_input": "2020-12-10T05:31:25.260665Z",
     "iopub.status.busy": "2020-12-10T05:31:25.259863Z",
     "iopub.status.idle": "2020-12-10T05:31:37.227847Z",
     "shell.execute_reply": "2020-12-10T05:31:37.226563Z"
    },
    "papermill": {
     "duration": 11.993908,
     "end_time": "2020-12-10T05:31:37.227981",
     "exception": false,
     "start_time": "2020-12-10T05:31:25.234073",
     "status": "completed"
    },
    "tags": []
   },
   "outputs": [],
   "source": [
    "from transformers import BertTokenizer, BertConfig, TFBertModel\n",
    "from sklearn.model_selection import train_test_split\n",
    "import tensorflow as tf\n",
    "from tqdm import tqdm\n",
    "from cleantext import clean"
   ]
  },
  {
   "cell_type": "code",
   "execution_count": 8,
   "metadata": {
    "execution": {
     "iopub.execute_input": "2020-12-10T05:31:37.280805Z",
     "iopub.status.busy": "2020-12-10T05:31:37.277976Z",
     "iopub.status.idle": "2020-12-10T05:31:37.769612Z",
     "shell.execute_reply": "2020-12-10T05:31:37.770972Z"
    },
    "papermill": {
     "duration": 0.519784,
     "end_time": "2020-12-10T05:31:37.771157",
     "exception": false,
     "start_time": "2020-12-10T05:31:37.251373",
     "status": "completed"
    },
    "tags": []
   },
   "outputs": [
    {
     "data": {
      "application/vnd.jupyter.widget-view+json": {
       "model_id": "e804d34256db41bbb18c75800bc95edd",
       "version_major": 2,
       "version_minor": 0
      },
      "text/plain": [
       "HBox(children=(FloatProgress(value=0.0, description='Downloading', max=231508.0, style=ProgressStyle(descripti…"
      ]
     },
     "metadata": {},
     "output_type": "display_data"
    },
    {
     "name": "stdout",
     "output_type": "stream",
     "text": [
      "\n"
     ]
    }
   ],
   "source": [
    "bert = 'bert-base-uncased'\n",
    "\n",
    "tokenizer = BertTokenizer.from_pretrained(bert, do_lower_case=True, add_special_tokens=True,\n",
    "                                                max_length=128, pad_to_max_length=True)"
   ]
  },
  {
   "cell_type": "code",
   "execution_count": 9,
   "metadata": {
    "execution": {
     "iopub.execute_input": "2020-12-10T05:31:37.845056Z",
     "iopub.status.busy": "2020-12-10T05:31:37.844114Z",
     "iopub.status.idle": "2020-12-10T05:31:37.848611Z",
     "shell.execute_reply": "2020-12-10T05:31:37.849887Z"
    },
    "papermill": {
     "duration": 0.048008,
     "end_time": "2020-12-10T05:31:37.850046",
     "exception": false,
     "start_time": "2020-12-10T05:31:37.802038",
     "status": "completed"
    },
    "tags": []
   },
   "outputs": [],
   "source": [
    "def cleaning(text):\n",
    "    return clean(text, no_line_breaks=True, no_urls=True, no_punct=True)\n",
    "\n",
    "def tokenize(sentences, tokenizer):\n",
    "    \n",
    "    input_ids = []\n",
    "    input_masks = []\n",
    "    #input_segments = []\n",
    "    \n",
    "    for sentence in tqdm(sentences):\n",
    "        inputs = tokenizer.encode_plus(sentence, add_special_tokens=True, \n",
    "                                       max_length=128, pad_to_max_length=True, \n",
    "                                       return_attention_mask=True, return_token_type_ids=True)\n",
    "        \n",
    "        input_ids.append(inputs['input_ids'])\n",
    "        input_masks.append(inputs['attention_mask'])\n",
    "        #input_segments.append(inputs['token_type_ids'])        \n",
    "        \n",
    "    return np.asarray(input_ids, dtype='int32'),np.asarray(input_masks, dtype='int32')"
   ]
  },
  {
   "cell_type": "code",
   "execution_count": 10,
   "metadata": {
    "_kg_hide-output": true,
    "execution": {
     "iopub.execute_input": "2020-12-10T05:31:37.923672Z",
     "iopub.status.busy": "2020-12-10T05:31:37.922680Z",
     "iopub.status.idle": "2020-12-10T05:47:58.352351Z",
     "shell.execute_reply": "2020-12-10T05:47:58.351522Z"
    },
    "papermill": {
     "duration": 980.471084,
     "end_time": "2020-12-10T05:47:58.352502",
     "exception": false,
     "start_time": "2020-12-10T05:31:37.881418",
     "status": "completed"
    },
    "tags": []
   },
   "outputs": [
    {
     "name": "stderr",
     "output_type": "stream",
     "text": [
      "  0%|          | 0/159571 [00:00<?, ?it/s]Truncation was not explicitly activated but `max_length` is provided a specific value, please use `truncation=True` to explicitly truncate examples to max length. Defaulting to 'longest_first' truncation strategy. If you encode pairs of sequences (GLUE-style) with the tokenizer you can select this strategy more precisely by providing a specific strategy to `truncation`.\n",
      "/opt/conda/lib/python3.7/site-packages/transformers/tokenization_utils_base.py:2022: FutureWarning: The `pad_to_max_length` argument is deprecated and will be removed in a future version, use `padding=True` or `padding='longest'` to pad to the longest sequence in the batch, or use `padding='max_length'` to pad to a max length. In this case, you can give a specific length with `max_length` (e.g. `max_length=45`) or leave max_length to None to pad to the maximal input size of the model (e.g. 512 for Bert).\n",
      "  FutureWarning,\n",
      "100%|██████████| 159571/159571 [08:17<00:00, 320.63it/s]\n"
     ]
    }
   ],
   "source": [
    "data['comment_text'] = data['comment_text'].apply(cleaning)\n",
    "input_ids, input_masks = tokenize(data['comment_text'], tokenizer)"
   ]
  },
  {
   "cell_type": "code",
   "execution_count": 11,
   "metadata": {
    "execution": {
     "iopub.execute_input": "2020-12-10T05:48:01.752983Z",
     "iopub.status.busy": "2020-12-10T05:48:01.746362Z",
     "iopub.status.idle": "2020-12-10T05:48:35.928345Z",
     "shell.execute_reply": "2020-12-10T05:48:35.928961Z"
    },
    "papermill": {
     "duration": 35.927269,
     "end_time": "2020-12-10T05:48:35.929147",
     "exception": false,
     "start_time": "2020-12-10T05:48:00.001878",
     "status": "completed"
    },
    "tags": []
   },
   "outputs": [
    {
     "data": {
      "application/vnd.jupyter.widget-view+json": {
       "model_id": "3f503ec0420c404cbc69a426a1141618",
       "version_major": 2,
       "version_minor": 0
      },
      "text/plain": [
       "HBox(children=(FloatProgress(value=0.0, description='Downloading', max=536063208.0, style=ProgressStyle(descri…"
      ]
     },
     "metadata": {},
     "output_type": "display_data"
    },
    {
     "name": "stdout",
     "output_type": "stream",
     "text": [
      "\n"
     ]
    },
    {
     "name": "stderr",
     "output_type": "stream",
     "text": [
      "Some layers from the model checkpoint at bert-base-uncased were not used when initializing TFBertModel: ['mlm___cls', 'nsp___cls']\n",
      "- This IS expected if you are initializing TFBertModel from the checkpoint of a model trained on another task or with another architecture (e.g. initializing a BertForSequenceClassification model from a BertForPreTraining model).\n",
      "- This IS NOT expected if you are initializing TFBertModel from the checkpoint of a model that you expect to be exactly identical (initializing a BertForSequenceClassification model from a BertForSequenceClassification model).\n",
      "All the layers of TFBertModel were initialized from the model checkpoint at bert-base-uncased.\n",
      "If your task is similar to the task the model of the checkpoint was trained on, you can already use TFBertModel for predictions without further training.\n"
     ]
    }
   ],
   "source": [
    "config = BertConfig(dropout=0.2, attention_dropout=0.2)\n",
    "\n",
    "config.output_hidden_states = False\n",
    "\n",
    "transformer_model = TFBertModel.from_pretrained(bert, config=config)\n",
    "\n",
    "input_ids_in = tf.keras.layers.Input(shape=(128,), name='input_token', dtype='int32')\n",
    "input_masks_in = tf.keras.layers.Input(shape=(128,), name='masked_token', dtype='int32')\n",
    "\n",
    "embedding_layer = transformer_model(input_ids_in, attention_mask=input_masks_in)[0]\n",
    "X = tf.keras.layers.Bidirectional(tf.keras.layers.LSTM(50, \n",
    "                                                       return_sequences=True, \n",
    "                                                       dropout=0.1, \n",
    "                                                       recurrent_dropout=0.1))(embedding_layer)\n",
    "X = tf.keras.layers.GlobalMaxPool1D()(X)\n",
    "X = tf.keras.layers.Dense(50, activation='relu')(X)\n",
    "X = tf.keras.layers.Dropout(0.2)(X)\n",
    "X = tf.keras.layers.Dense(6, activation='sigmoid')(X)\n",
    "\n",
    "model = tf.keras.models.Model(inputs=[input_ids_in, input_masks_in], outputs=X)\n",
    "\n",
    "for layer in model.layers[:3]:\n",
    "    layer.trainable = False"
   ]
  },
  {
   "cell_type": "code",
   "execution_count": 12,
   "metadata": {
    "execution": {
     "iopub.execute_input": "2020-12-10T05:48:39.005389Z",
     "iopub.status.busy": "2020-12-10T05:48:38.995015Z",
     "iopub.status.idle": "2020-12-10T05:48:39.028146Z",
     "shell.execute_reply": "2020-12-10T05:48:39.028953Z"
    },
    "papermill": {
     "duration": 1.570653,
     "end_time": "2020-12-10T05:48:39.029151",
     "exception": false,
     "start_time": "2020-12-10T05:48:37.458498",
     "status": "completed"
    },
    "tags": []
   },
   "outputs": [
    {
     "name": "stdout",
     "output_type": "stream",
     "text": [
      "Model: \"functional_1\"\n",
      "__________________________________________________________________________________________________\n",
      "Layer (type)                    Output Shape         Param #     Connected to                     \n",
      "==================================================================================================\n",
      "input_token (InputLayer)        [(None, 128)]        0                                            \n",
      "__________________________________________________________________________________________________\n",
      "masked_token (InputLayer)       [(None, 128)]        0                                            \n",
      "__________________________________________________________________________________________________\n",
      "tf_bert_model (TFBertModel)     ((None, 128, 768), ( 109482240   input_token[0][0]                \n",
      "                                                                 masked_token[0][0]               \n",
      "__________________________________________________________________________________________________\n",
      "bidirectional (Bidirectional)   (None, 128, 100)     327600      tf_bert_model[0][0]              \n",
      "__________________________________________________________________________________________________\n",
      "global_max_pooling1d (GlobalMax (None, 100)          0           bidirectional[0][0]              \n",
      "__________________________________________________________________________________________________\n",
      "dense (Dense)                   (None, 50)           5050        global_max_pooling1d[0][0]       \n",
      "__________________________________________________________________________________________________\n",
      "dropout_37 (Dropout)            (None, 50)           0           dense[0][0]                      \n",
      "__________________________________________________________________________________________________\n",
      "dense_1 (Dense)                 (None, 6)            306         dropout_37[0][0]                 \n",
      "==================================================================================================\n",
      "Total params: 109,815,196\n",
      "Trainable params: 332,956\n",
      "Non-trainable params: 109,482,240\n",
      "__________________________________________________________________________________________________\n"
     ]
    }
   ],
   "source": [
    "model.summary()"
   ]
  },
  {
   "cell_type": "code",
   "execution_count": 13,
   "metadata": {
    "execution": {
     "iopub.execute_input": "2020-12-10T05:48:42.317900Z",
     "iopub.status.busy": "2020-12-10T05:48:42.316882Z",
     "iopub.status.idle": "2020-12-10T05:48:42.324571Z",
     "shell.execute_reply": "2020-12-10T05:48:42.324071Z"
    },
    "papermill": {
     "duration": 1.683111,
     "end_time": "2020-12-10T05:48:42.324704",
     "exception": false,
     "start_time": "2020-12-10T05:48:40.641593",
     "status": "completed"
    },
    "tags": []
   },
   "outputs": [],
   "source": [
    "# model.compile(optimizer='adam', loss='categorical_crossentropy', metrics=['accuracy'])\n",
    "model.compile(optimizer='adam', loss='binary_crossentropy', metrics=['accuracy'])"
   ]
  },
  {
   "cell_type": "code",
   "execution_count": 14,
   "metadata": {
    "execution": {
     "iopub.execute_input": "2020-12-10T05:48:45.783420Z",
     "iopub.status.busy": "2020-12-10T05:48:45.782574Z",
     "iopub.status.idle": "2020-12-10T05:48:45.845577Z",
     "shell.execute_reply": "2020-12-10T05:48:45.845023Z"
    },
    "papermill": {
     "duration": 1.594217,
     "end_time": "2020-12-10T05:48:45.845718",
     "exception": false,
     "start_time": "2020-12-10T05:48:44.251501",
     "status": "completed"
    },
    "tags": []
   },
   "outputs": [],
   "source": [
    "X_train_id, X_test_id, X_train_mask, X_test_mask, y_train, y_test = train_test_split(input_ids, \n",
    "                                                                                     input_masks, \n",
    "                                                                                     y_labels,\n",
    "                                                                                     test_size=0.2, \n",
    "                                                                                     random_state=42)"
   ]
  },
  {
   "cell_type": "code",
   "execution_count": 15,
   "metadata": {
    "execution": {
     "iopub.execute_input": "2020-12-10T05:48:48.908220Z",
     "iopub.status.busy": "2020-12-10T05:48:48.907211Z",
     "iopub.status.idle": "2020-12-10T07:25:15.887676Z",
     "shell.execute_reply": "2020-12-10T07:25:15.888472Z"
    },
    "papermill": {
     "duration": 5788.491707,
     "end_time": "2020-12-10T07:25:15.888727",
     "exception": false,
     "start_time": "2020-12-10T05:48:47.397020",
     "status": "completed"
    },
    "tags": []
   },
   "outputs": [
    {
     "name": "stdout",
     "output_type": "stream",
     "text": [
      "Epoch 1/2\n",
      "1995/1995 [==============================] - 2871s 1s/step - loss: 0.0628 - accuracy: 0.8489 - val_loss: 0.0462 - val_accuracy: 0.9941\n",
      "Epoch 2/2\n",
      "1995/1995 [==============================] - 2889s 1s/step - loss: 0.0482 - accuracy: 0.9633 - val_loss: 0.0435 - val_accuracy: 0.9940\n"
     ]
    }
   ],
   "source": [
    "hist = model.fit([X_train_id, X_train_mask], \n",
    "                 y_train, \n",
    "                 validation_data=([X_test_id, X_test_mask], y_test),\n",
    "                 epochs=2,\n",
    "                 batch_size=64)"
   ]
  },
  {
   "cell_type": "code",
   "execution_count": 16,
   "metadata": {
    "execution": {
     "iopub.execute_input": "2020-12-10T07:25:21.801603Z",
     "iopub.status.busy": "2020-12-10T07:25:21.800727Z",
     "iopub.status.idle": "2020-12-10T07:25:22.682454Z",
     "shell.execute_reply": "2020-12-10T07:25:22.681409Z"
    },
    "papermill": {
     "duration": 3.721108,
     "end_time": "2020-12-10T07:25:22.682583",
     "exception": false,
     "start_time": "2020-12-10T07:25:18.961475",
     "status": "completed"
    },
    "tags": []
   },
   "outputs": [],
   "source": [
    "model.save_weights('bert_2_epochs_BCE.h5')"
   ]
  },
  {
   "cell_type": "code",
   "execution_count": 17,
   "metadata": {
    "execution": {
     "iopub.execute_input": "2020-12-10T07:25:28.297378Z",
     "iopub.status.busy": "2020-12-10T07:25:28.296442Z",
     "iopub.status.idle": "2020-12-10T07:25:28.308883Z",
     "shell.execute_reply": "2020-12-10T07:25:28.308086Z"
    },
    "papermill": {
     "duration": 2.834564,
     "end_time": "2020-12-10T07:25:28.309020",
     "exception": false,
     "start_time": "2020-12-10T07:25:25.474456",
     "status": "completed"
    },
    "tags": []
   },
   "outputs": [
    {
     "name": "stderr",
     "output_type": "stream",
     "text": [
      "100%|██████████| 20/20 [00:00<00:00, 4199.34it/s]\n"
     ]
    }
   ],
   "source": [
    "sample_text = 'I hate you, you idiot!'\n",
    "clean_txt = cleaning(sample_text)\n",
    "input_ids_test, input_masks_test = tokenize(clean_txt, tokenizer)"
   ]
  },
  {
   "cell_type": "code",
   "execution_count": 18,
   "metadata": {
    "execution": {
     "iopub.execute_input": "2020-12-10T07:25:34.505444Z",
     "iopub.status.busy": "2020-12-10T07:25:34.504559Z",
     "iopub.status.idle": "2020-12-10T07:25:38.252906Z",
     "shell.execute_reply": "2020-12-10T07:25:38.252382Z"
    },
    "papermill": {
     "duration": 6.669962,
     "end_time": "2020-12-10T07:25:38.253018",
     "exception": false,
     "start_time": "2020-12-10T07:25:31.583056",
     "status": "completed"
    },
    "tags": []
   },
   "outputs": [
    {
     "name": "stdout",
     "output_type": "stream",
     "text": [
      "toxic\n"
     ]
    }
   ],
   "source": [
    "preds = model.predict([input_ids_test, input_masks_test])[0]\n",
    "prediction = target_columns[np.argmax(preds, axis=0)]\n",
    "print(prediction)"
   ]
  },
  {
   "cell_type": "code",
   "execution_count": 19,
   "metadata": {
    "execution": {
     "iopub.execute_input": "2020-12-10T07:25:44.317910Z",
     "iopub.status.busy": "2020-12-10T07:25:44.317254Z",
     "iopub.status.idle": "2020-12-10T07:57:35.998620Z",
     "shell.execute_reply": "2020-12-10T07:57:35.997478Z"
    },
    "papermill": {
     "duration": 1914.649841,
     "end_time": "2020-12-10T07:57:35.998795",
     "exception": false,
     "start_time": "2020-12-10T07:25:41.348954",
     "status": "completed"
    },
    "tags": []
   },
   "outputs": [
    {
     "name": "stderr",
     "output_type": "stream",
     "text": [
      "100%|██████████| 153164/153164 [07:12<00:00, 353.83it/s]\n"
     ]
    }
   ],
   "source": [
    "sample_submission_path = '../input/jigsaw-toxic-comment-classification-challenge/sample_submission.csv.zip'\n",
    "sample_submission = pd.read_csv(sample_submission_path)\n",
    "sample_submission.head()\n",
    "\n",
    "\n",
    "test_path = '../input/jigsaw-toxic-comment-classification-challenge/test.csv.zip'\n",
    "df_test = pd.read_csv(test_path)\n",
    "\n",
    "df_test.head()\n",
    "\n",
    "\n",
    "ids = df_test['id']\n",
    "X_t = df_test['comment_text'].apply(cleaning)\n",
    "sub_input_ids, sub_input_masks = tokenize(X_t, tokenizer)\n",
    "\n",
    "\n",
    "predictions = model.predict([sub_input_ids, sub_input_masks])\n",
    "\n",
    "ids = pd.Series(ids)\n",
    "y_preds = pd.DataFrame(predictions, columns=target_columns)\n",
    "\n",
    "final_submission = pd.concat([ids, y_preds], axis=1)\n",
    "\n",
    "final_submission.head()\n",
    "\n",
    "final_submission.to_csv('submission_2_epochs.csv', index=False)"
   ]
  }
 ],
 "metadata": {
  "kernelspec": {
   "display_name": "Python 3",
   "language": "python",
   "name": "python3"
  },
  "language_info": {
   "codemirror_mode": {
    "name": "ipython",
    "version": 3
   },
   "file_extension": ".py",
   "mimetype": "text/x-python",
   "name": "python",
   "nbconvert_exporter": "python",
   "pygments_lexer": "ipython3",
   "version": "3.7.6"
  },
  "papermill": {
   "duration": 8795.494063,
   "end_time": "2020-12-10T07:57:42.237971",
   "environment_variables": {},
   "exception": null,
   "input_path": "__notebook__.ipynb",
   "output_path": "__notebook__.ipynb",
   "parameters": {},
   "start_time": "2020-12-10T05:31:06.743908",
   "version": "2.1.0"
  },
  "widgets": {
   "application/vnd.jupyter.widget-state+json": {
    "state": {
     "0c5de3a4a0534f619dc8b47736c24ea4": {
      "model_module": "@jupyter-widgets/base",
      "model_module_version": "1.2.0",
      "model_name": "LayoutModel",
      "state": {
       "_model_module": "@jupyter-widgets/base",
       "_model_module_version": "1.2.0",
       "_model_name": "LayoutModel",
       "_view_count": null,
       "_view_module": "@jupyter-widgets/base",
       "_view_module_version": "1.2.0",
       "_view_name": "LayoutView",
       "align_content": null,
       "align_items": null,
       "align_self": null,
       "border": null,
       "bottom": null,
       "display": null,
       "flex": null,
       "flex_flow": null,
       "grid_area": null,
       "grid_auto_columns": null,
       "grid_auto_flow": null,
       "grid_auto_rows": null,
       "grid_column": null,
       "grid_gap": null,
       "grid_row": null,
       "grid_template_areas": null,
       "grid_template_columns": null,
       "grid_template_rows": null,
       "height": null,
       "justify_content": null,
       "justify_items": null,
       "left": null,
       "margin": null,
       "max_height": null,
       "max_width": null,
       "min_height": null,
       "min_width": null,
       "object_fit": null,
       "object_position": null,
       "order": null,
       "overflow": null,
       "overflow_x": null,
       "overflow_y": null,
       "padding": null,
       "right": null,
       "top": null,
       "visibility": null,
       "width": null
      }
     },
     "10126c8b58c34cf484f0167b52f4e526": {
      "model_module": "@jupyter-widgets/controls",
      "model_module_version": "1.5.0",
      "model_name": "ProgressStyleModel",
      "state": {
       "_model_module": "@jupyter-widgets/controls",
       "_model_module_version": "1.5.0",
       "_model_name": "ProgressStyleModel",
       "_view_count": null,
       "_view_module": "@jupyter-widgets/base",
       "_view_module_version": "1.2.0",
       "_view_name": "StyleView",
       "bar_color": null,
       "description_width": "initial"
      }
     },
     "111f50696353477689d4094cdb4f9bdf": {
      "model_module": "@jupyter-widgets/controls",
      "model_module_version": "1.5.0",
      "model_name": "DescriptionStyleModel",
      "state": {
       "_model_module": "@jupyter-widgets/controls",
       "_model_module_version": "1.5.0",
       "_model_name": "DescriptionStyleModel",
       "_view_count": null,
       "_view_module": "@jupyter-widgets/base",
       "_view_module_version": "1.2.0",
       "_view_name": "StyleView",
       "description_width": ""
      }
     },
     "1b778bbb3db94c9fbf79a29b1377ab79": {
      "model_module": "@jupyter-widgets/base",
      "model_module_version": "1.2.0",
      "model_name": "LayoutModel",
      "state": {
       "_model_module": "@jupyter-widgets/base",
       "_model_module_version": "1.2.0",
       "_model_name": "LayoutModel",
       "_view_count": null,
       "_view_module": "@jupyter-widgets/base",
       "_view_module_version": "1.2.0",
       "_view_name": "LayoutView",
       "align_content": null,
       "align_items": null,
       "align_self": null,
       "border": null,
       "bottom": null,
       "display": null,
       "flex": null,
       "flex_flow": null,
       "grid_area": null,
       "grid_auto_columns": null,
       "grid_auto_flow": null,
       "grid_auto_rows": null,
       "grid_column": null,
       "grid_gap": null,
       "grid_row": null,
       "grid_template_areas": null,
       "grid_template_columns": null,
       "grid_template_rows": null,
       "height": null,
       "justify_content": null,
       "justify_items": null,
       "left": null,
       "margin": null,
       "max_height": null,
       "max_width": null,
       "min_height": null,
       "min_width": null,
       "object_fit": null,
       "object_position": null,
       "order": null,
       "overflow": null,
       "overflow_x": null,
       "overflow_y": null,
       "padding": null,
       "right": null,
       "top": null,
       "visibility": null,
       "width": null
      }
     },
     "3f503ec0420c404cbc69a426a1141618": {
      "model_module": "@jupyter-widgets/controls",
      "model_module_version": "1.5.0",
      "model_name": "HBoxModel",
      "state": {
       "_dom_classes": [],
       "_model_module": "@jupyter-widgets/controls",
       "_model_module_version": "1.5.0",
       "_model_name": "HBoxModel",
       "_view_count": null,
       "_view_module": "@jupyter-widgets/controls",
       "_view_module_version": "1.5.0",
       "_view_name": "HBoxView",
       "box_style": "",
       "children": [
        "IPY_MODEL_b24e0f65ee3d4e6db610acfeb985e7c0",
        "IPY_MODEL_d2e7bd37c1524bff83c557dd4f220ce8"
       ],
       "layout": "IPY_MODEL_aa8f98cf1fc94f779a483577fbef0601"
      }
     },
     "55a031703c27483797499471a4bd88ef": {
      "model_module": "@jupyter-widgets/controls",
      "model_module_version": "1.5.0",
      "model_name": "FloatProgressModel",
      "state": {
       "_dom_classes": [],
       "_model_module": "@jupyter-widgets/controls",
       "_model_module_version": "1.5.0",
       "_model_name": "FloatProgressModel",
       "_view_count": null,
       "_view_module": "@jupyter-widgets/controls",
       "_view_module_version": "1.5.0",
       "_view_name": "ProgressView",
       "bar_style": "success",
       "description": "Downloading: 100%",
       "description_tooltip": null,
       "layout": "IPY_MODEL_1b778bbb3db94c9fbf79a29b1377ab79",
       "max": 231508.0,
       "min": 0.0,
       "orientation": "horizontal",
       "style": "IPY_MODEL_10126c8b58c34cf484f0167b52f4e526",
       "value": 231508.0
      }
     },
     "993944da568843e599cc1510cc6f7a96": {
      "model_module": "@jupyter-widgets/controls",
      "model_module_version": "1.5.0",
      "model_name": "HTMLModel",
      "state": {
       "_dom_classes": [],
       "_model_module": "@jupyter-widgets/controls",
       "_model_module_version": "1.5.0",
       "_model_name": "HTMLModel",
       "_view_count": null,
       "_view_module": "@jupyter-widgets/controls",
       "_view_module_version": "1.5.0",
       "_view_name": "HTMLView",
       "description": "",
       "description_tooltip": null,
       "layout": "IPY_MODEL_9b066bf1d03b41f1a38f6c92435321ea",
       "placeholder": "​",
       "style": "IPY_MODEL_111f50696353477689d4094cdb4f9bdf",
       "value": " 232k/232k [00:00&lt;00:00, 1.31MB/s]"
      }
     },
     "9b066bf1d03b41f1a38f6c92435321ea": {
      "model_module": "@jupyter-widgets/base",
      "model_module_version": "1.2.0",
      "model_name": "LayoutModel",
      "state": {
       "_model_module": "@jupyter-widgets/base",
       "_model_module_version": "1.2.0",
       "_model_name": "LayoutModel",
       "_view_count": null,
       "_view_module": "@jupyter-widgets/base",
       "_view_module_version": "1.2.0",
       "_view_name": "LayoutView",
       "align_content": null,
       "align_items": null,
       "align_self": null,
       "border": null,
       "bottom": null,
       "display": null,
       "flex": null,
       "flex_flow": null,
       "grid_area": null,
       "grid_auto_columns": null,
       "grid_auto_flow": null,
       "grid_auto_rows": null,
       "grid_column": null,
       "grid_gap": null,
       "grid_row": null,
       "grid_template_areas": null,
       "grid_template_columns": null,
       "grid_template_rows": null,
       "height": null,
       "justify_content": null,
       "justify_items": null,
       "left": null,
       "margin": null,
       "max_height": null,
       "max_width": null,
       "min_height": null,
       "min_width": null,
       "object_fit": null,
       "object_position": null,
       "order": null,
       "overflow": null,
       "overflow_x": null,
       "overflow_y": null,
       "padding": null,
       "right": null,
       "top": null,
       "visibility": null,
       "width": null
      }
     },
     "aa8f98cf1fc94f779a483577fbef0601": {
      "model_module": "@jupyter-widgets/base",
      "model_module_version": "1.2.0",
      "model_name": "LayoutModel",
      "state": {
       "_model_module": "@jupyter-widgets/base",
       "_model_module_version": "1.2.0",
       "_model_name": "LayoutModel",
       "_view_count": null,
       "_view_module": "@jupyter-widgets/base",
       "_view_module_version": "1.2.0",
       "_view_name": "LayoutView",
       "align_content": null,
       "align_items": null,
       "align_self": null,
       "border": null,
       "bottom": null,
       "display": null,
       "flex": null,
       "flex_flow": null,
       "grid_area": null,
       "grid_auto_columns": null,
       "grid_auto_flow": null,
       "grid_auto_rows": null,
       "grid_column": null,
       "grid_gap": null,
       "grid_row": null,
       "grid_template_areas": null,
       "grid_template_columns": null,
       "grid_template_rows": null,
       "height": null,
       "justify_content": null,
       "justify_items": null,
       "left": null,
       "margin": null,
       "max_height": null,
       "max_width": null,
       "min_height": null,
       "min_width": null,
       "object_fit": null,
       "object_position": null,
       "order": null,
       "overflow": null,
       "overflow_x": null,
       "overflow_y": null,
       "padding": null,
       "right": null,
       "top": null,
       "visibility": null,
       "width": null
      }
     },
     "b24e0f65ee3d4e6db610acfeb985e7c0": {
      "model_module": "@jupyter-widgets/controls",
      "model_module_version": "1.5.0",
      "model_name": "FloatProgressModel",
      "state": {
       "_dom_classes": [],
       "_model_module": "@jupyter-widgets/controls",
       "_model_module_version": "1.5.0",
       "_model_name": "FloatProgressModel",
       "_view_count": null,
       "_view_module": "@jupyter-widgets/controls",
       "_view_module_version": "1.5.0",
       "_view_name": "ProgressView",
       "bar_style": "success",
       "description": "Downloading: 100%",
       "description_tooltip": null,
       "layout": "IPY_MODEL_b251a45ffe97413c9beaae2f546f93c7",
       "max": 536063208.0,
       "min": 0.0,
       "orientation": "horizontal",
       "style": "IPY_MODEL_f5c1cf73c6694d3d983df4f11b0af3ff",
       "value": 536063208.0
      }
     },
     "b251a45ffe97413c9beaae2f546f93c7": {
      "model_module": "@jupyter-widgets/base",
      "model_module_version": "1.2.0",
      "model_name": "LayoutModel",
      "state": {
       "_model_module": "@jupyter-widgets/base",
       "_model_module_version": "1.2.0",
       "_model_name": "LayoutModel",
       "_view_count": null,
       "_view_module": "@jupyter-widgets/base",
       "_view_module_version": "1.2.0",
       "_view_name": "LayoutView",
       "align_content": null,
       "align_items": null,
       "align_self": null,
       "border": null,
       "bottom": null,
       "display": null,
       "flex": null,
       "flex_flow": null,
       "grid_area": null,
       "grid_auto_columns": null,
       "grid_auto_flow": null,
       "grid_auto_rows": null,
       "grid_column": null,
       "grid_gap": null,
       "grid_row": null,
       "grid_template_areas": null,
       "grid_template_columns": null,
       "grid_template_rows": null,
       "height": null,
       "justify_content": null,
       "justify_items": null,
       "left": null,
       "margin": null,
       "max_height": null,
       "max_width": null,
       "min_height": null,
       "min_width": null,
       "object_fit": null,
       "object_position": null,
       "order": null,
       "overflow": null,
       "overflow_x": null,
       "overflow_y": null,
       "padding": null,
       "right": null,
       "top": null,
       "visibility": null,
       "width": null
      }
     },
     "b44a043b401e462eb1984ade8a019d27": {
      "model_module": "@jupyter-widgets/controls",
      "model_module_version": "1.5.0",
      "model_name": "DescriptionStyleModel",
      "state": {
       "_model_module": "@jupyter-widgets/controls",
       "_model_module_version": "1.5.0",
       "_model_name": "DescriptionStyleModel",
       "_view_count": null,
       "_view_module": "@jupyter-widgets/base",
       "_view_module_version": "1.2.0",
       "_view_name": "StyleView",
       "description_width": ""
      }
     },
     "d2e7bd37c1524bff83c557dd4f220ce8": {
      "model_module": "@jupyter-widgets/controls",
      "model_module_version": "1.5.0",
      "model_name": "HTMLModel",
      "state": {
       "_dom_classes": [],
       "_model_module": "@jupyter-widgets/controls",
       "_model_module_version": "1.5.0",
       "_model_name": "HTMLModel",
       "_view_count": null,
       "_view_module": "@jupyter-widgets/controls",
       "_view_module_version": "1.5.0",
       "_view_name": "HTMLView",
       "description": "",
       "description_tooltip": null,
       "layout": "IPY_MODEL_0c5de3a4a0534f619dc8b47736c24ea4",
       "placeholder": "​",
       "style": "IPY_MODEL_b44a043b401e462eb1984ade8a019d27",
       "value": " 536M/536M [00:27&lt;00:00, 19.8MB/s]"
      }
     },
     "e73d508612a84df7b6515d04e6d6e970": {
      "model_module": "@jupyter-widgets/base",
      "model_module_version": "1.2.0",
      "model_name": "LayoutModel",
      "state": {
       "_model_module": "@jupyter-widgets/base",
       "_model_module_version": "1.2.0",
       "_model_name": "LayoutModel",
       "_view_count": null,
       "_view_module": "@jupyter-widgets/base",
       "_view_module_version": "1.2.0",
       "_view_name": "LayoutView",
       "align_content": null,
       "align_items": null,
       "align_self": null,
       "border": null,
       "bottom": null,
       "display": null,
       "flex": null,
       "flex_flow": null,
       "grid_area": null,
       "grid_auto_columns": null,
       "grid_auto_flow": null,
       "grid_auto_rows": null,
       "grid_column": null,
       "grid_gap": null,
       "grid_row": null,
       "grid_template_areas": null,
       "grid_template_columns": null,
       "grid_template_rows": null,
       "height": null,
       "justify_content": null,
       "justify_items": null,
       "left": null,
       "margin": null,
       "max_height": null,
       "max_width": null,
       "min_height": null,
       "min_width": null,
       "object_fit": null,
       "object_position": null,
       "order": null,
       "overflow": null,
       "overflow_x": null,
       "overflow_y": null,
       "padding": null,
       "right": null,
       "top": null,
       "visibility": null,
       "width": null
      }
     },
     "e804d34256db41bbb18c75800bc95edd": {
      "model_module": "@jupyter-widgets/controls",
      "model_module_version": "1.5.0",
      "model_name": "HBoxModel",
      "state": {
       "_dom_classes": [],
       "_model_module": "@jupyter-widgets/controls",
       "_model_module_version": "1.5.0",
       "_model_name": "HBoxModel",
       "_view_count": null,
       "_view_module": "@jupyter-widgets/controls",
       "_view_module_version": "1.5.0",
       "_view_name": "HBoxView",
       "box_style": "",
       "children": [
        "IPY_MODEL_55a031703c27483797499471a4bd88ef",
        "IPY_MODEL_993944da568843e599cc1510cc6f7a96"
       ],
       "layout": "IPY_MODEL_e73d508612a84df7b6515d04e6d6e970"
      }
     },
     "f5c1cf73c6694d3d983df4f11b0af3ff": {
      "model_module": "@jupyter-widgets/controls",
      "model_module_version": "1.5.0",
      "model_name": "ProgressStyleModel",
      "state": {
       "_model_module": "@jupyter-widgets/controls",
       "_model_module_version": "1.5.0",
       "_model_name": "ProgressStyleModel",
       "_view_count": null,
       "_view_module": "@jupyter-widgets/base",
       "_view_module_version": "1.2.0",
       "_view_name": "StyleView",
       "bar_color": null,
       "description_width": "initial"
      }
     }
    },
    "version_major": 2,
    "version_minor": 0
   }
  }
 },
 "nbformat": 4,
 "nbformat_minor": 4
}
