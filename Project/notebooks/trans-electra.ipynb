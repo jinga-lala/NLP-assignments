{
 "cells": [
  {
   "cell_type": "code",
   "execution_count": 1,
   "metadata": {
    "_cell_guid": "b1076dfc-b9ad-4769-8c92-a6c4dae69d19",
    "_uuid": "8f2839f25d086af736a60e9eeb907d3b93b6e0e5",
    "execution": {
     "iopub.execute_input": "2020-12-09T08:09:48.369404Z",
     "iopub.status.busy": "2020-12-09T08:09:48.368573Z",
     "iopub.status.idle": "2020-12-09T08:09:49.441642Z",
     "shell.execute_reply": "2020-12-09T08:09:49.441031Z"
    },
    "papermill": {
     "duration": 1.10044,
     "end_time": "2020-12-09T08:09:49.441765",
     "exception": false,
     "start_time": "2020-12-09T08:09:48.341325",
     "status": "completed"
    },
    "tags": []
   },
   "outputs": [
    {
     "name": "stdout",
     "output_type": "stream",
     "text": [
      "/kaggle/input/jigsaw-toxic-comment-classification-challenge/train.csv.zip\n",
      "/kaggle/input/jigsaw-toxic-comment-classification-challenge/sample_submission.csv.zip\n",
      "/kaggle/input/jigsaw-toxic-comment-classification-challenge/test_labels.csv.zip\n",
      "/kaggle/input/jigsaw-toxic-comment-classification-challenge/test.csv.zip\n",
      "/kaggle/input/transformers/electra_5_epochs.h5\n",
      "/kaggle/input/transformers/__results__.html\n",
      "/kaggle/input/transformers/submission_5_epochs.csv\n",
      "/kaggle/input/transformers/__notebook__.ipynb\n",
      "/kaggle/input/transformers/__output__.json\n",
      "/kaggle/input/transformers/custom.css\n"
     ]
    }
   ],
   "source": [
    "# This Python 3 environment comes with many helpful analytics libraries installed\n",
    "# It is defined by the kaggle/python Docker image: https://github.com/kaggle/docker-python\n",
    "# For example, here's several helpful packages to load\n",
    "\n",
    "import numpy as np # linear algebra\n",
    "import pandas as pd # data processing, CSV file I/O (e.g. pd.read_csv)\n",
    "import sklearn.metrics\n",
    "\n",
    "# Input data files are available in the read-only \"../input/\" directory\n",
    "# For example, running this (by clicking run or pressing Shift+Enter) will list all files under the input directory\n",
    "\n",
    "import os\n",
    "for dirname, _, filenames in os.walk('/kaggle/input'):\n",
    "    for filename in filenames:\n",
    "        print(os.path.join(dirname, filename))\n",
    "\n",
    "# You can write up to 5GB to the current directory (/kaggle/working/) that gets preserved as output when you create a version using \"Save & Run All\" \n",
    "# You can also write temporary files to /kaggle/temp/, but they won't be saved outside of the current session"
   ]
  },
  {
   "cell_type": "code",
   "execution_count": 2,
   "metadata": {
    "_cell_guid": "79c7e3d0-c299-4dcb-8224-4455121ee9b0",
    "_kg_hide-output": true,
    "_uuid": "d629ff2d2480ee46fbb7e2d37f6b5fab8052498a",
    "execution": {
     "iopub.execute_input": "2020-12-09T08:09:49.488568Z",
     "iopub.status.busy": "2020-12-09T08:09:49.487750Z",
     "iopub.status.idle": "2020-12-09T08:10:01.561171Z",
     "shell.execute_reply": "2020-12-09T08:10:01.560620Z"
    },
    "papermill": {
     "duration": 12.098002,
     "end_time": "2020-12-09T08:10:01.561316",
     "exception": false,
     "start_time": "2020-12-09T08:09:49.463314",
     "status": "completed"
    },
    "tags": []
   },
   "outputs": [
    {
     "name": "stdout",
     "output_type": "stream",
     "text": [
      "Requirement already satisfied: transformers in /opt/conda/lib/python3.7/site-packages (3.0.2)\r\n",
      "Collecting clean-text\r\n",
      "  Downloading clean_text-0.3.0-py3-none-any.whl (9.6 kB)\r\n",
      "Requirement already satisfied: filelock in /opt/conda/lib/python3.7/site-packages (from transformers) (3.0.10)\r\n",
      "Requirement already satisfied: sacremoses in /opt/conda/lib/python3.7/site-packages (from transformers) (0.0.43)\r\n",
      "Requirement already satisfied: packaging in /opt/conda/lib/python3.7/site-packages (from transformers) (20.1)\r\n",
      "Requirement already satisfied: requests in /opt/conda/lib/python3.7/site-packages (from transformers) (2.23.0)\r\n",
      "Requirement already satisfied: tqdm>=4.27 in /opt/conda/lib/python3.7/site-packages (from transformers) (4.45.0)\r\n",
      "Requirement already satisfied: sentencepiece!=0.1.92 in /opt/conda/lib/python3.7/site-packages (from transformers) (0.1.91)\r\n",
      "Requirement already satisfied: tokenizers==0.8.1.rc1 in /opt/conda/lib/python3.7/site-packages (from transformers) (0.8.1rc1)\r\n",
      "Requirement already satisfied: regex!=2019.12.17 in /opt/conda/lib/python3.7/site-packages (from transformers) (2020.4.4)\r\n",
      "Requirement already satisfied: numpy in /opt/conda/lib/python3.7/site-packages (from transformers) (1.18.5)\r\n",
      "Collecting ftfy<6.0,>=5.8\r\n",
      "  Downloading ftfy-5.8.tar.gz (64 kB)\r\n",
      "\u001b[K     |████████████████████████████████| 64 kB 371 kB/s \r\n",
      "\u001b[?25hRequirement already satisfied: emoji in /opt/conda/lib/python3.7/site-packages (from clean-text) (0.6.0)\r\n",
      "Requirement already satisfied: click in /opt/conda/lib/python3.7/site-packages (from sacremoses->transformers) (7.1.1)\r\n",
      "Requirement already satisfied: joblib in /opt/conda/lib/python3.7/site-packages (from sacremoses->transformers) (0.14.1)\r\n",
      "Requirement already satisfied: six in /opt/conda/lib/python3.7/site-packages (from sacremoses->transformers) (1.14.0)\r\n",
      "Requirement already satisfied: pyparsing>=2.0.2 in /opt/conda/lib/python3.7/site-packages (from packaging->transformers) (2.4.7)\r\n",
      "Requirement already satisfied: certifi>=2017.4.17 in /opt/conda/lib/python3.7/site-packages (from requests->transformers) (2020.6.20)\r\n",
      "Requirement already satisfied: chardet<4,>=3.0.2 in /opt/conda/lib/python3.7/site-packages (from requests->transformers) (3.0.4)\r\n",
      "Requirement already satisfied: urllib3!=1.25.0,!=1.25.1,<1.26,>=1.21.1 in /opt/conda/lib/python3.7/site-packages (from requests->transformers) (1.24.3)\r\n",
      "Requirement already satisfied: idna<3,>=2.5 in /opt/conda/lib/python3.7/site-packages (from requests->transformers) (2.9)\r\n",
      "Requirement already satisfied: wcwidth in /opt/conda/lib/python3.7/site-packages (from ftfy<6.0,>=5.8->clean-text) (0.1.9)\r\n",
      "Building wheels for collected packages: ftfy\r\n",
      "  Building wheel for ftfy (setup.py) ... \u001b[?25l-\b \b\\\b \bdone\r\n",
      "\u001b[?25h  Created wheel for ftfy: filename=ftfy-5.8-py3-none-any.whl size=45612 sha256=8a3a39280dcdaaa8986341089c191f9b3f20bfeca7afaa4d61a25f88d731d82a\r\n",
      "  Stored in directory: /root/.cache/pip/wheels/49/1c/fc/8b19700f939810cd8fd9495ae34934b246279791288eda1c31\r\n",
      "Successfully built ftfy\r\n",
      "Installing collected packages: ftfy, clean-text\r\n",
      "Successfully installed clean-text-0.3.0 ftfy-5.8\r\n",
      "\u001b[33mWARNING: You are using pip version 20.2.3; however, version 20.3.1 is available.\r\n",
      "You should consider upgrading via the '/opt/conda/bin/python3.7 -m pip install --upgrade pip' command.\u001b[0m\r\n"
     ]
    }
   ],
   "source": [
    "!pip install transformers clean-text"
   ]
  },
  {
   "cell_type": "code",
   "execution_count": 3,
   "metadata": {
    "execution": {
     "iopub.execute_input": "2020-12-09T08:10:01.622333Z",
     "iopub.status.busy": "2020-12-09T08:10:01.621634Z",
     "iopub.status.idle": "2020-12-09T08:10:03.995512Z",
     "shell.execute_reply": "2020-12-09T08:10:03.996105Z"
    },
    "papermill": {
     "duration": 2.40555,
     "end_time": "2020-12-09T08:10:03.996277",
     "exception": false,
     "start_time": "2020-12-09T08:10:01.590727",
     "status": "completed"
    },
    "tags": []
   },
   "outputs": [],
   "source": [
    "train_path = '../input/jigsaw-toxic-comment-classification-challenge/train.csv.zip'\n",
    "\n",
    "data = pd.read_csv(train_path)"
   ]
  },
  {
   "cell_type": "code",
   "execution_count": 4,
   "metadata": {
    "execution": {
     "iopub.execute_input": "2020-12-09T08:10:04.123564Z",
     "iopub.status.busy": "2020-12-09T08:10:04.122628Z",
     "iopub.status.idle": "2020-12-09T08:10:04.128442Z",
     "shell.execute_reply": "2020-12-09T08:10:04.129240Z"
    },
    "papermill": {
     "duration": 0.093412,
     "end_time": "2020-12-09T08:10:04.129432",
     "exception": false,
     "start_time": "2020-12-09T08:10:04.036020",
     "status": "completed"
    },
    "tags": []
   },
   "outputs": [
    {
     "name": "stdout",
     "output_type": "stream",
     "text": [
      "Number of Records: 159571, Number of features/columns: 8\n"
     ]
    }
   ],
   "source": [
    "print('Number of Records: {}, Number of features/columns: {}'.format(data.shape[0], data.shape[1]))"
   ]
  },
  {
   "cell_type": "code",
   "execution_count": 5,
   "metadata": {
    "execution": {
     "iopub.execute_input": "2020-12-09T08:10:04.211088Z",
     "iopub.status.busy": "2020-12-09T08:10:04.210305Z",
     "iopub.status.idle": "2020-12-09T08:10:04.300554Z",
     "shell.execute_reply": "2020-12-09T08:10:04.301606Z"
    },
    "papermill": {
     "duration": 0.131824,
     "end_time": "2020-12-09T08:10:04.301764",
     "exception": false,
     "start_time": "2020-12-09T08:10:04.169940",
     "status": "completed"
    },
    "tags": []
   },
   "outputs": [
    {
     "name": "stdout",
     "output_type": "stream",
     "text": [
      "Null values: 0\n"
     ]
    }
   ],
   "source": [
    "print('Null values: {}'.format(data.isnull().values.sum()))"
   ]
  },
  {
   "cell_type": "code",
   "execution_count": 6,
   "metadata": {
    "execution": {
     "iopub.execute_input": "2020-12-09T08:10:04.391192Z",
     "iopub.status.busy": "2020-12-09T08:10:04.390356Z",
     "iopub.status.idle": "2020-12-09T08:10:04.393243Z",
     "shell.execute_reply": "2020-12-09T08:10:04.393670Z"
    },
    "papermill": {
     "duration": 0.04623,
     "end_time": "2020-12-09T08:10:04.393792",
     "exception": false,
     "start_time": "2020-12-09T08:10:04.347562",
     "status": "completed"
    },
    "tags": []
   },
   "outputs": [],
   "source": [
    "target_columns = list(data.columns)[2:]\n",
    "y_labels = data[target_columns].values"
   ]
  },
  {
   "cell_type": "code",
   "execution_count": 7,
   "metadata": {
    "execution": {
     "iopub.execute_input": "2020-12-09T08:10:04.487644Z",
     "iopub.status.busy": "2020-12-09T08:10:04.486727Z",
     "iopub.status.idle": "2020-12-09T08:10:12.610680Z",
     "shell.execute_reply": "2020-12-09T08:10:12.609488Z"
    },
    "papermill": {
     "duration": 8.171902,
     "end_time": "2020-12-09T08:10:12.610860",
     "exception": false,
     "start_time": "2020-12-09T08:10:04.438958",
     "status": "completed"
    },
    "tags": []
   },
   "outputs": [
    {
     "name": "stderr",
     "output_type": "stream",
     "text": [
      "\u001b[34m\u001b[1mwandb\u001b[0m: \u001b[33mWARNING\u001b[0m W&B installed but not logged in.  Run `wandb login` or set the WANDB_API_KEY env variable.\n"
     ]
    }
   ],
   "source": [
    "from transformers import BertTokenizer, ElectraConfig, TFElectraModel\n",
    "from sklearn.model_selection import train_test_split\n",
    "import tensorflow as tf\n",
    "from tqdm import tqdm\n",
    "from cleantext import clean"
   ]
  },
  {
   "cell_type": "code",
   "execution_count": 8,
   "metadata": {
    "execution": {
     "iopub.execute_input": "2020-12-09T08:10:12.678080Z",
     "iopub.status.busy": "2020-12-09T08:10:12.677209Z",
     "iopub.status.idle": "2020-12-09T08:10:16.479626Z",
     "shell.execute_reply": "2020-12-09T08:10:16.479098Z"
    },
    "papermill": {
     "duration": 3.84106,
     "end_time": "2020-12-09T08:10:16.479747",
     "exception": false,
     "start_time": "2020-12-09T08:10:12.638687",
     "status": "completed"
    },
    "tags": []
   },
   "outputs": [
    {
     "data": {
      "application/vnd.jupyter.widget-view+json": {
       "model_id": "1e2856f63ed448c382095c848502f8f4",
       "version_major": 2,
       "version_minor": 0
      },
      "text/plain": [
       "HBox(children=(FloatProgress(value=0.0, description='Downloading', max=231508.0, style=ProgressStyle(descripti…"
      ]
     },
     "metadata": {},
     "output_type": "display_data"
    },
    {
     "name": "stdout",
     "output_type": "stream",
     "text": [
      "\n"
     ]
    },
    {
     "data": {
      "application/vnd.jupyter.widget-view+json": {
       "model_id": "8916409eddf24d0c8c8cdada7b4a97c1",
       "version_major": 2,
       "version_minor": 0
      },
      "text/plain": [
       "HBox(children=(FloatProgress(value=0.0, description='Downloading', max=466062.0, style=ProgressStyle(descripti…"
      ]
     },
     "metadata": {},
     "output_type": "display_data"
    },
    {
     "name": "stdout",
     "output_type": "stream",
     "text": [
      "\n"
     ]
    }
   ],
   "source": [
    "electra = 'google/electra-small-discriminator'\n",
    "\n",
    "tokenizer = BertTokenizer.from_pretrained(electra, do_lower_case=True, add_special_tokens=True,\n",
    "                                                max_length=128, pad_to_max_length=True)"
   ]
  },
  {
   "cell_type": "code",
   "execution_count": 9,
   "metadata": {
    "execution": {
     "iopub.execute_input": "2020-12-09T08:10:16.547853Z",
     "iopub.status.busy": "2020-12-09T08:10:16.546945Z",
     "iopub.status.idle": "2020-12-09T08:10:16.550040Z",
     "shell.execute_reply": "2020-12-09T08:10:16.549544Z"
    },
    "papermill": {
     "duration": 0.040143,
     "end_time": "2020-12-09T08:10:16.550140",
     "exception": false,
     "start_time": "2020-12-09T08:10:16.509997",
     "status": "completed"
    },
    "tags": []
   },
   "outputs": [],
   "source": [
    "def cleaning(text):\n",
    "    return clean(text, no_line_breaks=True, no_urls=True, no_punct=True)\n",
    "\n",
    "def tokenize(sentences, tokenizer):\n",
    "    \n",
    "    input_ids = []\n",
    "    input_masks = []\n",
    "    #input_segments = []\n",
    "    \n",
    "    for sentence in tqdm(sentences):\n",
    "        inputs = tokenizer.encode_plus(sentence, add_special_tokens=True, \n",
    "                                       max_length=128, pad_to_max_length=True, \n",
    "                                       return_attention_mask=True, return_token_type_ids=True)\n",
    "        \n",
    "        input_ids.append(inputs['input_ids'])\n",
    "        input_masks.append(inputs['attention_mask'])\n",
    "        #input_segments.append(inputs['token_type_ids'])        \n",
    "        \n",
    "    return np.asarray(input_ids, dtype='int32'),np.asarray(input_masks, dtype='int32')"
   ]
  },
  {
   "cell_type": "code",
   "execution_count": 10,
   "metadata": {
    "execution": {
     "iopub.execute_input": "2020-12-09T08:10:16.614569Z",
     "iopub.status.busy": "2020-12-09T08:10:16.613738Z",
     "iopub.status.idle": "2020-12-09T08:10:16.627590Z",
     "shell.execute_reply": "2020-12-09T08:10:16.627023Z"
    },
    "papermill": {
     "duration": 0.047982,
     "end_time": "2020-12-09T08:10:16.627678",
     "exception": false,
     "start_time": "2020-12-09T08:10:16.579696",
     "status": "completed"
    },
    "tags": []
   },
   "outputs": [
    {
     "name": "stderr",
     "output_type": "stream",
     "text": [
      "100%|██████████| 1/1 [00:00<00:00, 690.65it/s]\n"
     ]
    },
    {
     "data": {
      "text/plain": [
       "(array([[  101,  2002,  4609, 24978,  2378,  2213,  1057,  2497,   102,\n",
       "             0,     0,     0,     0,     0,     0,     0,     0,     0,\n",
       "             0,     0,     0,     0,     0,     0,     0,     0,     0,\n",
       "             0,     0,     0,     0,     0,     0,     0,     0,     0,\n",
       "             0,     0,     0,     0,     0,     0,     0,     0,     0,\n",
       "             0,     0,     0,     0,     0,     0,     0,     0,     0,\n",
       "             0,     0,     0,     0,     0,     0,     0,     0,     0,\n",
       "             0,     0,     0,     0,     0,     0,     0,     0,     0,\n",
       "             0,     0,     0,     0,     0,     0,     0,     0,     0,\n",
       "             0,     0,     0,     0,     0,     0,     0,     0,     0,\n",
       "             0,     0,     0,     0,     0,     0,     0,     0,     0,\n",
       "             0,     0,     0,     0,     0,     0,     0,     0,     0,\n",
       "             0,     0,     0,     0,     0,     0,     0,     0,     0,\n",
       "             0,     0,     0,     0,     0,     0,     0,     0,     0,\n",
       "             0,     0]], dtype=int32),\n",
       " array([[1, 1, 1, 1, 1, 1, 1, 1, 1, 0, 0, 0, 0, 0, 0, 0, 0, 0, 0, 0, 0, 0,\n",
       "         0, 0, 0, 0, 0, 0, 0, 0, 0, 0, 0, 0, 0, 0, 0, 0, 0, 0, 0, 0, 0, 0,\n",
       "         0, 0, 0, 0, 0, 0, 0, 0, 0, 0, 0, 0, 0, 0, 0, 0, 0, 0, 0, 0, 0, 0,\n",
       "         0, 0, 0, 0, 0, 0, 0, 0, 0, 0, 0, 0, 0, 0, 0, 0, 0, 0, 0, 0, 0, 0,\n",
       "         0, 0, 0, 0, 0, 0, 0, 0, 0, 0, 0, 0, 0, 0, 0, 0, 0, 0, 0, 0, 0, 0,\n",
       "         0, 0, 0, 0, 0, 0, 0, 0, 0, 0, 0, 0, 0, 0, 0, 0, 0, 0]],\n",
       "       dtype=int32))"
      ]
     },
     "execution_count": 10,
     "metadata": {},
     "output_type": "execute_result"
    }
   ],
   "source": [
    "tokenize(['heun nsinm ub'], tokenizer)"
   ]
  },
  {
   "cell_type": "code",
   "execution_count": 11,
   "metadata": {
    "_kg_hide-output": true,
    "execution": {
     "iopub.execute_input": "2020-12-09T08:10:16.721176Z",
     "iopub.status.busy": "2020-12-09T08:10:16.720352Z",
     "iopub.status.idle": "2020-12-09T08:24:42.875744Z",
     "shell.execute_reply": "2020-12-09T08:24:42.874724Z"
    },
    "papermill": {
     "duration": 866.217642,
     "end_time": "2020-12-09T08:24:42.875900",
     "exception": false,
     "start_time": "2020-12-09T08:10:16.658258",
     "status": "completed"
    },
    "tags": []
   },
   "outputs": [
    {
     "name": "stderr",
     "output_type": "stream",
     "text": [
      "100%|██████████| 159571/159571 [06:24<00:00, 415.41it/s]\n"
     ]
    }
   ],
   "source": [
    "data['comment_text'] = data['comment_text'].apply(cleaning)\n",
    "input_ids, input_masks = tokenize(data['comment_text'], tokenizer)"
   ]
  },
  {
   "cell_type": "code",
   "execution_count": 12,
   "metadata": {
    "execution": {
     "iopub.execute_input": "2020-12-09T08:24:45.685904Z",
     "iopub.status.busy": "2020-12-09T08:24:45.685228Z",
     "iopub.status.idle": "2020-12-09T08:25:03.073988Z",
     "shell.execute_reply": "2020-12-09T08:25:03.072745Z"
    },
    "papermill": {
     "duration": 18.730929,
     "end_time": "2020-12-09T08:25:03.074118",
     "exception": false,
     "start_time": "2020-12-09T08:24:44.343189",
     "status": "completed"
    },
    "tags": []
   },
   "outputs": [
    {
     "data": {
      "application/vnd.jupyter.widget-view+json": {
       "model_id": "8ed6d8e78eea47cba3e51d53903e1daf",
       "version_major": 2,
       "version_minor": 0
      },
      "text/plain": [
       "HBox(children=(FloatProgress(value=0.0, description='Downloading', max=54466044.0, style=ProgressStyle(descrip…"
      ]
     },
     "metadata": {},
     "output_type": "display_data"
    },
    {
     "name": "stdout",
     "output_type": "stream",
     "text": [
      "\n"
     ]
    }
   ],
   "source": [
    "config = ElectraConfig(dropout=0.2, attention_dropout=0.2)\n",
    "\n",
    "config.output_hidden_states = False\n",
    "\n",
    "transformer_model = TFElectraModel.from_pretrained(electra, config=config)\n",
    "\n",
    "input_ids_in = tf.keras.layers.Input(shape=(128,), name='input_token', dtype='int32')\n",
    "input_masks_in = tf.keras.layers.Input(shape=(128,), name='masked_token', dtype='int32')\n",
    "\n",
    "embedding_layer = transformer_model(input_ids_in, attention_mask=input_masks_in)[0]\n",
    "X = tf.keras.layers.Bidirectional(tf.keras.layers.LSTM(50, \n",
    "                                                       return_sequences=True, \n",
    "                                                       dropout=0.1, \n",
    "                                                       recurrent_dropout=0.1))(embedding_layer)\n",
    "X = tf.keras.layers.GlobalMaxPool1D()(X)\n",
    "X = tf.keras.layers.Dense(50, activation='relu')(X)\n",
    "X = tf.keras.layers.Dropout(0.2)(X)\n",
    "X = tf.keras.layers.Dense(6, activation='sigmoid')(X)\n",
    "\n",
    "model = tf.keras.models.Model(inputs=[input_ids_in, input_masks_in], outputs=X)\n",
    "\n",
    "for layer in model.layers[:3]:\n",
    "    layer.trainable = False"
   ]
  },
  {
   "cell_type": "code",
   "execution_count": 13,
   "metadata": {
    "execution": {
     "iopub.execute_input": "2020-12-09T08:25:05.544641Z",
     "iopub.status.busy": "2020-12-09T08:25:05.543608Z",
     "iopub.status.idle": "2020-12-09T08:25:05.597089Z",
     "shell.execute_reply": "2020-12-09T08:25:05.597879Z"
    },
    "papermill": {
     "duration": 1.315484,
     "end_time": "2020-12-09T08:25:05.598310",
     "exception": false,
     "start_time": "2020-12-09T08:25:04.282826",
     "status": "completed"
    },
    "tags": []
   },
   "outputs": [
    {
     "name": "stdout",
     "output_type": "stream",
     "text": [
      "Model: \"functional_1\"\n",
      "__________________________________________________________________________________________________\n",
      "Layer (type)                    Output Shape         Param #     Connected to                     \n",
      "==================================================================================================\n",
      "input_token (InputLayer)        [(None, 128)]        0                                            \n",
      "__________________________________________________________________________________________________\n",
      "masked_token (InputLayer)       [(None, 128)]        0                                            \n",
      "__________________________________________________________________________________________________\n",
      "tf_electra_model (TFElectraMode ((None, 128, 256),)  13483008    input_token[0][0]                \n",
      "                                                                 masked_token[0][0]               \n",
      "__________________________________________________________________________________________________\n",
      "bidirectional (Bidirectional)   (None, 128, 100)     122800      tf_electra_model[0][0]           \n",
      "__________________________________________________________________________________________________\n",
      "global_max_pooling1d (GlobalMax (None, 100)          0           bidirectional[0][0]              \n",
      "__________________________________________________________________________________________________\n",
      "dense (Dense)                   (None, 50)           5050        global_max_pooling1d[0][0]       \n",
      "__________________________________________________________________________________________________\n",
      "dropout_37 (Dropout)            (None, 50)           0           dense[0][0]                      \n",
      "__________________________________________________________________________________________________\n",
      "dense_1 (Dense)                 (None, 6)            306         dropout_37[0][0]                 \n",
      "==================================================================================================\n",
      "Total params: 13,611,164\n",
      "Trainable params: 128,156\n",
      "Non-trainable params: 13,483,008\n",
      "__________________________________________________________________________________________________\n"
     ]
    }
   ],
   "source": [
    "model.summary()"
   ]
  },
  {
   "cell_type": "code",
   "execution_count": 14,
   "metadata": {
    "execution": {
     "iopub.execute_input": "2020-12-09T08:25:08.319226Z",
     "iopub.status.busy": "2020-12-09T08:25:08.318227Z",
     "iopub.status.idle": "2020-12-09T08:25:08.326046Z",
     "shell.execute_reply": "2020-12-09T08:25:08.325528Z"
    },
    "papermill": {
     "duration": 1.265494,
     "end_time": "2020-12-09T08:25:08.326151",
     "exception": false,
     "start_time": "2020-12-09T08:25:07.060657",
     "status": "completed"
    },
    "tags": []
   },
   "outputs": [],
   "source": [
    "model.compile(optimizer='adam', loss='binary_crossentropy', metrics=['accuracy'])"
   ]
  },
  {
   "cell_type": "code",
   "execution_count": 15,
   "metadata": {
    "execution": {
     "iopub.execute_input": "2020-12-09T08:25:10.763742Z",
     "iopub.status.busy": "2020-12-09T08:25:10.759208Z",
     "iopub.status.idle": "2020-12-09T08:25:10.842779Z",
     "shell.execute_reply": "2020-12-09T08:25:10.843281Z"
    },
    "papermill": {
     "duration": 1.328448,
     "end_time": "2020-12-09T08:25:10.843428",
     "exception": false,
     "start_time": "2020-12-09T08:25:09.514980",
     "status": "completed"
    },
    "tags": []
   },
   "outputs": [],
   "source": [
    "X_train_id, X_test_id, X_train_mask, X_test_mask, y_train, y_test = train_test_split(input_ids, \n",
    "                                                                                     input_masks, \n",
    "                                                                                     y_labels,\n",
    "                                                                                     test_size=0.2, \n",
    "                                                                                     random_state=42)"
   ]
  },
  {
   "cell_type": "code",
   "execution_count": 16,
   "metadata": {
    "execution": {
     "iopub.execute_input": "2020-12-09T08:25:13.306096Z",
     "iopub.status.busy": "2020-12-09T08:25:13.305139Z",
     "iopub.status.idle": "2020-12-09T09:03:53.575272Z",
     "shell.execute_reply": "2020-12-09T09:03:53.576260Z"
    },
    "papermill": {
     "duration": 2321.473544,
     "end_time": "2020-12-09T09:03:53.576567",
     "exception": false,
     "start_time": "2020-12-09T08:25:12.103023",
     "status": "completed"
    },
    "tags": []
   },
   "outputs": [
    {
     "name": "stdout",
     "output_type": "stream",
     "text": [
      "1995/1995 [==============================] - 2298s 1s/step - loss: 0.0805 - accuracy: 0.8665 - val_loss: 0.0596 - val_accuracy: 0.9941\n"
     ]
    }
   ],
   "source": [
    "hist = model.fit([X_train_id, X_train_mask], \n",
    "                 y_train, \n",
    "                 validation_data=([X_test_id, X_test_mask], y_test),\n",
    "                 epochs=1,\n",
    "                 batch_size=64)"
   ]
  },
  {
   "cell_type": "code",
   "execution_count": 17,
   "metadata": {
    "execution": {
     "iopub.execute_input": "2020-12-09T09:03:57.393239Z",
     "iopub.status.busy": "2020-12-09T09:03:57.392118Z",
     "iopub.status.idle": "2020-12-09T09:03:57.701940Z",
     "shell.execute_reply": "2020-12-09T09:03:57.700554Z"
    },
    "papermill": {
     "duration": 2.213604,
     "end_time": "2020-12-09T09:03:57.702111",
     "exception": false,
     "start_time": "2020-12-09T09:03:55.488507",
     "status": "completed"
    },
    "tags": []
   },
   "outputs": [],
   "source": [
    "model.save_weights('electra_1_bce_epochs.h5')"
   ]
  },
  {
   "cell_type": "code",
   "execution_count": 18,
   "metadata": {
    "execution": {
     "iopub.execute_input": "2020-12-09T09:04:02.122235Z",
     "iopub.status.busy": "2020-12-09T09:04:02.121382Z",
     "iopub.status.idle": "2020-12-09T09:04:02.150033Z",
     "shell.execute_reply": "2020-12-09T09:04:02.150656Z"
    },
    "papermill": {
     "duration": 2.356616,
     "end_time": "2020-12-09T09:04:02.150825",
     "exception": false,
     "start_time": "2020-12-09T09:03:59.794209",
     "status": "completed"
    },
    "tags": []
   },
   "outputs": [
    {
     "data": {
      "text/html": [
       "<div>\n",
       "<style scoped>\n",
       "    .dataframe tbody tr th:only-of-type {\n",
       "        vertical-align: middle;\n",
       "    }\n",
       "\n",
       "    .dataframe tbody tr th {\n",
       "        vertical-align: top;\n",
       "    }\n",
       "\n",
       "    .dataframe thead th {\n",
       "        text-align: right;\n",
       "    }\n",
       "</style>\n",
       "<table border=\"1\" class=\"dataframe\">\n",
       "  <thead>\n",
       "    <tr style=\"text-align: right;\">\n",
       "      <th></th>\n",
       "      <th>id</th>\n",
       "      <th>comment_text</th>\n",
       "      <th>toxic</th>\n",
       "      <th>severe_toxic</th>\n",
       "      <th>obscene</th>\n",
       "      <th>threat</th>\n",
       "      <th>insult</th>\n",
       "      <th>identity_hate</th>\n",
       "    </tr>\n",
       "  </thead>\n",
       "  <tbody>\n",
       "    <tr>\n",
       "      <th>9996</th>\n",
       "      <td>1a7a4868968e2b9e</td>\n",
       "      <td>those two love to disagree dont they 206170111187</td>\n",
       "      <td>0</td>\n",
       "      <td>0</td>\n",
       "      <td>0</td>\n",
       "      <td>0</td>\n",
       "      <td>0</td>\n",
       "      <td>0</td>\n",
       "    </tr>\n",
       "    <tr>\n",
       "      <th>126388</th>\n",
       "      <td>a3f3efcd86915222</td>\n",
       "      <td>romanesque architecture hi wlu thanks much for...</td>\n",
       "      <td>0</td>\n",
       "      <td>0</td>\n",
       "      <td>0</td>\n",
       "      <td>0</td>\n",
       "      <td>0</td>\n",
       "      <td>0</td>\n",
       "    </tr>\n",
       "    <tr>\n",
       "      <th>114034</th>\n",
       "      <td>6209fca1e88f03c7</td>\n",
       "      <td>if the author of the image is ok with the idea...</td>\n",
       "      <td>0</td>\n",
       "      <td>0</td>\n",
       "      <td>0</td>\n",
       "      <td>0</td>\n",
       "      <td>0</td>\n",
       "      <td>0</td>\n",
       "    </tr>\n",
       "    <tr>\n",
       "      <th>151187</th>\n",
       "      <td>79035e14bff6f1c1</td>\n",
       "      <td>on a personal note thanks for cleaning up the ...</td>\n",
       "      <td>0</td>\n",
       "      <td>0</td>\n",
       "      <td>0</td>\n",
       "      <td>0</td>\n",
       "      <td>0</td>\n",
       "      <td>0</td>\n",
       "    </tr>\n",
       "    <tr>\n",
       "      <th>96264</th>\n",
       "      <td>02dbaad7cba51d2a</td>\n",
       "      <td>toolserver is useless and the last dump hasnt ...</td>\n",
       "      <td>0</td>\n",
       "      <td>0</td>\n",
       "      <td>0</td>\n",
       "      <td>0</td>\n",
       "      <td>0</td>\n",
       "      <td>0</td>\n",
       "    </tr>\n",
       "    <tr>\n",
       "      <th>92922</th>\n",
       "      <td>f87289a4b59ad39b</td>\n",
       "      <td>before returning home and being disbanded in june</td>\n",
       "      <td>0</td>\n",
       "      <td>0</td>\n",
       "      <td>0</td>\n",
       "      <td>0</td>\n",
       "      <td>0</td>\n",
       "      <td>0</td>\n",
       "    </tr>\n",
       "    <tr>\n",
       "      <th>150822</th>\n",
       "      <td>729f3083ffc7e0c3</td>\n",
       "      <td>you personally may not have edited the list of...</td>\n",
       "      <td>0</td>\n",
       "      <td>0</td>\n",
       "      <td>0</td>\n",
       "      <td>0</td>\n",
       "      <td>0</td>\n",
       "      <td>0</td>\n",
       "    </tr>\n",
       "    <tr>\n",
       "      <th>61524</th>\n",
       "      <td>a4aafd043b7f12a4</td>\n",
       "      <td>corgan has said himself that the band is the s...</td>\n",
       "      <td>0</td>\n",
       "      <td>0</td>\n",
       "      <td>0</td>\n",
       "      <td>0</td>\n",
       "      <td>0</td>\n",
       "      <td>0</td>\n",
       "    </tr>\n",
       "    <tr>\n",
       "      <th>94573</th>\n",
       "      <td>fcda5caccc204861</td>\n",
       "      <td>copyediting ive gone through the article most ...</td>\n",
       "      <td>0</td>\n",
       "      <td>0</td>\n",
       "      <td>0</td>\n",
       "      <td>0</td>\n",
       "      <td>0</td>\n",
       "      <td>0</td>\n",
       "    </tr>\n",
       "    <tr>\n",
       "      <th>96287</th>\n",
       "      <td>02fdc006d720e5e7</td>\n",
       "      <td>in their marketing publications</td>\n",
       "      <td>0</td>\n",
       "      <td>0</td>\n",
       "      <td>0</td>\n",
       "      <td>0</td>\n",
       "      <td>0</td>\n",
       "      <td>0</td>\n",
       "    </tr>\n",
       "    <tr>\n",
       "      <th>732</th>\n",
       "      <td>01fb5b0525dd9b05</td>\n",
       "      <td>muslim men harassment of mm page it is amazing...</td>\n",
       "      <td>1</td>\n",
       "      <td>0</td>\n",
       "      <td>0</td>\n",
       "      <td>0</td>\n",
       "      <td>0</td>\n",
       "      <td>0</td>\n",
       "    </tr>\n",
       "    <tr>\n",
       "      <th>10058</th>\n",
       "      <td>1a9c9f94dd032277</td>\n",
       "      <td>so much talk yet little debate on the subject ...</td>\n",
       "      <td>0</td>\n",
       "      <td>0</td>\n",
       "      <td>0</td>\n",
       "      <td>0</td>\n",
       "      <td>0</td>\n",
       "      <td>0</td>\n",
       "    </tr>\n",
       "    <tr>\n",
       "      <th>66982</th>\n",
       "      <td>b32c4e4547dd2a5b</td>\n",
       "      <td>chough re your oppose on redbilled chough and ...</td>\n",
       "      <td>0</td>\n",
       "      <td>0</td>\n",
       "      <td>0</td>\n",
       "      <td>0</td>\n",
       "      <td>0</td>\n",
       "      <td>0</td>\n",
       "    </tr>\n",
       "    <tr>\n",
       "      <th>4070</th>\n",
       "      <td>0adea991cd68b262</td>\n",
       "      <td>userification of cooked tv hello darkside05 i ...</td>\n",
       "      <td>0</td>\n",
       "      <td>0</td>\n",
       "      <td>0</td>\n",
       "      <td>0</td>\n",
       "      <td>0</td>\n",
       "      <td>0</td>\n",
       "    </tr>\n",
       "    <tr>\n",
       "      <th>102721</th>\n",
       "      <td>25bb41c8c43551d4</td>\n",
       "      <td>edit other peoples usertalk page</td>\n",
       "      <td>0</td>\n",
       "      <td>0</td>\n",
       "      <td>0</td>\n",
       "      <td>0</td>\n",
       "      <td>0</td>\n",
       "      <td>0</td>\n",
       "    </tr>\n",
       "    <tr>\n",
       "      <th>153448</th>\n",
       "      <td>9d19434b87f109e5</td>\n",
       "      <td>myanw is a cockteaseing homophobe</td>\n",
       "      <td>1</td>\n",
       "      <td>0</td>\n",
       "      <td>0</td>\n",
       "      <td>0</td>\n",
       "      <td>1</td>\n",
       "      <td>0</td>\n",
       "    </tr>\n",
       "    <tr>\n",
       "      <th>63375</th>\n",
       "      <td>a98d728184fe70a9</td>\n",
       "      <td>becausesomeone was removing and reverting some...</td>\n",
       "      <td>0</td>\n",
       "      <td>0</td>\n",
       "      <td>0</td>\n",
       "      <td>0</td>\n",
       "      <td>0</td>\n",
       "      <td>0</td>\n",
       "    </tr>\n",
       "    <tr>\n",
       "      <th>1549</th>\n",
       "      <td>042c43958c0415e1</td>\n",
       "      <td>query on your deletion hello you deleted my ar...</td>\n",
       "      <td>0</td>\n",
       "      <td>0</td>\n",
       "      <td>0</td>\n",
       "      <td>0</td>\n",
       "      <td>0</td>\n",
       "      <td>0</td>\n",
       "    </tr>\n",
       "    <tr>\n",
       "      <th>16778</th>\n",
       "      <td>2c3ddf9430d92733</td>\n",
       "      <td>i dont know if you realize what you just said ...</td>\n",
       "      <td>0</td>\n",
       "      <td>0</td>\n",
       "      <td>0</td>\n",
       "      <td>0</td>\n",
       "      <td>0</td>\n",
       "      <td>0</td>\n",
       "    </tr>\n",
       "    <tr>\n",
       "      <th>74386</th>\n",
       "      <td>c703b3451d62acb9</td>\n",
       "      <td>happy new year happy new year warmest wishes f...</td>\n",
       "      <td>0</td>\n",
       "      <td>0</td>\n",
       "      <td>0</td>\n",
       "      <td>0</td>\n",
       "      <td>0</td>\n",
       "      <td>0</td>\n",
       "    </tr>\n",
       "  </tbody>\n",
       "</table>\n",
       "</div>"
      ],
      "text/plain": [
       "                      id                                       comment_text  \\\n",
       "9996    1a7a4868968e2b9e  those two love to disagree dont they 206170111187   \n",
       "126388  a3f3efcd86915222  romanesque architecture hi wlu thanks much for...   \n",
       "114034  6209fca1e88f03c7  if the author of the image is ok with the idea...   \n",
       "151187  79035e14bff6f1c1  on a personal note thanks for cleaning up the ...   \n",
       "96264   02dbaad7cba51d2a  toolserver is useless and the last dump hasnt ...   \n",
       "92922   f87289a4b59ad39b  before returning home and being disbanded in june   \n",
       "150822  729f3083ffc7e0c3  you personally may not have edited the list of...   \n",
       "61524   a4aafd043b7f12a4  corgan has said himself that the band is the s...   \n",
       "94573   fcda5caccc204861  copyediting ive gone through the article most ...   \n",
       "96287   02fdc006d720e5e7                    in their marketing publications   \n",
       "732     01fb5b0525dd9b05  muslim men harassment of mm page it is amazing...   \n",
       "10058   1a9c9f94dd032277  so much talk yet little debate on the subject ...   \n",
       "66982   b32c4e4547dd2a5b  chough re your oppose on redbilled chough and ...   \n",
       "4070    0adea991cd68b262  userification of cooked tv hello darkside05 i ...   \n",
       "102721  25bb41c8c43551d4                   edit other peoples usertalk page   \n",
       "153448  9d19434b87f109e5                  myanw is a cockteaseing homophobe   \n",
       "63375   a98d728184fe70a9  becausesomeone was removing and reverting some...   \n",
       "1549    042c43958c0415e1  query on your deletion hello you deleted my ar...   \n",
       "16778   2c3ddf9430d92733  i dont know if you realize what you just said ...   \n",
       "74386   c703b3451d62acb9  happy new year happy new year warmest wishes f...   \n",
       "\n",
       "        toxic  severe_toxic  obscene  threat  insult  identity_hate  \n",
       "9996        0             0        0       0       0              0  \n",
       "126388      0             0        0       0       0              0  \n",
       "114034      0             0        0       0       0              0  \n",
       "151187      0             0        0       0       0              0  \n",
       "96264       0             0        0       0       0              0  \n",
       "92922       0             0        0       0       0              0  \n",
       "150822      0             0        0       0       0              0  \n",
       "61524       0             0        0       0       0              0  \n",
       "94573       0             0        0       0       0              0  \n",
       "96287       0             0        0       0       0              0  \n",
       "732         1             0        0       0       0              0  \n",
       "10058       0             0        0       0       0              0  \n",
       "66982       0             0        0       0       0              0  \n",
       "4070        0             0        0       0       0              0  \n",
       "102721      0             0        0       0       0              0  \n",
       "153448      1             0        0       0       1              0  \n",
       "63375       0             0        0       0       0              0  \n",
       "1549        0             0        0       0       0              0  \n",
       "16778       0             0        0       0       0              0  \n",
       "74386       0             0        0       0       0              0  "
      ]
     },
     "execution_count": 18,
     "metadata": {},
     "output_type": "execute_result"
    }
   ],
   "source": [
    "data.sample(20)"
   ]
  },
  {
   "cell_type": "code",
   "execution_count": 19,
   "metadata": {
    "execution": {
     "iopub.execute_input": "2020-12-09T09:04:06.052455Z",
     "iopub.status.busy": "2020-12-09T09:04:06.050779Z",
     "iopub.status.idle": "2020-12-09T09:04:06.069606Z",
     "shell.execute_reply": "2020-12-09T09:04:06.070095Z"
    },
    "papermill": {
     "duration": 1.918122,
     "end_time": "2020-12-09T09:04:06.070231",
     "exception": false,
     "start_time": "2020-12-09T09:04:04.152109",
     "status": "completed"
    },
    "tags": []
   },
   "outputs": [
    {
     "name": "stderr",
     "output_type": "stream",
     "text": [
      "100%|██████████| 31/31 [00:00<00:00, 2740.16it/s]\n"
     ]
    }
   ],
   "source": [
    "sample_text = 'Buck Winston \\n\\nFuck you, I wont do'\n",
    "clean_txt = cleaning(sample_text)\n",
    "input_ids_test, input_masks_test = tokenize(clean_txt, tokenizer)"
   ]
  },
  {
   "cell_type": "code",
   "execution_count": 20,
   "metadata": {
    "execution": {
     "iopub.execute_input": "2020-12-09T09:04:10.225112Z",
     "iopub.status.busy": "2020-12-09T09:04:10.224096Z",
     "iopub.status.idle": "2020-12-09T09:04:13.958512Z",
     "shell.execute_reply": "2020-12-09T09:04:13.957334Z"
    },
    "papermill": {
     "duration": 5.988519,
     "end_time": "2020-12-09T09:04:13.958641",
     "exception": false,
     "start_time": "2020-12-09T09:04:07.970122",
     "status": "completed"
    },
    "tags": []
   },
   "outputs": [
    {
     "name": "stdout",
     "output_type": "stream",
     "text": [
      "[0.02709789 0.0006781  0.00950498 0.00074795 0.00628975 0.00124687]\n"
     ]
    }
   ],
   "source": [
    "preds = model.predict([input_ids_test, input_masks_test])[0]\n",
    "prediction = target_columns[np.argmax(preds, axis=0)]\n",
    "print(preds)"
   ]
  },
  {
   "cell_type": "code",
   "execution_count": 21,
   "metadata": {
    "execution": {
     "iopub.execute_input": "2020-12-09T09:04:17.891656Z",
     "iopub.status.busy": "2020-12-09T09:04:17.889354Z",
     "iopub.status.idle": "2020-12-09T09:04:17.895253Z",
     "shell.execute_reply": "2020-12-09T09:04:17.894566Z"
    },
    "papermill": {
     "duration": 1.988763,
     "end_time": "2020-12-09T09:04:17.895377",
     "exception": false,
     "start_time": "2020-12-09T09:04:15.906614",
     "status": "completed"
    },
    "tags": []
   },
   "outputs": [
    {
     "name": "stdout",
     "output_type": "stream",
     "text": [
      "[0.02709789 0.0006781  0.00950498 0.00074795 0.00628975 0.00124687]\n"
     ]
    }
   ],
   "source": [
    "print(preds)"
   ]
  },
  {
   "cell_type": "code",
   "execution_count": 22,
   "metadata": {
    "execution": {
     "iopub.execute_input": "2020-12-09T09:04:22.043736Z",
     "iopub.status.busy": "2020-12-09T09:04:22.042317Z",
     "iopub.status.idle": "2020-12-09T09:04:22.044468Z",
     "shell.execute_reply": "2020-12-09T09:04:22.045049Z"
    },
    "papermill": {
     "duration": 2.024902,
     "end_time": "2020-12-09T09:04:22.045191",
     "exception": false,
     "start_time": "2020-12-09T09:04:20.020289",
     "status": "completed"
    },
    "tags": []
   },
   "outputs": [],
   "source": [
    "# test_path = '../input/jigsaw-toxic-comment-classification-challenge/test.csv.zip'\n",
    "# test_label_path = '../input/jigsaw-toxic-comment-classification-challenge/test_labels.csv.zip'\n",
    "\n",
    "# test = pd.read_csv(test_path)\n",
    "# test_labels = pd.read_csv(test_label_path)\n",
    "\n",
    "# test_labels.head()"
   ]
  },
  {
   "cell_type": "code",
   "execution_count": 23,
   "metadata": {
    "execution": {
     "iopub.execute_input": "2020-12-09T09:04:26.459487Z",
     "iopub.status.busy": "2020-12-09T09:04:26.458355Z",
     "iopub.status.idle": "2020-12-09T09:04:26.461260Z",
     "shell.execute_reply": "2020-12-09T09:04:26.460447Z"
    },
    "papermill": {
     "duration": 2.488262,
     "end_time": "2020-12-09T09:04:26.461407",
     "exception": false,
     "start_time": "2020-12-09T09:04:23.973145",
     "status": "completed"
    },
    "tags": []
   },
   "outputs": [],
   "source": [
    "# test_set = test.merge(test_labels, left_index=True, right_index=True)\n",
    "# test_set = test_set[test_set.toxic!=-1]\n",
    "# test_set = test_set[[\"id_x\", \"comment_text\", \"toxic\", \"severe_toxic\", \"obscene\", \"threat\", \"insult\", \"identity_hate\"]]\n",
    "# test_set = test_set.reset_index(drop=True)\n",
    "# test_set = test_set.rename(columns={\"id_x\": \"id\"})\n",
    "# ids = test_set['id']\n",
    "# X_t = test_set['comment_text'].apply(cleaning)\n",
    "# gold = test_set[target_columns]\n",
    "# sub_input_ids, sub_input_masks = tokenize(X_t, tokenizer)\n",
    "# test_set.head()"
   ]
  },
  {
   "cell_type": "code",
   "execution_count": 24,
   "metadata": {
    "execution": {
     "iopub.execute_input": "2020-12-09T09:04:30.626226Z",
     "iopub.status.busy": "2020-12-09T09:04:30.625210Z",
     "iopub.status.idle": "2020-12-09T09:04:30.628838Z",
     "shell.execute_reply": "2020-12-09T09:04:30.628272Z"
    },
    "papermill": {
     "duration": 2.090443,
     "end_time": "2020-12-09T09:04:30.628951",
     "exception": false,
     "start_time": "2020-12-09T09:04:28.538508",
     "status": "completed"
    },
    "tags": []
   },
   "outputs": [],
   "source": [
    "\n",
    "# predictions = model.predict([sub_input_ids, sub_input_masks])\n",
    "\n"
   ]
  },
  {
   "cell_type": "code",
   "execution_count": 25,
   "metadata": {
    "execution": {
     "iopub.execute_input": "2020-12-09T09:04:35.638017Z",
     "iopub.status.busy": "2020-12-09T09:04:35.637067Z",
     "iopub.status.idle": "2020-12-09T09:04:35.639862Z",
     "shell.execute_reply": "2020-12-09T09:04:35.640463Z"
    },
    "papermill": {
     "duration": 2.63726,
     "end_time": "2020-12-09T09:04:35.640601",
     "exception": false,
     "start_time": "2020-12-09T09:04:33.003341",
     "status": "completed"
    },
    "tags": []
   },
   "outputs": [],
   "source": [
    "# print(gold[:5], predictions[:5])"
   ]
  },
  {
   "cell_type": "code",
   "execution_count": 26,
   "metadata": {
    "execution": {
     "iopub.execute_input": "2020-12-09T09:04:39.608519Z",
     "iopub.status.busy": "2020-12-09T09:04:39.607562Z",
     "iopub.status.idle": "2020-12-09T09:04:39.610440Z",
     "shell.execute_reply": "2020-12-09T09:04:39.609901Z"
    },
    "papermill": {
     "duration": 1.996888,
     "end_time": "2020-12-09T09:04:39.610542",
     "exception": false,
     "start_time": "2020-12-09T09:04:37.613654",
     "status": "completed"
    },
    "tags": []
   },
   "outputs": [],
   "source": [
    "# print(sklearn.metrics.classification_report(np.matrix(gold), (predictions>0.8)*1.0))"
   ]
  },
  {
   "cell_type": "code",
   "execution_count": 27,
   "metadata": {
    "execution": {
     "iopub.execute_input": "2020-12-09T09:04:43.660444Z",
     "iopub.status.busy": "2020-12-09T09:04:43.659763Z",
     "iopub.status.idle": "2020-12-09T09:26:40.409383Z",
     "shell.execute_reply": "2020-12-09T09:26:40.408002Z"
    },
    "papermill": {
     "duration": 1318.880798,
     "end_time": "2020-12-09T09:26:40.409536",
     "exception": false,
     "start_time": "2020-12-09T09:04:41.528738",
     "status": "completed"
    },
    "tags": []
   },
   "outputs": [
    {
     "name": "stderr",
     "output_type": "stream",
     "text": [
      "100%|██████████| 153164/153164 [06:10<00:00, 412.99it/s]\n"
     ]
    }
   ],
   "source": [
    "sample_submission_path = '../input/jigsaw-toxic-comment-classification-challenge/sample_submission.csv.zip'\n",
    "sample_submission = pd.read_csv(sample_submission_path)\n",
    "sample_submission.head()\n",
    "\n",
    "\n",
    "test_path = '../input/jigsaw-toxic-comment-classification-challenge/test.csv.zip'\n",
    "df_test = pd.read_csv(test_path)\n",
    "\n",
    "df_test.head()\n",
    "\n",
    "\n",
    "ids = df_test['id']\n",
    "X_t = df_test['comment_text'].apply(cleaning)\n",
    "sub_input_ids, sub_input_masks = tokenize(X_t, tokenizer)\n",
    "\n",
    "\n",
    "predictions = model.predict([sub_input_ids, sub_input_masks])\n",
    "\n",
    "ids = pd.Series(ids)\n",
    "y_preds = pd.DataFrame(predictions, columns=target_columns)\n",
    "\n",
    "final_submission = pd.concat([ids, y_preds], axis=1)\n",
    "\n",
    "final_submission.head()\n",
    "\n",
    "final_submission.to_csv('submission_1_bce_epochs.csv', index=False)\n",
    "\n"
   ]
  },
  {
   "cell_type": "code",
   "execution_count": null,
   "metadata": {
    "papermill": {
     "duration": 3.464378,
     "end_time": "2020-12-09T09:26:47.671526",
     "exception": false,
     "start_time": "2020-12-09T09:26:44.207148",
     "status": "completed"
    },
    "tags": []
   },
   "outputs": [],
   "source": []
  }
 ],
 "metadata": {
  "kernelspec": {
   "display_name": "Python 3",
   "language": "python",
   "name": "python3"
  },
  "language_info": {
   "codemirror_mode": {
    "name": "ipython",
    "version": 3
   },
   "file_extension": ".py",
   "mimetype": "text/x-python",
   "name": "python",
   "nbconvert_exporter": "python",
   "pygments_lexer": "ipython3",
   "version": "3.7.6"
  },
  "papermill": {
   "duration": 4628.827844,
   "end_time": "2020-12-09T09:26:52.876126",
   "environment_variables": {},
   "exception": null,
   "input_path": "__notebook__.ipynb",
   "output_path": "__notebook__.ipynb",
   "parameters": {},
   "start_time": "2020-12-09T08:09:44.048282",
   "version": "2.1.0"
  },
  "widgets": {
   "application/vnd.jupyter.widget-state+json": {
    "state": {
     "0974274c042b48e093e536cb0190c941": {
      "model_module": "@jupyter-widgets/controls",
      "model_module_version": "1.5.0",
      "model_name": "HTMLModel",
      "state": {
       "_dom_classes": [],
       "_model_module": "@jupyter-widgets/controls",
       "_model_module_version": "1.5.0",
       "_model_name": "HTMLModel",
       "_view_count": null,
       "_view_module": "@jupyter-widgets/controls",
       "_view_module_version": "1.5.0",
       "_view_name": "HTMLView",
       "description": "",
       "description_tooltip": null,
       "layout": "IPY_MODEL_28cd34c290724f0c9ea35d63fd61e319",
       "placeholder": "​",
       "style": "IPY_MODEL_88cad620b6dc4cf2bc0c6fd3b9554d89",
       "value": " 466k/466k [00:00&lt;00:00, 1.30MB/s]"
      }
     },
     "0d5d36722d7d4fc297a024597654527b": {
      "model_module": "@jupyter-widgets/controls",
      "model_module_version": "1.5.0",
      "model_name": "DescriptionStyleModel",
      "state": {
       "_model_module": "@jupyter-widgets/controls",
       "_model_module_version": "1.5.0",
       "_model_name": "DescriptionStyleModel",
       "_view_count": null,
       "_view_module": "@jupyter-widgets/base",
       "_view_module_version": "1.2.0",
       "_view_name": "StyleView",
       "description_width": ""
      }
     },
     "1d2cbc2015c74d10890587f79b5e0538": {
      "model_module": "@jupyter-widgets/controls",
      "model_module_version": "1.5.0",
      "model_name": "FloatProgressModel",
      "state": {
       "_dom_classes": [],
       "_model_module": "@jupyter-widgets/controls",
       "_model_module_version": "1.5.0",
       "_model_name": "FloatProgressModel",
       "_view_count": null,
       "_view_module": "@jupyter-widgets/controls",
       "_view_module_version": "1.5.0",
       "_view_name": "ProgressView",
       "bar_style": "success",
       "description": "Downloading: 100%",
       "description_tooltip": null,
       "layout": "IPY_MODEL_a39201f3503e4e4db586f82016b74e21",
       "max": 54466044.0,
       "min": 0.0,
       "orientation": "horizontal",
       "style": "IPY_MODEL_e80e93059d6c4d1f9d9feb7bc3772ba1",
       "value": 54466044.0
      }
     },
     "1e2856f63ed448c382095c848502f8f4": {
      "model_module": "@jupyter-widgets/controls",
      "model_module_version": "1.5.0",
      "model_name": "HBoxModel",
      "state": {
       "_dom_classes": [],
       "_model_module": "@jupyter-widgets/controls",
       "_model_module_version": "1.5.0",
       "_model_name": "HBoxModel",
       "_view_count": null,
       "_view_module": "@jupyter-widgets/controls",
       "_view_module_version": "1.5.0",
       "_view_name": "HBoxView",
       "box_style": "",
       "children": [
        "IPY_MODEL_6aa263a378894af1baf94d2cb41f54d0",
        "IPY_MODEL_efc450da1310443b8d6f9e88afa8e328"
       ],
       "layout": "IPY_MODEL_7b7d5d0966a94503988901b04aaad713"
      }
     },
     "28cd34c290724f0c9ea35d63fd61e319": {
      "model_module": "@jupyter-widgets/base",
      "model_module_version": "1.2.0",
      "model_name": "LayoutModel",
      "state": {
       "_model_module": "@jupyter-widgets/base",
       "_model_module_version": "1.2.0",
       "_model_name": "LayoutModel",
       "_view_count": null,
       "_view_module": "@jupyter-widgets/base",
       "_view_module_version": "1.2.0",
       "_view_name": "LayoutView",
       "align_content": null,
       "align_items": null,
       "align_self": null,
       "border": null,
       "bottom": null,
       "display": null,
       "flex": null,
       "flex_flow": null,
       "grid_area": null,
       "grid_auto_columns": null,
       "grid_auto_flow": null,
       "grid_auto_rows": null,
       "grid_column": null,
       "grid_gap": null,
       "grid_row": null,
       "grid_template_areas": null,
       "grid_template_columns": null,
       "grid_template_rows": null,
       "height": null,
       "justify_content": null,
       "justify_items": null,
       "left": null,
       "margin": null,
       "max_height": null,
       "max_width": null,
       "min_height": null,
       "min_width": null,
       "object_fit": null,
       "object_position": null,
       "order": null,
       "overflow": null,
       "overflow_x": null,
       "overflow_y": null,
       "padding": null,
       "right": null,
       "top": null,
       "visibility": null,
       "width": null
      }
     },
     "2b212d15e74b45e3b0ed71c00a5377cf": {
      "model_module": "@jupyter-widgets/controls",
      "model_module_version": "1.5.0",
      "model_name": "DescriptionStyleModel",
      "state": {
       "_model_module": "@jupyter-widgets/controls",
       "_model_module_version": "1.5.0",
       "_model_name": "DescriptionStyleModel",
       "_view_count": null,
       "_view_module": "@jupyter-widgets/base",
       "_view_module_version": "1.2.0",
       "_view_name": "StyleView",
       "description_width": ""
      }
     },
     "5d1e1de12e694a2b86512ac80ff0aab6": {
      "model_module": "@jupyter-widgets/base",
      "model_module_version": "1.2.0",
      "model_name": "LayoutModel",
      "state": {
       "_model_module": "@jupyter-widgets/base",
       "_model_module_version": "1.2.0",
       "_model_name": "LayoutModel",
       "_view_count": null,
       "_view_module": "@jupyter-widgets/base",
       "_view_module_version": "1.2.0",
       "_view_name": "LayoutView",
       "align_content": null,
       "align_items": null,
       "align_self": null,
       "border": null,
       "bottom": null,
       "display": null,
       "flex": null,
       "flex_flow": null,
       "grid_area": null,
       "grid_auto_columns": null,
       "grid_auto_flow": null,
       "grid_auto_rows": null,
       "grid_column": null,
       "grid_gap": null,
       "grid_row": null,
       "grid_template_areas": null,
       "grid_template_columns": null,
       "grid_template_rows": null,
       "height": null,
       "justify_content": null,
       "justify_items": null,
       "left": null,
       "margin": null,
       "max_height": null,
       "max_width": null,
       "min_height": null,
       "min_width": null,
       "object_fit": null,
       "object_position": null,
       "order": null,
       "overflow": null,
       "overflow_x": null,
       "overflow_y": null,
       "padding": null,
       "right": null,
       "top": null,
       "visibility": null,
       "width": null
      }
     },
     "5e8960c8ebd54f3d8d70e799722dd5b1": {
      "model_module": "@jupyter-widgets/base",
      "model_module_version": "1.2.0",
      "model_name": "LayoutModel",
      "state": {
       "_model_module": "@jupyter-widgets/base",
       "_model_module_version": "1.2.0",
       "_model_name": "LayoutModel",
       "_view_count": null,
       "_view_module": "@jupyter-widgets/base",
       "_view_module_version": "1.2.0",
       "_view_name": "LayoutView",
       "align_content": null,
       "align_items": null,
       "align_self": null,
       "border": null,
       "bottom": null,
       "display": null,
       "flex": null,
       "flex_flow": null,
       "grid_area": null,
       "grid_auto_columns": null,
       "grid_auto_flow": null,
       "grid_auto_rows": null,
       "grid_column": null,
       "grid_gap": null,
       "grid_row": null,
       "grid_template_areas": null,
       "grid_template_columns": null,
       "grid_template_rows": null,
       "height": null,
       "justify_content": null,
       "justify_items": null,
       "left": null,
       "margin": null,
       "max_height": null,
       "max_width": null,
       "min_height": null,
       "min_width": null,
       "object_fit": null,
       "object_position": null,
       "order": null,
       "overflow": null,
       "overflow_x": null,
       "overflow_y": null,
       "padding": null,
       "right": null,
       "top": null,
       "visibility": null,
       "width": null
      }
     },
     "625bc1ee8a414b69b07f1ba4f3a62b5d": {
      "model_module": "@jupyter-widgets/base",
      "model_module_version": "1.2.0",
      "model_name": "LayoutModel",
      "state": {
       "_model_module": "@jupyter-widgets/base",
       "_model_module_version": "1.2.0",
       "_model_name": "LayoutModel",
       "_view_count": null,
       "_view_module": "@jupyter-widgets/base",
       "_view_module_version": "1.2.0",
       "_view_name": "LayoutView",
       "align_content": null,
       "align_items": null,
       "align_self": null,
       "border": null,
       "bottom": null,
       "display": null,
       "flex": null,
       "flex_flow": null,
       "grid_area": null,
       "grid_auto_columns": null,
       "grid_auto_flow": null,
       "grid_auto_rows": null,
       "grid_column": null,
       "grid_gap": null,
       "grid_row": null,
       "grid_template_areas": null,
       "grid_template_columns": null,
       "grid_template_rows": null,
       "height": null,
       "justify_content": null,
       "justify_items": null,
       "left": null,
       "margin": null,
       "max_height": null,
       "max_width": null,
       "min_height": null,
       "min_width": null,
       "object_fit": null,
       "object_position": null,
       "order": null,
       "overflow": null,
       "overflow_x": null,
       "overflow_y": null,
       "padding": null,
       "right": null,
       "top": null,
       "visibility": null,
       "width": null
      }
     },
     "6aa263a378894af1baf94d2cb41f54d0": {
      "model_module": "@jupyter-widgets/controls",
      "model_module_version": "1.5.0",
      "model_name": "FloatProgressModel",
      "state": {
       "_dom_classes": [],
       "_model_module": "@jupyter-widgets/controls",
       "_model_module_version": "1.5.0",
       "_model_name": "FloatProgressModel",
       "_view_count": null,
       "_view_module": "@jupyter-widgets/controls",
       "_view_module_version": "1.5.0",
       "_view_name": "ProgressView",
       "bar_style": "success",
       "description": "Downloading: 100%",
       "description_tooltip": null,
       "layout": "IPY_MODEL_5e8960c8ebd54f3d8d70e799722dd5b1",
       "max": 231508.0,
       "min": 0.0,
       "orientation": "horizontal",
       "style": "IPY_MODEL_bcca0066565245bba9d04a64e8b5cc8d",
       "value": 231508.0
      }
     },
     "724bdded836b47ae96b186998a4a3a00": {
      "model_module": "@jupyter-widgets/controls",
      "model_module_version": "1.5.0",
      "model_name": "FloatProgressModel",
      "state": {
       "_dom_classes": [],
       "_model_module": "@jupyter-widgets/controls",
       "_model_module_version": "1.5.0",
       "_model_name": "FloatProgressModel",
       "_view_count": null,
       "_view_module": "@jupyter-widgets/controls",
       "_view_module_version": "1.5.0",
       "_view_name": "ProgressView",
       "bar_style": "success",
       "description": "Downloading: 100%",
       "description_tooltip": null,
       "layout": "IPY_MODEL_5d1e1de12e694a2b86512ac80ff0aab6",
       "max": 466062.0,
       "min": 0.0,
       "orientation": "horizontal",
       "style": "IPY_MODEL_bb5fcbda331c46a1a5bcb76e38943eb3",
       "value": 466062.0
      }
     },
     "7b7d5d0966a94503988901b04aaad713": {
      "model_module": "@jupyter-widgets/base",
      "model_module_version": "1.2.0",
      "model_name": "LayoutModel",
      "state": {
       "_model_module": "@jupyter-widgets/base",
       "_model_module_version": "1.2.0",
       "_model_name": "LayoutModel",
       "_view_count": null,
       "_view_module": "@jupyter-widgets/base",
       "_view_module_version": "1.2.0",
       "_view_name": "LayoutView",
       "align_content": null,
       "align_items": null,
       "align_self": null,
       "border": null,
       "bottom": null,
       "display": null,
       "flex": null,
       "flex_flow": null,
       "grid_area": null,
       "grid_auto_columns": null,
       "grid_auto_flow": null,
       "grid_auto_rows": null,
       "grid_column": null,
       "grid_gap": null,
       "grid_row": null,
       "grid_template_areas": null,
       "grid_template_columns": null,
       "grid_template_rows": null,
       "height": null,
       "justify_content": null,
       "justify_items": null,
       "left": null,
       "margin": null,
       "max_height": null,
       "max_width": null,
       "min_height": null,
       "min_width": null,
       "object_fit": null,
       "object_position": null,
       "order": null,
       "overflow": null,
       "overflow_x": null,
       "overflow_y": null,
       "padding": null,
       "right": null,
       "top": null,
       "visibility": null,
       "width": null
      }
     },
     "88cad620b6dc4cf2bc0c6fd3b9554d89": {
      "model_module": "@jupyter-widgets/controls",
      "model_module_version": "1.5.0",
      "model_name": "DescriptionStyleModel",
      "state": {
       "_model_module": "@jupyter-widgets/controls",
       "_model_module_version": "1.5.0",
       "_model_name": "DescriptionStyleModel",
       "_view_count": null,
       "_view_module": "@jupyter-widgets/base",
       "_view_module_version": "1.2.0",
       "_view_name": "StyleView",
       "description_width": ""
      }
     },
     "8916409eddf24d0c8c8cdada7b4a97c1": {
      "model_module": "@jupyter-widgets/controls",
      "model_module_version": "1.5.0",
      "model_name": "HBoxModel",
      "state": {
       "_dom_classes": [],
       "_model_module": "@jupyter-widgets/controls",
       "_model_module_version": "1.5.0",
       "_model_name": "HBoxModel",
       "_view_count": null,
       "_view_module": "@jupyter-widgets/controls",
       "_view_module_version": "1.5.0",
       "_view_name": "HBoxView",
       "box_style": "",
       "children": [
        "IPY_MODEL_724bdded836b47ae96b186998a4a3a00",
        "IPY_MODEL_0974274c042b48e093e536cb0190c941"
       ],
       "layout": "IPY_MODEL_fdc579c4338c433bb737ceb269af6934"
      }
     },
     "8ed6d8e78eea47cba3e51d53903e1daf": {
      "model_module": "@jupyter-widgets/controls",
      "model_module_version": "1.5.0",
      "model_name": "HBoxModel",
      "state": {
       "_dom_classes": [],
       "_model_module": "@jupyter-widgets/controls",
       "_model_module_version": "1.5.0",
       "_model_name": "HBoxModel",
       "_view_count": null,
       "_view_module": "@jupyter-widgets/controls",
       "_view_module_version": "1.5.0",
       "_view_name": "HBoxView",
       "box_style": "",
       "children": [
        "IPY_MODEL_1d2cbc2015c74d10890587f79b5e0538",
        "IPY_MODEL_eeaace72a2044c349162902d4ab0a5b3"
       ],
       "layout": "IPY_MODEL_c28799a3619c4f77bdaab9ba17e2c485"
      }
     },
     "9cc0298b6dbf45319b1d1c8c559864ec": {
      "model_module": "@jupyter-widgets/base",
      "model_module_version": "1.2.0",
      "model_name": "LayoutModel",
      "state": {
       "_model_module": "@jupyter-widgets/base",
       "_model_module_version": "1.2.0",
       "_model_name": "LayoutModel",
       "_view_count": null,
       "_view_module": "@jupyter-widgets/base",
       "_view_module_version": "1.2.0",
       "_view_name": "LayoutView",
       "align_content": null,
       "align_items": null,
       "align_self": null,
       "border": null,
       "bottom": null,
       "display": null,
       "flex": null,
       "flex_flow": null,
       "grid_area": null,
       "grid_auto_columns": null,
       "grid_auto_flow": null,
       "grid_auto_rows": null,
       "grid_column": null,
       "grid_gap": null,
       "grid_row": null,
       "grid_template_areas": null,
       "grid_template_columns": null,
       "grid_template_rows": null,
       "height": null,
       "justify_content": null,
       "justify_items": null,
       "left": null,
       "margin": null,
       "max_height": null,
       "max_width": null,
       "min_height": null,
       "min_width": null,
       "object_fit": null,
       "object_position": null,
       "order": null,
       "overflow": null,
       "overflow_x": null,
       "overflow_y": null,
       "padding": null,
       "right": null,
       "top": null,
       "visibility": null,
       "width": null
      }
     },
     "a39201f3503e4e4db586f82016b74e21": {
      "model_module": "@jupyter-widgets/base",
      "model_module_version": "1.2.0",
      "model_name": "LayoutModel",
      "state": {
       "_model_module": "@jupyter-widgets/base",
       "_model_module_version": "1.2.0",
       "_model_name": "LayoutModel",
       "_view_count": null,
       "_view_module": "@jupyter-widgets/base",
       "_view_module_version": "1.2.0",
       "_view_name": "LayoutView",
       "align_content": null,
       "align_items": null,
       "align_self": null,
       "border": null,
       "bottom": null,
       "display": null,
       "flex": null,
       "flex_flow": null,
       "grid_area": null,
       "grid_auto_columns": null,
       "grid_auto_flow": null,
       "grid_auto_rows": null,
       "grid_column": null,
       "grid_gap": null,
       "grid_row": null,
       "grid_template_areas": null,
       "grid_template_columns": null,
       "grid_template_rows": null,
       "height": null,
       "justify_content": null,
       "justify_items": null,
       "left": null,
       "margin": null,
       "max_height": null,
       "max_width": null,
       "min_height": null,
       "min_width": null,
       "object_fit": null,
       "object_position": null,
       "order": null,
       "overflow": null,
       "overflow_x": null,
       "overflow_y": null,
       "padding": null,
       "right": null,
       "top": null,
       "visibility": null,
       "width": null
      }
     },
     "bb5fcbda331c46a1a5bcb76e38943eb3": {
      "model_module": "@jupyter-widgets/controls",
      "model_module_version": "1.5.0",
      "model_name": "ProgressStyleModel",
      "state": {
       "_model_module": "@jupyter-widgets/controls",
       "_model_module_version": "1.5.0",
       "_model_name": "ProgressStyleModel",
       "_view_count": null,
       "_view_module": "@jupyter-widgets/base",
       "_view_module_version": "1.2.0",
       "_view_name": "StyleView",
       "bar_color": null,
       "description_width": "initial"
      }
     },
     "bcca0066565245bba9d04a64e8b5cc8d": {
      "model_module": "@jupyter-widgets/controls",
      "model_module_version": "1.5.0",
      "model_name": "ProgressStyleModel",
      "state": {
       "_model_module": "@jupyter-widgets/controls",
       "_model_module_version": "1.5.0",
       "_model_name": "ProgressStyleModel",
       "_view_count": null,
       "_view_module": "@jupyter-widgets/base",
       "_view_module_version": "1.2.0",
       "_view_name": "StyleView",
       "bar_color": null,
       "description_width": "initial"
      }
     },
     "c28799a3619c4f77bdaab9ba17e2c485": {
      "model_module": "@jupyter-widgets/base",
      "model_module_version": "1.2.0",
      "model_name": "LayoutModel",
      "state": {
       "_model_module": "@jupyter-widgets/base",
       "_model_module_version": "1.2.0",
       "_model_name": "LayoutModel",
       "_view_count": null,
       "_view_module": "@jupyter-widgets/base",
       "_view_module_version": "1.2.0",
       "_view_name": "LayoutView",
       "align_content": null,
       "align_items": null,
       "align_self": null,
       "border": null,
       "bottom": null,
       "display": null,
       "flex": null,
       "flex_flow": null,
       "grid_area": null,
       "grid_auto_columns": null,
       "grid_auto_flow": null,
       "grid_auto_rows": null,
       "grid_column": null,
       "grid_gap": null,
       "grid_row": null,
       "grid_template_areas": null,
       "grid_template_columns": null,
       "grid_template_rows": null,
       "height": null,
       "justify_content": null,
       "justify_items": null,
       "left": null,
       "margin": null,
       "max_height": null,
       "max_width": null,
       "min_height": null,
       "min_width": null,
       "object_fit": null,
       "object_position": null,
       "order": null,
       "overflow": null,
       "overflow_x": null,
       "overflow_y": null,
       "padding": null,
       "right": null,
       "top": null,
       "visibility": null,
       "width": null
      }
     },
     "e80e93059d6c4d1f9d9feb7bc3772ba1": {
      "model_module": "@jupyter-widgets/controls",
      "model_module_version": "1.5.0",
      "model_name": "ProgressStyleModel",
      "state": {
       "_model_module": "@jupyter-widgets/controls",
       "_model_module_version": "1.5.0",
       "_model_name": "ProgressStyleModel",
       "_view_count": null,
       "_view_module": "@jupyter-widgets/base",
       "_view_module_version": "1.2.0",
       "_view_name": "StyleView",
       "bar_color": null,
       "description_width": "initial"
      }
     },
     "eeaace72a2044c349162902d4ab0a5b3": {
      "model_module": "@jupyter-widgets/controls",
      "model_module_version": "1.5.0",
      "model_name": "HTMLModel",
      "state": {
       "_dom_classes": [],
       "_model_module": "@jupyter-widgets/controls",
       "_model_module_version": "1.5.0",
       "_model_name": "HTMLModel",
       "_view_count": null,
       "_view_module": "@jupyter-widgets/controls",
       "_view_module_version": "1.5.0",
       "_view_name": "HTMLView",
       "description": "",
       "description_tooltip": null,
       "layout": "IPY_MODEL_9cc0298b6dbf45319b1d1c8c559864ec",
       "placeholder": "​",
       "style": "IPY_MODEL_0d5d36722d7d4fc297a024597654527b",
       "value": " 54.5M/54.5M [00:10&lt;00:00, 5.31MB/s]"
      }
     },
     "efc450da1310443b8d6f9e88afa8e328": {
      "model_module": "@jupyter-widgets/controls",
      "model_module_version": "1.5.0",
      "model_name": "HTMLModel",
      "state": {
       "_dom_classes": [],
       "_model_module": "@jupyter-widgets/controls",
       "_model_module_version": "1.5.0",
       "_model_name": "HTMLModel",
       "_view_count": null,
       "_view_module": "@jupyter-widgets/controls",
       "_view_module_version": "1.5.0",
       "_view_name": "HTMLView",
       "description": "",
       "description_tooltip": null,
       "layout": "IPY_MODEL_625bc1ee8a414b69b07f1ba4f3a62b5d",
       "placeholder": "​",
       "style": "IPY_MODEL_2b212d15e74b45e3b0ed71c00a5377cf",
       "value": " 232k/232k [00:00&lt;00:00, 856kB/s]"
      }
     },
     "fdc579c4338c433bb737ceb269af6934": {
      "model_module": "@jupyter-widgets/base",
      "model_module_version": "1.2.0",
      "model_name": "LayoutModel",
      "state": {
       "_model_module": "@jupyter-widgets/base",
       "_model_module_version": "1.2.0",
       "_model_name": "LayoutModel",
       "_view_count": null,
       "_view_module": "@jupyter-widgets/base",
       "_view_module_version": "1.2.0",
       "_view_name": "LayoutView",
       "align_content": null,
       "align_items": null,
       "align_self": null,
       "border": null,
       "bottom": null,
       "display": null,
       "flex": null,
       "flex_flow": null,
       "grid_area": null,
       "grid_auto_columns": null,
       "grid_auto_flow": null,
       "grid_auto_rows": null,
       "grid_column": null,
       "grid_gap": null,
       "grid_row": null,
       "grid_template_areas": null,
       "grid_template_columns": null,
       "grid_template_rows": null,
       "height": null,
       "justify_content": null,
       "justify_items": null,
       "left": null,
       "margin": null,
       "max_height": null,
       "max_width": null,
       "min_height": null,
       "min_width": null,
       "object_fit": null,
       "object_position": null,
       "order": null,
       "overflow": null,
       "overflow_x": null,
       "overflow_y": null,
       "padding": null,
       "right": null,
       "top": null,
       "visibility": null,
       "width": null
      }
     }
    },
    "version_major": 2,
    "version_minor": 0
   }
  }
 },
 "nbformat": 4,
 "nbformat_minor": 4
}
