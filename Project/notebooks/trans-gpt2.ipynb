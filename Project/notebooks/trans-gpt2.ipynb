{
 "cells": [
  {
   "cell_type": "code",
   "execution_count": 1,
   "metadata": {
    "_cell_guid": "b1076dfc-b9ad-4769-8c92-a6c4dae69d19",
    "_uuid": "8f2839f25d086af736a60e9eeb907d3b93b6e0e5",
    "execution": {
     "iopub.execute_input": "2020-12-09T08:07:05.061533Z",
     "iopub.status.busy": "2020-12-09T08:07:05.060677Z",
     "iopub.status.idle": "2020-12-09T08:07:05.969828Z",
     "shell.execute_reply": "2020-12-09T08:07:05.970275Z"
    },
    "papermill": {
     "duration": 0.935237,
     "end_time": "2020-12-09T08:07:05.970431",
     "exception": false,
     "start_time": "2020-12-09T08:07:05.035194",
     "status": "completed"
    },
    "tags": []
   },
   "outputs": [
    {
     "name": "stdout",
     "output_type": "stream",
     "text": [
      "/kaggle/input/jigsaw-toxic-comment-classification-challenge/train.csv.zip\n",
      "/kaggle/input/jigsaw-toxic-comment-classification-challenge/sample_submission.csv.zip\n",
      "/kaggle/input/jigsaw-toxic-comment-classification-challenge/test_labels.csv.zip\n",
      "/kaggle/input/jigsaw-toxic-comment-classification-challenge/test.csv.zip\n",
      "/kaggle/input/transformers/electra_5_epochs.h5\n",
      "/kaggle/input/transformers/__results__.html\n",
      "/kaggle/input/transformers/submission_5_epochs.csv\n",
      "/kaggle/input/transformers/__notebook__.ipynb\n",
      "/kaggle/input/transformers/__output__.json\n",
      "/kaggle/input/transformers/custom.css\n",
      "/kaggle/input/trans-gpt2/__results__.html\n",
      "/kaggle/input/trans-gpt2/__notebook_source__.ipynb\n",
      "/kaggle/input/trans-gpt2/submission_5_epochs.csv\n",
      "/kaggle/input/trans-gpt2/__notebook__.ipynb\n",
      "/kaggle/input/trans-gpt2/__output__.json\n",
      "/kaggle/input/trans-gpt2/custom.css\n"
     ]
    }
   ],
   "source": [
    "# This Python 3 environment comes with many helpful analytics libraries installed\n",
    "# It is defined by the kaggle/python Docker image: https://github.com/kaggle/docker-python\n",
    "# For example, here's several helpful packages to load\n",
    "\n",
    "import numpy as np # linear algebra\n",
    "import pandas as pd # data processing, CSV file I/O (e.g. pd.read_csv)\n",
    "import sklearn.metrics\n",
    "\n",
    "# Input data files are available in the read-only \"../input/\" directory\n",
    "# For example, running this (by clicking run or pressing Shift+Enter) will list all files under the input directory\n",
    "\n",
    "import os\n",
    "for dirname, _, filenames in os.walk('/kaggle/input'):\n",
    "    for filename in filenames:\n",
    "        print(os.path.join(dirname, filename))\n",
    "\n",
    "# You can write up to 5GB to the current directory (/kaggle/working/) that gets preserved as output when you create a version using \"Save & Run All\" \n",
    "# You can also write temporary files to /kaggle/temp/, but they won't be saved outside of the current session"
   ]
  },
  {
   "cell_type": "code",
   "execution_count": 2,
   "metadata": {
    "_cell_guid": "79c7e3d0-c299-4dcb-8224-4455121ee9b0",
    "_kg_hide-output": true,
    "_uuid": "d629ff2d2480ee46fbb7e2d37f6b5fab8052498a",
    "execution": {
     "iopub.execute_input": "2020-12-09T08:07:06.010385Z",
     "iopub.status.busy": "2020-12-09T08:07:06.009610Z",
     "iopub.status.idle": "2020-12-09T08:07:17.918603Z",
     "shell.execute_reply": "2020-12-09T08:07:17.917614Z"
    },
    "papermill": {
     "duration": 11.930828,
     "end_time": "2020-12-09T08:07:17.918717",
     "exception": false,
     "start_time": "2020-12-09T08:07:05.987889",
     "status": "completed"
    },
    "tags": []
   },
   "outputs": [
    {
     "name": "stdout",
     "output_type": "stream",
     "text": [
      "Requirement already satisfied: transformers in /opt/conda/lib/python3.7/site-packages (3.0.2)\r\n",
      "Collecting clean-text\r\n",
      "  Downloading clean_text-0.3.0-py3-none-any.whl (9.6 kB)\r\n",
      "Requirement already satisfied: sacremoses in /opt/conda/lib/python3.7/site-packages (from transformers) (0.0.43)\r\n",
      "Requirement already satisfied: numpy in /opt/conda/lib/python3.7/site-packages (from transformers) (1.18.5)\r\n",
      "Requirement already satisfied: tqdm>=4.27 in /opt/conda/lib/python3.7/site-packages (from transformers) (4.45.0)\r\n",
      "Requirement already satisfied: tokenizers==0.8.1.rc1 in /opt/conda/lib/python3.7/site-packages (from transformers) (0.8.1rc1)\r\n",
      "Requirement already satisfied: filelock in /opt/conda/lib/python3.7/site-packages (from transformers) (3.0.10)\r\n",
      "Requirement already satisfied: sentencepiece!=0.1.92 in /opt/conda/lib/python3.7/site-packages (from transformers) (0.1.91)\r\n",
      "Requirement already satisfied: requests in /opt/conda/lib/python3.7/site-packages (from transformers) (2.23.0)\r\n",
      "Requirement already satisfied: packaging in /opt/conda/lib/python3.7/site-packages (from transformers) (20.1)\r\n",
      "Requirement already satisfied: regex!=2019.12.17 in /opt/conda/lib/python3.7/site-packages (from transformers) (2020.4.4)\r\n",
      "Requirement already satisfied: emoji in /opt/conda/lib/python3.7/site-packages (from clean-text) (0.6.0)\r\n",
      "Collecting ftfy<6.0,>=5.8\r\n",
      "  Downloading ftfy-5.8.tar.gz (64 kB)\r\n",
      "\u001b[K     |████████████████████████████████| 64 kB 296 kB/s \r\n",
      "\u001b[?25hRequirement already satisfied: click in /opt/conda/lib/python3.7/site-packages (from sacremoses->transformers) (7.1.1)\r\n",
      "Requirement already satisfied: six in /opt/conda/lib/python3.7/site-packages (from sacremoses->transformers) (1.14.0)\r\n",
      "Requirement already satisfied: joblib in /opt/conda/lib/python3.7/site-packages (from sacremoses->transformers) (0.14.1)\r\n",
      "Requirement already satisfied: chardet<4,>=3.0.2 in /opt/conda/lib/python3.7/site-packages (from requests->transformers) (3.0.4)\r\n",
      "Requirement already satisfied: idna<3,>=2.5 in /opt/conda/lib/python3.7/site-packages (from requests->transformers) (2.9)\r\n",
      "Requirement already satisfied: certifi>=2017.4.17 in /opt/conda/lib/python3.7/site-packages (from requests->transformers) (2020.6.20)\r\n",
      "Requirement already satisfied: urllib3!=1.25.0,!=1.25.1,<1.26,>=1.21.1 in /opt/conda/lib/python3.7/site-packages (from requests->transformers) (1.24.3)\r\n",
      "Requirement already satisfied: pyparsing>=2.0.2 in /opt/conda/lib/python3.7/site-packages (from packaging->transformers) (2.4.7)\r\n",
      "Requirement already satisfied: wcwidth in /opt/conda/lib/python3.7/site-packages (from ftfy<6.0,>=5.8->clean-text) (0.1.9)\r\n",
      "Building wheels for collected packages: ftfy\r\n",
      "  Building wheel for ftfy (setup.py) ... \u001b[?25l-\b \b\\\b \bdone\r\n",
      "\u001b[?25h  Created wheel for ftfy: filename=ftfy-5.8-py3-none-any.whl size=45612 sha256=c0d9a108cc7204a8693466b2ce805004fb66a6b172d8f7754df1176302f62cc6\r\n",
      "  Stored in directory: /root/.cache/pip/wheels/49/1c/fc/8b19700f939810cd8fd9495ae34934b246279791288eda1c31\r\n",
      "Successfully built ftfy\r\n",
      "Installing collected packages: ftfy, clean-text\r\n",
      "Successfully installed clean-text-0.3.0 ftfy-5.8\r\n",
      "\u001b[33mWARNING: You are using pip version 20.2.3; however, version 20.3.1 is available.\r\n",
      "You should consider upgrading via the '/opt/conda/bin/python3.7 -m pip install --upgrade pip' command.\u001b[0m\r\n"
     ]
    }
   ],
   "source": [
    "!pip install transformers clean-text"
   ]
  },
  {
   "cell_type": "code",
   "execution_count": 3,
   "metadata": {
    "execution": {
     "iopub.execute_input": "2020-12-09T08:07:17.967246Z",
     "iopub.status.busy": "2020-12-09T08:07:17.966630Z",
     "iopub.status.idle": "2020-12-09T08:07:19.977261Z",
     "shell.execute_reply": "2020-12-09T08:07:19.976370Z"
    },
    "papermill": {
     "duration": 2.036416,
     "end_time": "2020-12-09T08:07:19.977379",
     "exception": false,
     "start_time": "2020-12-09T08:07:17.940963",
     "status": "completed"
    },
    "tags": []
   },
   "outputs": [],
   "source": [
    "train_path = '../input/jigsaw-toxic-comment-classification-challenge/train.csv.zip'\n",
    "\n",
    "data = pd.read_csv(train_path)"
   ]
  },
  {
   "cell_type": "code",
   "execution_count": 4,
   "metadata": {
    "execution": {
     "iopub.execute_input": "2020-12-09T08:07:20.026597Z",
     "iopub.status.busy": "2020-12-09T08:07:20.026020Z",
     "iopub.status.idle": "2020-12-09T08:07:20.030708Z",
     "shell.execute_reply": "2020-12-09T08:07:20.031093Z"
    },
    "papermill": {
     "duration": 0.031308,
     "end_time": "2020-12-09T08:07:20.031202",
     "exception": false,
     "start_time": "2020-12-09T08:07:19.999894",
     "status": "completed"
    },
    "tags": []
   },
   "outputs": [
    {
     "name": "stdout",
     "output_type": "stream",
     "text": [
      "Number of Records: 159571, Number of features/columns: 8\n"
     ]
    }
   ],
   "source": [
    "print('Number of Records: {}, Number of features/columns: {}'.format(data.shape[0], data.shape[1]))"
   ]
  },
  {
   "cell_type": "code",
   "execution_count": 5,
   "metadata": {
    "execution": {
     "iopub.execute_input": "2020-12-09T08:07:20.080764Z",
     "iopub.status.busy": "2020-12-09T08:07:20.080139Z",
     "iopub.status.idle": "2020-12-09T08:07:20.125922Z",
     "shell.execute_reply": "2020-12-09T08:07:20.124836Z"
    },
    "papermill": {
     "duration": 0.072362,
     "end_time": "2020-12-09T08:07:20.126049",
     "exception": false,
     "start_time": "2020-12-09T08:07:20.053687",
     "status": "completed"
    },
    "tags": []
   },
   "outputs": [
    {
     "name": "stdout",
     "output_type": "stream",
     "text": [
      "Null values: 0\n"
     ]
    }
   ],
   "source": [
    "print('Null values: {}'.format(data.isnull().values.sum()))"
   ]
  },
  {
   "cell_type": "code",
   "execution_count": 6,
   "metadata": {
    "execution": {
     "iopub.execute_input": "2020-12-09T08:07:20.185089Z",
     "iopub.status.busy": "2020-12-09T08:07:20.184427Z",
     "iopub.status.idle": "2020-12-09T08:07:20.187307Z",
     "shell.execute_reply": "2020-12-09T08:07:20.186873Z"
    },
    "papermill": {
     "duration": 0.038561,
     "end_time": "2020-12-09T08:07:20.187398",
     "exception": false,
     "start_time": "2020-12-09T08:07:20.148837",
     "status": "completed"
    },
    "tags": []
   },
   "outputs": [],
   "source": [
    "target_columns = list(data.columns)[2:]\n",
    "y_labels = data[target_columns].values"
   ]
  },
  {
   "cell_type": "code",
   "execution_count": 7,
   "metadata": {
    "execution": {
     "iopub.execute_input": "2020-12-09T08:07:20.237827Z",
     "iopub.status.busy": "2020-12-09T08:07:20.237031Z",
     "iopub.status.idle": "2020-12-09T08:07:27.984456Z",
     "shell.execute_reply": "2020-12-09T08:07:27.983901Z"
    },
    "papermill": {
     "duration": 7.774272,
     "end_time": "2020-12-09T08:07:27.984572",
     "exception": false,
     "start_time": "2020-12-09T08:07:20.210300",
     "status": "completed"
    },
    "tags": []
   },
   "outputs": [
    {
     "name": "stderr",
     "output_type": "stream",
     "text": [
      "\u001b[34m\u001b[1mwandb\u001b[0m: \u001b[33mWARNING\u001b[0m W&B installed but not logged in.  Run `wandb login` or set the WANDB_API_KEY env variable.\n"
     ]
    }
   ],
   "source": [
    "from transformers import GPT2Tokenizer, GPT2Config, TFGPT2Model\n",
    "from sklearn.model_selection import train_test_split\n",
    "import tensorflow as tf\n",
    "from tqdm import tqdm\n",
    "from cleantext import clean"
   ]
  },
  {
   "cell_type": "code",
   "execution_count": 8,
   "metadata": {
    "execution": {
     "iopub.execute_input": "2020-12-09T08:07:28.044716Z",
     "iopub.status.busy": "2020-12-09T08:07:28.043814Z",
     "iopub.status.idle": "2020-12-09T08:07:34.037867Z",
     "shell.execute_reply": "2020-12-09T08:07:34.038531Z"
    },
    "papermill": {
     "duration": 6.029782,
     "end_time": "2020-12-09T08:07:34.038705",
     "exception": false,
     "start_time": "2020-12-09T08:07:28.008923",
     "status": "completed"
    },
    "tags": []
   },
   "outputs": [
    {
     "data": {
      "application/vnd.jupyter.widget-view+json": {
       "model_id": "85c0f4fd4cfd431ea069fd9905188613",
       "version_major": 2,
       "version_minor": 0
      },
      "text/plain": [
       "HBox(children=(FloatProgress(value=0.0, description='Downloading', max=1042301.0, style=ProgressStyle(descript…"
      ]
     },
     "metadata": {},
     "output_type": "display_data"
    },
    {
     "name": "stdout",
     "output_type": "stream",
     "text": [
      "\n"
     ]
    },
    {
     "data": {
      "application/vnd.jupyter.widget-view+json": {
       "model_id": "b59cc5f256ef43e1b234448cac2b4260",
       "version_major": 2,
       "version_minor": 0
      },
      "text/plain": [
       "HBox(children=(FloatProgress(value=0.0, description='Downloading', max=456318.0, style=ProgressStyle(descripti…"
      ]
     },
     "metadata": {},
     "output_type": "display_data"
    },
    {
     "name": "stdout",
     "output_type": "stream",
     "text": [
      "\n"
     ]
    },
    {
     "data": {
      "text/plain": [
       "1"
      ]
     },
     "execution_count": 8,
     "metadata": {},
     "output_type": "execute_result"
    }
   ],
   "source": [
    "electra = 'gpt2'\n",
    "\n",
    "tokenizer = GPT2Tokenizer.from_pretrained(electra, do_lower_case=True, add_special_tokens=True,\n",
    "                                                max_length=128, pad_to_max_length=True)\n",
    "tokenizer.add_special_tokens({'pad_token': '[PAD]'})"
   ]
  },
  {
   "cell_type": "code",
   "execution_count": 9,
   "metadata": {
    "execution": {
     "iopub.execute_input": "2020-12-09T08:07:34.132284Z",
     "iopub.status.busy": "2020-12-09T08:07:34.131380Z",
     "iopub.status.idle": "2020-12-09T08:07:34.136151Z",
     "shell.execute_reply": "2020-12-09T08:07:34.136735Z"
    },
    "papermill": {
     "duration": 0.056847,
     "end_time": "2020-12-09T08:07:34.136897",
     "exception": false,
     "start_time": "2020-12-09T08:07:34.080050",
     "status": "completed"
    },
    "tags": []
   },
   "outputs": [],
   "source": [
    "def cleaning(text):\n",
    "    return clean(text, no_line_breaks=True, no_urls=True, no_punct=True)\n",
    "\n",
    "def tokenize(sentences, tokenizer):\n",
    "    \n",
    "    input_ids = []\n",
    "    input_masks = []\n",
    "    #input_segments = []\n",
    "    for sentence in tqdm(sentences):\n",
    "        inp = \"sentence\" if sentence=='' else sentence\n",
    "        inputs = tokenizer.encode_plus(inp, add_special_tokens=True, \n",
    "                       max_length=128, pad_to_max_length=True, \n",
    "                       return_attention_mask=True, return_token_type_ids=True)\n",
    "        input_ids.append(inputs['input_ids'])\n",
    "        input_masks.append(inputs['attention_mask'])\n",
    "        #input_segments.append(inputs['token_type_ids'])        \n",
    "        \n",
    "    return np.asarray(input_ids, dtype='int32'),np.asarray(input_masks, dtype='int32')"
   ]
  },
  {
   "cell_type": "code",
   "execution_count": 10,
   "metadata": {
    "_kg_hide-output": true,
    "execution": {
     "iopub.execute_input": "2020-12-09T08:07:34.317653Z",
     "iopub.status.busy": "2020-12-09T08:07:34.316840Z",
     "iopub.status.idle": "2020-12-09T08:18:13.091824Z",
     "shell.execute_reply": "2020-12-09T08:18:13.091085Z"
    },
    "papermill": {
     "duration": 638.896308,
     "end_time": "2020-12-09T08:18:13.091985",
     "exception": false,
     "start_time": "2020-12-09T08:07:34.195677",
     "status": "completed"
    },
    "tags": []
   },
   "outputs": [
    {
     "name": "stderr",
     "output_type": "stream",
     "text": [
      "100%|██████████| 159571/159571 [03:06<00:00, 855.55it/s]\n"
     ]
    }
   ],
   "source": [
    "data['comment_text'] = data['comment_text'].apply(cleaning)\n",
    "input_ids, input_masks = tokenize(data['comment_text'], tokenizer)"
   ]
  },
  {
   "cell_type": "code",
   "execution_count": 11,
   "metadata": {
    "execution": {
     "iopub.execute_input": "2020-12-09T08:18:14.143780Z",
     "iopub.status.busy": "2020-12-09T08:18:14.141769Z",
     "iopub.status.idle": "2020-12-09T08:19:14.645151Z",
     "shell.execute_reply": "2020-12-09T08:19:14.644681Z"
    },
    "papermill": {
     "duration": 61.018511,
     "end_time": "2020-12-09T08:19:14.645299",
     "exception": false,
     "start_time": "2020-12-09T08:18:13.626788",
     "status": "completed"
    },
    "tags": []
   },
   "outputs": [
    {
     "data": {
      "application/vnd.jupyter.widget-view+json": {
       "model_id": "e3c1c4ea681c47fa8e40e1eee0e3293f",
       "version_major": 2,
       "version_minor": 0
      },
      "text/plain": [
       "HBox(children=(FloatProgress(value=0.0, description='Downloading', max=497933648.0, style=ProgressStyle(descri…"
      ]
     },
     "metadata": {},
     "output_type": "display_data"
    },
    {
     "name": "stdout",
     "output_type": "stream",
     "text": [
      "\n"
     ]
    }
   ],
   "source": [
    "config = GPT2Config(dropout=0.2, attention_dropout=0.2)\n",
    "\n",
    "config.output_hidden_states = False\n",
    "\n",
    "transformer_model = TFGPT2Model.from_pretrained(electra, config=config)\n",
    "\n",
    "input_ids_in = tf.keras.layers.Input(shape=(128,), name='input_token', dtype='int32')\n",
    "input_masks_in = tf.keras.layers.Input(shape=(128,), name='masked_token', dtype='int32')\n",
    "\n",
    "embedding_layer = transformer_model(input_ids_in, attention_mask=input_masks_in)[0]\n",
    "X = tf.keras.layers.Bidirectional(tf.keras.layers.LSTM(50, \n",
    "                                                       return_sequences=True, \n",
    "                                                       dropout=0.1, \n",
    "                                                       recurrent_dropout=0.1))(embedding_layer)\n",
    "X = tf.keras.layers.GlobalMaxPool1D()(X)\n",
    "X = tf.keras.layers.Dense(50, activation='relu')(X)\n",
    "X = tf.keras.layers.Dropout(0.2)(X)\n",
    "X = tf.keras.layers.Dense(6, activation='sigmoid')(X)\n",
    "\n",
    "model = tf.keras.models.Model(inputs=[input_ids_in, input_masks_in], outputs=X)\n",
    "\n",
    "for layer in model.layers[:3]:\n",
    "    layer.trainable = False"
   ]
  },
  {
   "cell_type": "code",
   "execution_count": 12,
   "metadata": {
    "execution": {
     "iopub.execute_input": "2020-12-09T08:19:15.705480Z",
     "iopub.status.busy": "2020-12-09T08:19:15.686582Z",
     "iopub.status.idle": "2020-12-09T08:19:15.709632Z",
     "shell.execute_reply": "2020-12-09T08:19:15.708834Z"
    },
    "papermill": {
     "duration": 0.551341,
     "end_time": "2020-12-09T08:19:15.709784",
     "exception": false,
     "start_time": "2020-12-09T08:19:15.158443",
     "status": "completed"
    },
    "tags": []
   },
   "outputs": [
    {
     "name": "stdout",
     "output_type": "stream",
     "text": [
      "Model: \"functional_1\"\n",
      "__________________________________________________________________________________________________\n",
      "Layer (type)                    Output Shape         Param #     Connected to                     \n",
      "==================================================================================================\n",
      "input_token (InputLayer)        [(None, 128)]        0                                            \n",
      "__________________________________________________________________________________________________\n",
      "masked_token (InputLayer)       [(None, 128)]        0                                            \n",
      "__________________________________________________________________________________________________\n",
      "tfgp_t2model (TFGPT2Model)      ((None, 128, 768), ( 124439808   input_token[0][0]                \n",
      "                                                                 masked_token[0][0]               \n",
      "__________________________________________________________________________________________________\n",
      "bidirectional (Bidirectional)   (None, 128, 100)     327600      tfgp_t2model[0][0]               \n",
      "__________________________________________________________________________________________________\n",
      "global_max_pooling1d (GlobalMax (None, 100)          0           bidirectional[0][0]              \n",
      "__________________________________________________________________________________________________\n",
      "dense (Dense)                   (None, 50)           5050        global_max_pooling1d[0][0]       \n",
      "__________________________________________________________________________________________________\n",
      "dropout_37 (Dropout)            (None, 50)           0           dense[0][0]                      \n",
      "__________________________________________________________________________________________________\n",
      "dense_1 (Dense)                 (None, 6)            306         dropout_37[0][0]                 \n",
      "==================================================================================================\n",
      "Total params: 124,772,764\n",
      "Trainable params: 332,956\n",
      "Non-trainable params: 124,439,808\n",
      "__________________________________________________________________________________________________\n"
     ]
    }
   ],
   "source": [
    "model.summary()"
   ]
  },
  {
   "cell_type": "code",
   "execution_count": 13,
   "metadata": {
    "execution": {
     "iopub.execute_input": "2020-12-09T08:19:16.739657Z",
     "iopub.status.busy": "2020-12-09T08:19:16.738961Z",
     "iopub.status.idle": "2020-12-09T08:19:16.747657Z",
     "shell.execute_reply": "2020-12-09T08:19:16.747041Z"
    },
    "papermill": {
     "duration": 0.530489,
     "end_time": "2020-12-09T08:19:16.747768",
     "exception": false,
     "start_time": "2020-12-09T08:19:16.217279",
     "status": "completed"
    },
    "tags": []
   },
   "outputs": [],
   "source": [
    "model.compile(optimizer='adam', loss='binary_crossentropy', metrics=['accuracy'])"
   ]
  },
  {
   "cell_type": "code",
   "execution_count": 14,
   "metadata": {
    "execution": {
     "iopub.execute_input": "2020-12-09T08:19:17.904454Z",
     "iopub.status.busy": "2020-12-09T08:19:17.903528Z",
     "iopub.status.idle": "2020-12-09T08:19:18.013642Z",
     "shell.execute_reply": "2020-12-09T08:19:18.016797Z"
    },
    "papermill": {
     "duration": 0.746705,
     "end_time": "2020-12-09T08:19:18.017534",
     "exception": false,
     "start_time": "2020-12-09T08:19:17.270829",
     "status": "completed"
    },
    "tags": []
   },
   "outputs": [],
   "source": [
    "X_train_id, X_test_id, X_train_mask, X_test_mask, y_train, y_test = train_test_split(input_ids, \n",
    "                                                                                     input_masks, \n",
    "                                                                                     y_labels,\n",
    "                                                                                     test_size=0.2, \n",
    "                                                                                     random_state=42)"
   ]
  },
  {
   "cell_type": "code",
   "execution_count": 15,
   "metadata": {
    "execution": {
     "iopub.execute_input": "2020-12-09T08:19:19.253323Z",
     "iopub.status.busy": "2020-12-09T08:19:19.252446Z",
     "iopub.status.idle": "2020-12-09T09:05:31.366854Z",
     "shell.execute_reply": "2020-12-09T09:05:31.367565Z"
    },
    "papermill": {
     "duration": 2772.620466,
     "end_time": "2020-12-09T09:05:31.367768",
     "exception": false,
     "start_time": "2020-12-09T08:19:18.747302",
     "status": "completed"
    },
    "tags": []
   },
   "outputs": [
    {
     "name": "stdout",
     "output_type": "stream",
     "text": [
      "1995/1995 [==============================] - 2754s 1s/step - loss: 0.0708 - accuracy: 0.9113 - val_loss: 0.1061 - val_accuracy: 0.9941\n"
     ]
    }
   ],
   "source": [
    "hist = model.fit([X_train_id, X_train_mask], \n",
    "                 y_train, \n",
    "                 validation_data=([X_test_id, X_test_mask], y_test),\n",
    "                 epochs=1,\n",
    "                 batch_size=64)"
   ]
  },
  {
   "cell_type": "code",
   "execution_count": 16,
   "metadata": {
    "execution": {
     "iopub.execute_input": "2020-12-09T09:05:33.561764Z",
     "iopub.status.busy": "2020-12-09T09:05:33.560650Z",
     "iopub.status.idle": "2020-12-09T09:05:34.486481Z",
     "shell.execute_reply": "2020-12-09T09:05:34.484948Z"
    },
    "papermill": {
     "duration": 2.052456,
     "end_time": "2020-12-09T09:05:34.486596",
     "exception": false,
     "start_time": "2020-12-09T09:05:32.434140",
     "status": "completed"
    },
    "tags": []
   },
   "outputs": [],
   "source": [
    "model.save_weights('gpt2_bce_1_epochs.h5')"
   ]
  },
  {
   "cell_type": "code",
   "execution_count": 17,
   "metadata": {
    "execution": {
     "iopub.execute_input": "2020-12-09T09:05:36.708001Z",
     "iopub.status.busy": "2020-12-09T09:05:36.707156Z",
     "iopub.status.idle": "2020-12-09T09:05:36.729296Z",
     "shell.execute_reply": "2020-12-09T09:05:36.729737Z"
    },
    "papermill": {
     "duration": 1.144709,
     "end_time": "2020-12-09T09:05:36.729856",
     "exception": false,
     "start_time": "2020-12-09T09:05:35.585147",
     "status": "completed"
    },
    "tags": []
   },
   "outputs": [
    {
     "data": {
      "text/html": [
       "<div>\n",
       "<style scoped>\n",
       "    .dataframe tbody tr th:only-of-type {\n",
       "        vertical-align: middle;\n",
       "    }\n",
       "\n",
       "    .dataframe tbody tr th {\n",
       "        vertical-align: top;\n",
       "    }\n",
       "\n",
       "    .dataframe thead th {\n",
       "        text-align: right;\n",
       "    }\n",
       "</style>\n",
       "<table border=\"1\" class=\"dataframe\">\n",
       "  <thead>\n",
       "    <tr style=\"text-align: right;\">\n",
       "      <th></th>\n",
       "      <th>id</th>\n",
       "      <th>comment_text</th>\n",
       "      <th>toxic</th>\n",
       "      <th>severe_toxic</th>\n",
       "      <th>obscene</th>\n",
       "      <th>threat</th>\n",
       "      <th>insult</th>\n",
       "      <th>identity_hate</th>\n",
       "    </tr>\n",
       "  </thead>\n",
       "  <tbody>\n",
       "    <tr>\n",
       "      <th>65891</th>\n",
       "      <td>b02f06855b8c687c</td>\n",
       "      <td>y0u l0se at life 0h n0 my last chance what d0 ...</td>\n",
       "      <td>1</td>\n",
       "      <td>0</td>\n",
       "      <td>0</td>\n",
       "      <td>0</td>\n",
       "      <td>0</td>\n",
       "      <td>0</td>\n",
       "    </tr>\n",
       "    <tr>\n",
       "      <th>110147</th>\n",
       "      <td>4d1d0a20c6333bb0</td>\n",
       "      <td>replaceable fair use imagefashid moussavijpg t...</td>\n",
       "      <td>0</td>\n",
       "      <td>0</td>\n",
       "      <td>0</td>\n",
       "      <td>0</td>\n",
       "      <td>0</td>\n",
       "      <td>0</td>\n",
       "    </tr>\n",
       "    <tr>\n",
       "      <th>8115</th>\n",
       "      <td>159887dee3689d6d</td>\n",
       "      <td>i never said all of them now did i i still don...</td>\n",
       "      <td>0</td>\n",
       "      <td>0</td>\n",
       "      <td>0</td>\n",
       "      <td>0</td>\n",
       "      <td>0</td>\n",
       "      <td>0</td>\n",
       "    </tr>\n",
       "    <tr>\n",
       "      <th>42166</th>\n",
       "      <td>7084c3eadd7b4b59</td>\n",
       "      <td>question i have uploaded the correct logo unde...</td>\n",
       "      <td>0</td>\n",
       "      <td>0</td>\n",
       "      <td>0</td>\n",
       "      <td>0</td>\n",
       "      <td>0</td>\n",
       "      <td>0</td>\n",
       "    </tr>\n",
       "    <tr>\n",
       "      <th>104385</th>\n",
       "      <td>2e8065c2aa531f4f</td>\n",
       "      <td>million award the million award for your contr...</td>\n",
       "      <td>0</td>\n",
       "      <td>0</td>\n",
       "      <td>0</td>\n",
       "      <td>0</td>\n",
       "      <td>0</td>\n",
       "      <td>0</td>\n",
       "    </tr>\n",
       "    <tr>\n",
       "      <th>61686</th>\n",
       "      <td>a514f853d48dcf3a</td>\n",
       "      <td>i agree with kingjeff that there some other wa...</td>\n",
       "      <td>0</td>\n",
       "      <td>0</td>\n",
       "      <td>0</td>\n",
       "      <td>0</td>\n",
       "      <td>0</td>\n",
       "      <td>0</td>\n",
       "    </tr>\n",
       "    <tr>\n",
       "      <th>155765</th>\n",
       "      <td>c350b56646851989</td>\n",
       "      <td>if you knew any better you would know that onl...</td>\n",
       "      <td>0</td>\n",
       "      <td>0</td>\n",
       "      <td>0</td>\n",
       "      <td>0</td>\n",
       "      <td>0</td>\n",
       "      <td>0</td>\n",
       "    </tr>\n",
       "    <tr>\n",
       "      <th>7355</th>\n",
       "      <td>138cbc77177fc03a</td>\n",
       "      <td>i am from canada and i have never witnessed ma...</td>\n",
       "      <td>0</td>\n",
       "      <td>0</td>\n",
       "      <td>0</td>\n",
       "      <td>0</td>\n",
       "      <td>0</td>\n",
       "      <td>0</td>\n",
       "    </tr>\n",
       "    <tr>\n",
       "      <th>93240</th>\n",
       "      <td>f949a4b4b197be1a</td>\n",
       "      <td>just discovered you have clearing up your talk...</td>\n",
       "      <td>0</td>\n",
       "      <td>0</td>\n",
       "      <td>0</td>\n",
       "      <td>0</td>\n",
       "      <td>0</td>\n",
       "      <td>0</td>\n",
       "    </tr>\n",
       "    <tr>\n",
       "      <th>30040</th>\n",
       "      <td>4fc4355c2639d1ef</td>\n",
       "      <td>when people do not piss me off i will act civi...</td>\n",
       "      <td>1</td>\n",
       "      <td>0</td>\n",
       "      <td>0</td>\n",
       "      <td>0</td>\n",
       "      <td>0</td>\n",
       "      <td>0</td>\n",
       "    </tr>\n",
       "    <tr>\n",
       "      <th>132223</th>\n",
       "      <td>c396b708a1662bd8</td>\n",
       "      <td>this entry above is highly prejudicial</td>\n",
       "      <td>0</td>\n",
       "      <td>0</td>\n",
       "      <td>0</td>\n",
       "      <td>0</td>\n",
       "      <td>0</td>\n",
       "      <td>0</td>\n",
       "    </tr>\n",
       "    <tr>\n",
       "      <th>87423</th>\n",
       "      <td>e9e93ac07aa849c3</td>\n",
       "      <td>unfortunately looks like not the sites copyrig...</td>\n",
       "      <td>0</td>\n",
       "      <td>0</td>\n",
       "      <td>0</td>\n",
       "      <td>0</td>\n",
       "      <td>0</td>\n",
       "      <td>0</td>\n",
       "    </tr>\n",
       "    <tr>\n",
       "      <th>49790</th>\n",
       "      <td>8524a6d7951575f9</td>\n",
       "      <td>i will revert ebusiness vandalism in january 2...</td>\n",
       "      <td>1</td>\n",
       "      <td>0</td>\n",
       "      <td>0</td>\n",
       "      <td>0</td>\n",
       "      <td>1</td>\n",
       "      <td>0</td>\n",
       "    </tr>\n",
       "    <tr>\n",
       "      <th>76695</th>\n",
       "      <td>cd677b7e094cc03d</td>\n",
       "      <td>somebody change it within 24 hours please more...</td>\n",
       "      <td>1</td>\n",
       "      <td>0</td>\n",
       "      <td>0</td>\n",
       "      <td>0</td>\n",
       "      <td>0</td>\n",
       "      <td>0</td>\n",
       "    </tr>\n",
       "    <tr>\n",
       "      <th>19983</th>\n",
       "      <td>34cc02d017a26100</td>\n",
       "      <td>katrina sorry for wiping out your edits in the...</td>\n",
       "      <td>0</td>\n",
       "      <td>0</td>\n",
       "      <td>0</td>\n",
       "      <td>0</td>\n",
       "      <td>0</td>\n",
       "      <td>0</td>\n",
       "    </tr>\n",
       "    <tr>\n",
       "      <th>92810</th>\n",
       "      <td>f8281b83dea5cfc5</td>\n",
       "      <td>as said before its a picture or pictures from ...</td>\n",
       "      <td>0</td>\n",
       "      <td>0</td>\n",
       "      <td>0</td>\n",
       "      <td>0</td>\n",
       "      <td>0</td>\n",
       "      <td>0</td>\n",
       "    </tr>\n",
       "    <tr>\n",
       "      <th>149330</th>\n",
       "      <td>5ac38e70e068026c</td>\n",
       "      <td>this country has 2 selfidentifying and officia...</td>\n",
       "      <td>0</td>\n",
       "      <td>0</td>\n",
       "      <td>0</td>\n",
       "      <td>0</td>\n",
       "      <td>0</td>\n",
       "      <td>0</td>\n",
       "    </tr>\n",
       "    <tr>\n",
       "      <th>95496</th>\n",
       "      <td>ff5684adab5e9a32</td>\n",
       "      <td>khoi i honestly think you could of found a bet...</td>\n",
       "      <td>0</td>\n",
       "      <td>0</td>\n",
       "      <td>0</td>\n",
       "      <td>0</td>\n",
       "      <td>0</td>\n",
       "      <td>0</td>\n",
       "    </tr>\n",
       "    <tr>\n",
       "      <th>48451</th>\n",
       "      <td>81865ec67d72d47d</td>\n",
       "      <td>ive changed this to emigrated or were expelled...</td>\n",
       "      <td>0</td>\n",
       "      <td>0</td>\n",
       "      <td>0</td>\n",
       "      <td>0</td>\n",
       "      <td>0</td>\n",
       "      <td>0</td>\n",
       "    </tr>\n",
       "    <tr>\n",
       "      <th>20372</th>\n",
       "      <td>35c96f775f9ea663</td>\n",
       "      <td>in the dominoharvey entry</td>\n",
       "      <td>0</td>\n",
       "      <td>0</td>\n",
       "      <td>0</td>\n",
       "      <td>0</td>\n",
       "      <td>0</td>\n",
       "      <td>0</td>\n",
       "    </tr>\n",
       "  </tbody>\n",
       "</table>\n",
       "</div>"
      ],
      "text/plain": [
       "                      id                                       comment_text  \\\n",
       "65891   b02f06855b8c687c  y0u l0se at life 0h n0 my last chance what d0 ...   \n",
       "110147  4d1d0a20c6333bb0  replaceable fair use imagefashid moussavijpg t...   \n",
       "8115    159887dee3689d6d  i never said all of them now did i i still don...   \n",
       "42166   7084c3eadd7b4b59  question i have uploaded the correct logo unde...   \n",
       "104385  2e8065c2aa531f4f  million award the million award for your contr...   \n",
       "61686   a514f853d48dcf3a  i agree with kingjeff that there some other wa...   \n",
       "155765  c350b56646851989  if you knew any better you would know that onl...   \n",
       "7355    138cbc77177fc03a  i am from canada and i have never witnessed ma...   \n",
       "93240   f949a4b4b197be1a  just discovered you have clearing up your talk...   \n",
       "30040   4fc4355c2639d1ef  when people do not piss me off i will act civi...   \n",
       "132223  c396b708a1662bd8             this entry above is highly prejudicial   \n",
       "87423   e9e93ac07aa849c3  unfortunately looks like not the sites copyrig...   \n",
       "49790   8524a6d7951575f9  i will revert ebusiness vandalism in january 2...   \n",
       "76695   cd677b7e094cc03d  somebody change it within 24 hours please more...   \n",
       "19983   34cc02d017a26100  katrina sorry for wiping out your edits in the...   \n",
       "92810   f8281b83dea5cfc5  as said before its a picture or pictures from ...   \n",
       "149330  5ac38e70e068026c  this country has 2 selfidentifying and officia...   \n",
       "95496   ff5684adab5e9a32  khoi i honestly think you could of found a bet...   \n",
       "48451   81865ec67d72d47d  ive changed this to emigrated or were expelled...   \n",
       "20372   35c96f775f9ea663                          in the dominoharvey entry   \n",
       "\n",
       "        toxic  severe_toxic  obscene  threat  insult  identity_hate  \n",
       "65891       1             0        0       0       0              0  \n",
       "110147      0             0        0       0       0              0  \n",
       "8115        0             0        0       0       0              0  \n",
       "42166       0             0        0       0       0              0  \n",
       "104385      0             0        0       0       0              0  \n",
       "61686       0             0        0       0       0              0  \n",
       "155765      0             0        0       0       0              0  \n",
       "7355        0             0        0       0       0              0  \n",
       "93240       0             0        0       0       0              0  \n",
       "30040       1             0        0       0       0              0  \n",
       "132223      0             0        0       0       0              0  \n",
       "87423       0             0        0       0       0              0  \n",
       "49790       1             0        0       0       1              0  \n",
       "76695       1             0        0       0       0              0  \n",
       "19983       0             0        0       0       0              0  \n",
       "92810       0             0        0       0       0              0  \n",
       "149330      0             0        0       0       0              0  \n",
       "95496       0             0        0       0       0              0  \n",
       "48451       0             0        0       0       0              0  \n",
       "20372       0             0        0       0       0              0  "
      ]
     },
     "execution_count": 17,
     "metadata": {},
     "output_type": "execute_result"
    }
   ],
   "source": [
    "data.sample(20)"
   ]
  },
  {
   "cell_type": "code",
   "execution_count": 18,
   "metadata": {
    "execution": {
     "iopub.execute_input": "2020-12-09T09:05:38.874776Z",
     "iopub.status.busy": "2020-12-09T09:05:38.874171Z",
     "iopub.status.idle": "2020-12-09T09:05:38.878161Z",
     "shell.execute_reply": "2020-12-09T09:05:38.877720Z"
    },
    "papermill": {
     "duration": 1.081399,
     "end_time": "2020-12-09T09:05:38.878271",
     "exception": false,
     "start_time": "2020-12-09T09:05:37.796872",
     "status": "completed"
    },
    "tags": []
   },
   "outputs": [],
   "source": [
    "# sample_text = 'Buck Winston \\n\\nFuck you, I wont do'\n",
    "# clean_txt = cleaning(sample_text)\n",
    "# input_ids_test, input_masks_test = tokenize([clean_txt], tokenizer)"
   ]
  },
  {
   "cell_type": "code",
   "execution_count": 19,
   "metadata": {
    "execution": {
     "iopub.execute_input": "2020-12-09T09:05:41.281667Z",
     "iopub.status.busy": "2020-12-09T09:05:41.279635Z",
     "iopub.status.idle": "2020-12-09T09:05:41.282269Z",
     "shell.execute_reply": "2020-12-09T09:05:41.282698Z"
    },
    "papermill": {
     "duration": 1.34197,
     "end_time": "2020-12-09T09:05:41.282813",
     "exception": false,
     "start_time": "2020-12-09T09:05:39.940843",
     "status": "completed"
    },
    "tags": []
   },
   "outputs": [],
   "source": [
    "# preds = model.predict([input_ids_test, input_masks_test])[0]\n",
    "# prediction = target_columns[np.argmax(preds, axis=0)]\n",
    "# print(preds)"
   ]
  },
  {
   "cell_type": "code",
   "execution_count": 20,
   "metadata": {
    "execution": {
     "iopub.execute_input": "2020-12-09T09:05:43.566306Z",
     "iopub.status.busy": "2020-12-09T09:05:43.564573Z",
     "iopub.status.idle": "2020-12-09T09:05:43.566989Z",
     "shell.execute_reply": "2020-12-09T09:05:43.567502Z"
    },
    "papermill": {
     "duration": 1.129801,
     "end_time": "2020-12-09T09:05:43.567648",
     "exception": false,
     "start_time": "2020-12-09T09:05:42.437847",
     "status": "completed"
    },
    "tags": []
   },
   "outputs": [],
   "source": [
    "# print(preds)"
   ]
  },
  {
   "cell_type": "code",
   "execution_count": 21,
   "metadata": {
    "execution": {
     "iopub.execute_input": "2020-12-09T09:05:45.753257Z",
     "iopub.status.busy": "2020-12-09T09:05:45.752349Z",
     "iopub.status.idle": "2020-12-09T09:05:45.754894Z",
     "shell.execute_reply": "2020-12-09T09:05:45.754481Z"
    },
    "papermill": {
     "duration": 1.105566,
     "end_time": "2020-12-09T09:05:45.754985",
     "exception": false,
     "start_time": "2020-12-09T09:05:44.649419",
     "status": "completed"
    },
    "tags": []
   },
   "outputs": [],
   "source": [
    "# test_path = '../input/jigsaw-toxic-comment-classification-challenge/test.csv.zip'\n",
    "# test_label_path = '../input/jigsaw-toxic-comment-classification-challenge/test_labels.csv.zip'\n",
    "\n",
    "# test = pd.read_csv(test_path)\n",
    "# test_labels = pd.read_csv(test_label_path)\n",
    "\n",
    "# test_labels.head()"
   ]
  },
  {
   "cell_type": "code",
   "execution_count": 22,
   "metadata": {
    "execution": {
     "iopub.execute_input": "2020-12-09T09:05:47.866876Z",
     "iopub.status.busy": "2020-12-09T09:05:47.866317Z",
     "iopub.status.idle": "2020-12-09T09:05:47.870100Z",
     "shell.execute_reply": "2020-12-09T09:05:47.870594Z"
    },
    "papermill": {
     "duration": 1.061136,
     "end_time": "2020-12-09T09:05:47.870740",
     "exception": false,
     "start_time": "2020-12-09T09:05:46.809604",
     "status": "completed"
    },
    "tags": []
   },
   "outputs": [],
   "source": [
    "# test_set = test.merge(test_labels, left_index=True, right_index=True)\n",
    "# test_set = test_set[test_set.toxic!=-1]\n",
    "# test_set = test_set[[\"id_x\", \"comment_text\", \"toxic\", \"severe_toxic\", \"obscene\", \"threat\", \"insult\", \"identity_hate\"]]\n",
    "# test_set = test_set.reset_index(drop=True)\n",
    "# test_set = test_set.rename(columns={\"id_x\": \"id\"})\n",
    "# ids = test_set['id']\n",
    "# X_t = test_set['comment_text'].apply(cleaning)\n",
    "# gold = test_set[target_columns]\n",
    "# sub_input_ids, sub_input_masks = tokenize(X_t, tokenizer)\n",
    "# test_set.head()"
   ]
  },
  {
   "cell_type": "code",
   "execution_count": 23,
   "metadata": {
    "execution": {
     "iopub.execute_input": "2020-12-09T09:05:49.993086Z",
     "iopub.status.busy": "2020-12-09T09:05:49.992353Z",
     "iopub.status.idle": "2020-12-09T09:05:49.994793Z",
     "shell.execute_reply": "2020-12-09T09:05:49.995284Z"
    },
    "papermill": {
     "duration": 1.064526,
     "end_time": "2020-12-09T09:05:49.995410",
     "exception": false,
     "start_time": "2020-12-09T09:05:48.930884",
     "status": "completed"
    },
    "tags": []
   },
   "outputs": [],
   "source": [
    "\n",
    "# predictions = model.predict([sub_input_ids, sub_input_masks])\n",
    "\n"
   ]
  },
  {
   "cell_type": "code",
   "execution_count": 24,
   "metadata": {
    "execution": {
     "iopub.execute_input": "2020-12-09T09:05:52.377811Z",
     "iopub.status.busy": "2020-12-09T09:05:52.377004Z",
     "iopub.status.idle": "2020-12-09T09:05:52.379414Z",
     "shell.execute_reply": "2020-12-09T09:05:52.379960Z"
    },
    "papermill": {
     "duration": 1.307172,
     "end_time": "2020-12-09T09:05:52.380082",
     "exception": false,
     "start_time": "2020-12-09T09:05:51.072910",
     "status": "completed"
    },
    "tags": []
   },
   "outputs": [],
   "source": [
    "# print(gold[:5], predictions[:5])"
   ]
  },
  {
   "cell_type": "code",
   "execution_count": 25,
   "metadata": {
    "execution": {
     "iopub.execute_input": "2020-12-09T09:05:55.668847Z",
     "iopub.status.busy": "2020-12-09T09:05:55.667885Z",
     "iopub.status.idle": "2020-12-09T09:05:55.670439Z",
     "shell.execute_reply": "2020-12-09T09:05:55.669662Z"
    },
    "papermill": {
     "duration": 1.597048,
     "end_time": "2020-12-09T09:05:55.670584",
     "exception": false,
     "start_time": "2020-12-09T09:05:54.073536",
     "status": "completed"
    },
    "tags": []
   },
   "outputs": [],
   "source": [
    "# print(sklearn.metrics.classification_report(np.matrix(gold), (predictions>0.8)*1.0))"
   ]
  },
  {
   "cell_type": "code",
   "execution_count": 26,
   "metadata": {
    "execution": {
     "iopub.execute_input": "2020-12-09T09:05:57.991097Z",
     "iopub.status.busy": "2020-12-09T09:05:57.990404Z",
     "iopub.status.idle": "2020-12-09T09:32:40.576181Z",
     "shell.execute_reply": "2020-12-09T09:32:40.576640Z"
    },
    "papermill": {
     "duration": 1603.658776,
     "end_time": "2020-12-09T09:32:40.576764",
     "exception": false,
     "start_time": "2020-12-09T09:05:56.917988",
     "status": "completed"
    },
    "tags": []
   },
   "outputs": [
    {
     "name": "stderr",
     "output_type": "stream",
     "text": [
      "100%|██████████| 153164/153164 [02:47<00:00, 913.42it/s]\n"
     ]
    },
    {
     "data": {
      "text/html": [
       "<div>\n",
       "<style scoped>\n",
       "    .dataframe tbody tr th:only-of-type {\n",
       "        vertical-align: middle;\n",
       "    }\n",
       "\n",
       "    .dataframe tbody tr th {\n",
       "        vertical-align: top;\n",
       "    }\n",
       "\n",
       "    .dataframe thead th {\n",
       "        text-align: right;\n",
       "    }\n",
       "</style>\n",
       "<table border=\"1\" class=\"dataframe\">\n",
       "  <thead>\n",
       "    <tr style=\"text-align: right;\">\n",
       "      <th></th>\n",
       "      <th>id</th>\n",
       "      <th>toxic</th>\n",
       "      <th>severe_toxic</th>\n",
       "      <th>obscene</th>\n",
       "      <th>threat</th>\n",
       "      <th>insult</th>\n",
       "      <th>identity_hate</th>\n",
       "    </tr>\n",
       "  </thead>\n",
       "  <tbody>\n",
       "    <tr>\n",
       "      <th>0</th>\n",
       "      <td>00001cee341fdb12</td>\n",
       "      <td>0.958908</td>\n",
       "      <td>0.342784</td>\n",
       "      <td>0.827695</td>\n",
       "      <td>0.122103</td>\n",
       "      <td>0.868561</td>\n",
       "      <td>0.268531</td>\n",
       "    </tr>\n",
       "    <tr>\n",
       "      <th>1</th>\n",
       "      <td>0000247867823ef7</td>\n",
       "      <td>0.116088</td>\n",
       "      <td>0.003074</td>\n",
       "      <td>0.028823</td>\n",
       "      <td>0.024465</td>\n",
       "      <td>0.056758</td>\n",
       "      <td>0.022502</td>\n",
       "    </tr>\n",
       "    <tr>\n",
       "      <th>2</th>\n",
       "      <td>00013b17ad220c46</td>\n",
       "      <td>0.102799</td>\n",
       "      <td>0.002539</td>\n",
       "      <td>0.024178</td>\n",
       "      <td>0.019776</td>\n",
       "      <td>0.051933</td>\n",
       "      <td>0.020836</td>\n",
       "    </tr>\n",
       "    <tr>\n",
       "      <th>3</th>\n",
       "      <td>00017563c3f7919a</td>\n",
       "      <td>0.103355</td>\n",
       "      <td>0.002203</td>\n",
       "      <td>0.021004</td>\n",
       "      <td>0.017750</td>\n",
       "      <td>0.052656</td>\n",
       "      <td>0.018850</td>\n",
       "    </tr>\n",
       "    <tr>\n",
       "      <th>4</th>\n",
       "      <td>00017695ad8997eb</td>\n",
       "      <td>0.121792</td>\n",
       "      <td>0.002978</td>\n",
       "      <td>0.028365</td>\n",
       "      <td>0.023032</td>\n",
       "      <td>0.061283</td>\n",
       "      <td>0.023682</td>\n",
       "    </tr>\n",
       "  </tbody>\n",
       "</table>\n",
       "</div>"
      ],
      "text/plain": [
       "                 id     toxic  severe_toxic   obscene    threat    insult  \\\n",
       "0  00001cee341fdb12  0.958908      0.342784  0.827695  0.122103  0.868561   \n",
       "1  0000247867823ef7  0.116088      0.003074  0.028823  0.024465  0.056758   \n",
       "2  00013b17ad220c46  0.102799      0.002539  0.024178  0.019776  0.051933   \n",
       "3  00017563c3f7919a  0.103355      0.002203  0.021004  0.017750  0.052656   \n",
       "4  00017695ad8997eb  0.121792      0.002978  0.028365  0.023032  0.061283   \n",
       "\n",
       "   identity_hate  \n",
       "0       0.268531  \n",
       "1       0.022502  \n",
       "2       0.020836  \n",
       "3       0.018850  \n",
       "4       0.023682  "
      ]
     },
     "execution_count": 26,
     "metadata": {},
     "output_type": "execute_result"
    }
   ],
   "source": [
    "sample_submission_path = '../input/jigsaw-toxic-comment-classification-challenge/sample_submission.csv.zip'\n",
    "sample_submission = pd.read_csv(sample_submission_path)\n",
    "sample_submission.head()\n",
    "\n",
    "\n",
    "test_path = '../input/jigsaw-toxic-comment-classification-challenge/test.csv.zip'\n",
    "df_test = pd.read_csv(test_path)\n",
    "\n",
    "df_test.head()\n",
    "\n",
    "\n",
    "ids = df_test['id']\n",
    "X_t = df_test['comment_text'].apply(cleaning)\n",
    "\n",
    "sub_input_ids, sub_input_masks = tokenize(X_t.to_numpy(), tokenizer)\n",
    "\n",
    "predictions = model.predict([sub_input_ids, sub_input_masks])\n",
    "\n",
    "ids = pd.Series(ids)\n",
    "y_preds = pd.DataFrame(predictions, columns=target_columns)\n",
    "\n",
    "final_submission = pd.concat([ids, y_preds], axis=1)\n",
    "\n",
    "\n",
    "\n",
    "final_submission.head()\n",
    "\n",
    "final_submission.to_csv('submission_1_bce_epochs.csv', index=False)\n",
    "\n",
    "final_submission.head()\n"
   ]
  },
  {
   "cell_type": "code",
   "execution_count": 27,
   "metadata": {
    "execution": {
     "iopub.execute_input": "2020-12-09T09:32:43.569263Z",
     "iopub.status.busy": "2020-12-09T09:32:43.568678Z",
     "iopub.status.idle": "2020-12-09T09:32:43.572175Z",
     "shell.execute_reply": "2020-12-09T09:32:43.573142Z"
    },
    "papermill": {
     "duration": 1.498943,
     "end_time": "2020-12-09T09:32:43.573281",
     "exception": false,
     "start_time": "2020-12-09T09:32:42.074338",
     "status": "completed"
    },
    "tags": []
   },
   "outputs": [],
   "source": [
    "# test_labels = '../input/jigsaw-toxic-comment-classification-challenge/test_labels.csv.zip'\n",
    "# df_test_labels = pd.read_csv(test_labels)\n",
    "\n",
    "# df_test_labels.head()"
   ]
  },
  {
   "cell_type": "code",
   "execution_count": 28,
   "metadata": {
    "execution": {
     "iopub.execute_input": "2020-12-09T09:32:46.534559Z",
     "iopub.status.busy": "2020-12-09T09:32:46.533644Z",
     "iopub.status.idle": "2020-12-09T09:32:46.536065Z",
     "shell.execute_reply": "2020-12-09T09:32:46.535539Z"
    },
    "papermill": {
     "duration": 1.473088,
     "end_time": "2020-12-09T09:32:46.536154",
     "exception": false,
     "start_time": "2020-12-09T09:32:45.063066",
     "status": "completed"
    },
    "tags": []
   },
   "outputs": [],
   "source": [
    "# df_test_labels = df_test_labels[df_test_labels.toxic!=-1].reset_index(drop=True)\n",
    "# df_ids = df_test_labels['id']\n",
    "# df_preds = df_ids.merge(final_submission, left_index=True, right_index=True)"
   ]
  },
  {
   "cell_type": "code",
   "execution_count": null,
   "metadata": {
    "papermill": {
     "duration": 1.751046,
     "end_time": "2020-12-09T09:32:49.791540",
     "exception": false,
     "start_time": "2020-12-09T09:32:48.040494",
     "status": "completed"
    },
    "tags": []
   },
   "outputs": [],
   "source": []
  }
 ],
 "metadata": {
  "kernelspec": {
   "display_name": "Python 3",
   "language": "python",
   "name": "python3"
  },
  "language_info": {
   "codemirror_mode": {
    "name": "ipython",
    "version": 3
   },
   "file_extension": ".py",
   "mimetype": "text/x-python",
   "name": "python",
   "nbconvert_exporter": "python",
   "pygments_lexer": "ipython3",
   "version": "3.7.6"
  },
  "papermill": {
   "duration": 5152.135655,
   "end_time": "2020-12-09T09:32:53.267326",
   "environment_variables": {},
   "exception": null,
   "input_path": "__notebook__.ipynb",
   "output_path": "__notebook__.ipynb",
   "parameters": {},
   "start_time": "2020-12-09T08:07:01.131671",
   "version": "2.1.0"
  },
  "widgets": {
   "application/vnd.jupyter.widget-state+json": {
    "state": {
     "0338c7ae189e457a89c05b459cc53df9": {
      "model_module": "@jupyter-widgets/base",
      "model_module_version": "1.2.0",
      "model_name": "LayoutModel",
      "state": {
       "_model_module": "@jupyter-widgets/base",
       "_model_module_version": "1.2.0",
       "_model_name": "LayoutModel",
       "_view_count": null,
       "_view_module": "@jupyter-widgets/base",
       "_view_module_version": "1.2.0",
       "_view_name": "LayoutView",
       "align_content": null,
       "align_items": null,
       "align_self": null,
       "border": null,
       "bottom": null,
       "display": null,
       "flex": null,
       "flex_flow": null,
       "grid_area": null,
       "grid_auto_columns": null,
       "grid_auto_flow": null,
       "grid_auto_rows": null,
       "grid_column": null,
       "grid_gap": null,
       "grid_row": null,
       "grid_template_areas": null,
       "grid_template_columns": null,
       "grid_template_rows": null,
       "height": null,
       "justify_content": null,
       "justify_items": null,
       "left": null,
       "margin": null,
       "max_height": null,
       "max_width": null,
       "min_height": null,
       "min_width": null,
       "object_fit": null,
       "object_position": null,
       "order": null,
       "overflow": null,
       "overflow_x": null,
       "overflow_y": null,
       "padding": null,
       "right": null,
       "top": null,
       "visibility": null,
       "width": null
      }
     },
     "1066e168350243f3a25e0736b26a251b": {
      "model_module": "@jupyter-widgets/controls",
      "model_module_version": "1.5.0",
      "model_name": "HTMLModel",
      "state": {
       "_dom_classes": [],
       "_model_module": "@jupyter-widgets/controls",
       "_model_module_version": "1.5.0",
       "_model_name": "HTMLModel",
       "_view_count": null,
       "_view_module": "@jupyter-widgets/controls",
       "_view_module_version": "1.5.0",
       "_view_name": "HTMLView",
       "description": "",
       "description_tooltip": null,
       "layout": "IPY_MODEL_cafe7b3244e34991b58fa5523f70c9e7",
       "placeholder": "​",
       "style": "IPY_MODEL_7842c5a2e532405bb6db065abedb78b6",
       "value": " 1.04M/1.04M [00:01&lt;00:00, 937kB/s]"
      }
     },
     "3e5095bcd2534b15a5cb6d3ab8930649": {
      "model_module": "@jupyter-widgets/controls",
      "model_module_version": "1.5.0",
      "model_name": "FloatProgressModel",
      "state": {
       "_dom_classes": [],
       "_model_module": "@jupyter-widgets/controls",
       "_model_module_version": "1.5.0",
       "_model_name": "FloatProgressModel",
       "_view_count": null,
       "_view_module": "@jupyter-widgets/controls",
       "_view_module_version": "1.5.0",
       "_view_name": "ProgressView",
       "bar_style": "success",
       "description": "Downloading: 100%",
       "description_tooltip": null,
       "layout": "IPY_MODEL_3f901d30537548b5bcc16aa49cb4daf2",
       "max": 1042301.0,
       "min": 0.0,
       "orientation": "horizontal",
       "style": "IPY_MODEL_f8660c88a60543fcb2fb02206878040d",
       "value": 1042301.0
      }
     },
     "3f901d30537548b5bcc16aa49cb4daf2": {
      "model_module": "@jupyter-widgets/base",
      "model_module_version": "1.2.0",
      "model_name": "LayoutModel",
      "state": {
       "_model_module": "@jupyter-widgets/base",
       "_model_module_version": "1.2.0",
       "_model_name": "LayoutModel",
       "_view_count": null,
       "_view_module": "@jupyter-widgets/base",
       "_view_module_version": "1.2.0",
       "_view_name": "LayoutView",
       "align_content": null,
       "align_items": null,
       "align_self": null,
       "border": null,
       "bottom": null,
       "display": null,
       "flex": null,
       "flex_flow": null,
       "grid_area": null,
       "grid_auto_columns": null,
       "grid_auto_flow": null,
       "grid_auto_rows": null,
       "grid_column": null,
       "grid_gap": null,
       "grid_row": null,
       "grid_template_areas": null,
       "grid_template_columns": null,
       "grid_template_rows": null,
       "height": null,
       "justify_content": null,
       "justify_items": null,
       "left": null,
       "margin": null,
       "max_height": null,
       "max_width": null,
       "min_height": null,
       "min_width": null,
       "object_fit": null,
       "object_position": null,
       "order": null,
       "overflow": null,
       "overflow_x": null,
       "overflow_y": null,
       "padding": null,
       "right": null,
       "top": null,
       "visibility": null,
       "width": null
      }
     },
     "43090a652c6a4f08a59008f292cd1794": {
      "model_module": "@jupyter-widgets/controls",
      "model_module_version": "1.5.0",
      "model_name": "FloatProgressModel",
      "state": {
       "_dom_classes": [],
       "_model_module": "@jupyter-widgets/controls",
       "_model_module_version": "1.5.0",
       "_model_name": "FloatProgressModel",
       "_view_count": null,
       "_view_module": "@jupyter-widgets/controls",
       "_view_module_version": "1.5.0",
       "_view_name": "ProgressView",
       "bar_style": "success",
       "description": "Downloading: 100%",
       "description_tooltip": null,
       "layout": "IPY_MODEL_aef3d542d4454a40b5974aa677ae1832",
       "max": 456318.0,
       "min": 0.0,
       "orientation": "horizontal",
       "style": "IPY_MODEL_9a46e09cbfc6483ca6926686cc4bf49f",
       "value": 456318.0
      }
     },
     "4367927571f44d6b91964b4bdf8ba234": {
      "model_module": "@jupyter-widgets/base",
      "model_module_version": "1.2.0",
      "model_name": "LayoutModel",
      "state": {
       "_model_module": "@jupyter-widgets/base",
       "_model_module_version": "1.2.0",
       "_model_name": "LayoutModel",
       "_view_count": null,
       "_view_module": "@jupyter-widgets/base",
       "_view_module_version": "1.2.0",
       "_view_name": "LayoutView",
       "align_content": null,
       "align_items": null,
       "align_self": null,
       "border": null,
       "bottom": null,
       "display": null,
       "flex": null,
       "flex_flow": null,
       "grid_area": null,
       "grid_auto_columns": null,
       "grid_auto_flow": null,
       "grid_auto_rows": null,
       "grid_column": null,
       "grid_gap": null,
       "grid_row": null,
       "grid_template_areas": null,
       "grid_template_columns": null,
       "grid_template_rows": null,
       "height": null,
       "justify_content": null,
       "justify_items": null,
       "left": null,
       "margin": null,
       "max_height": null,
       "max_width": null,
       "min_height": null,
       "min_width": null,
       "object_fit": null,
       "object_position": null,
       "order": null,
       "overflow": null,
       "overflow_x": null,
       "overflow_y": null,
       "padding": null,
       "right": null,
       "top": null,
       "visibility": null,
       "width": null
      }
     },
     "5af248b8e9a44706bae21bbf86aaf4bb": {
      "model_module": "@jupyter-widgets/controls",
      "model_module_version": "1.5.0",
      "model_name": "HTMLModel",
      "state": {
       "_dom_classes": [],
       "_model_module": "@jupyter-widgets/controls",
       "_model_module_version": "1.5.0",
       "_model_name": "HTMLModel",
       "_view_count": null,
       "_view_module": "@jupyter-widgets/controls",
       "_view_module_version": "1.5.0",
       "_view_name": "HTMLView",
       "description": "",
       "description_tooltip": null,
       "layout": "IPY_MODEL_0338c7ae189e457a89c05b459cc53df9",
       "placeholder": "​",
       "style": "IPY_MODEL_f0a5aa09dc4b4b93a91645b7466b5f02",
       "value": " 456k/456k [00:01&lt;00:00, 456kB/s]"
      }
     },
     "5e7326499887436f977fb4a0d3349818": {
      "model_module": "@jupyter-widgets/controls",
      "model_module_version": "1.5.0",
      "model_name": "ProgressStyleModel",
      "state": {
       "_model_module": "@jupyter-widgets/controls",
       "_model_module_version": "1.5.0",
       "_model_name": "ProgressStyleModel",
       "_view_count": null,
       "_view_module": "@jupyter-widgets/base",
       "_view_module_version": "1.2.0",
       "_view_name": "StyleView",
       "bar_color": null,
       "description_width": "initial"
      }
     },
     "6bfa8a75ae774206a66955cc0d9b30bd": {
      "model_module": "@jupyter-widgets/base",
      "model_module_version": "1.2.0",
      "model_name": "LayoutModel",
      "state": {
       "_model_module": "@jupyter-widgets/base",
       "_model_module_version": "1.2.0",
       "_model_name": "LayoutModel",
       "_view_count": null,
       "_view_module": "@jupyter-widgets/base",
       "_view_module_version": "1.2.0",
       "_view_name": "LayoutView",
       "align_content": null,
       "align_items": null,
       "align_self": null,
       "border": null,
       "bottom": null,
       "display": null,
       "flex": null,
       "flex_flow": null,
       "grid_area": null,
       "grid_auto_columns": null,
       "grid_auto_flow": null,
       "grid_auto_rows": null,
       "grid_column": null,
       "grid_gap": null,
       "grid_row": null,
       "grid_template_areas": null,
       "grid_template_columns": null,
       "grid_template_rows": null,
       "height": null,
       "justify_content": null,
       "justify_items": null,
       "left": null,
       "margin": null,
       "max_height": null,
       "max_width": null,
       "min_height": null,
       "min_width": null,
       "object_fit": null,
       "object_position": null,
       "order": null,
       "overflow": null,
       "overflow_x": null,
       "overflow_y": null,
       "padding": null,
       "right": null,
       "top": null,
       "visibility": null,
       "width": null
      }
     },
     "6cd41b5b23004c71ab159a2866ce36ec": {
      "model_module": "@jupyter-widgets/base",
      "model_module_version": "1.2.0",
      "model_name": "LayoutModel",
      "state": {
       "_model_module": "@jupyter-widgets/base",
       "_model_module_version": "1.2.0",
       "_model_name": "LayoutModel",
       "_view_count": null,
       "_view_module": "@jupyter-widgets/base",
       "_view_module_version": "1.2.0",
       "_view_name": "LayoutView",
       "align_content": null,
       "align_items": null,
       "align_self": null,
       "border": null,
       "bottom": null,
       "display": null,
       "flex": null,
       "flex_flow": null,
       "grid_area": null,
       "grid_auto_columns": null,
       "grid_auto_flow": null,
       "grid_auto_rows": null,
       "grid_column": null,
       "grid_gap": null,
       "grid_row": null,
       "grid_template_areas": null,
       "grid_template_columns": null,
       "grid_template_rows": null,
       "height": null,
       "justify_content": null,
       "justify_items": null,
       "left": null,
       "margin": null,
       "max_height": null,
       "max_width": null,
       "min_height": null,
       "min_width": null,
       "object_fit": null,
       "object_position": null,
       "order": null,
       "overflow": null,
       "overflow_x": null,
       "overflow_y": null,
       "padding": null,
       "right": null,
       "top": null,
       "visibility": null,
       "width": null
      }
     },
     "6d8d9d3ceb374d499e47f4d6449afd85": {
      "model_module": "@jupyter-widgets/controls",
      "model_module_version": "1.5.0",
      "model_name": "FloatProgressModel",
      "state": {
       "_dom_classes": [],
       "_model_module": "@jupyter-widgets/controls",
       "_model_module_version": "1.5.0",
       "_model_name": "FloatProgressModel",
       "_view_count": null,
       "_view_module": "@jupyter-widgets/controls",
       "_view_module_version": "1.5.0",
       "_view_name": "ProgressView",
       "bar_style": "success",
       "description": "Downloading: 100%",
       "description_tooltip": null,
       "layout": "IPY_MODEL_e251b987371e44709e1951c806a07a12",
       "max": 497933648.0,
       "min": 0.0,
       "orientation": "horizontal",
       "style": "IPY_MODEL_5e7326499887436f977fb4a0d3349818",
       "value": 497933648.0
      }
     },
     "7842c5a2e532405bb6db065abedb78b6": {
      "model_module": "@jupyter-widgets/controls",
      "model_module_version": "1.5.0",
      "model_name": "DescriptionStyleModel",
      "state": {
       "_model_module": "@jupyter-widgets/controls",
       "_model_module_version": "1.5.0",
       "_model_name": "DescriptionStyleModel",
       "_view_count": null,
       "_view_module": "@jupyter-widgets/base",
       "_view_module_version": "1.2.0",
       "_view_name": "StyleView",
       "description_width": ""
      }
     },
     "85c0f4fd4cfd431ea069fd9905188613": {
      "model_module": "@jupyter-widgets/controls",
      "model_module_version": "1.5.0",
      "model_name": "HBoxModel",
      "state": {
       "_dom_classes": [],
       "_model_module": "@jupyter-widgets/controls",
       "_model_module_version": "1.5.0",
       "_model_name": "HBoxModel",
       "_view_count": null,
       "_view_module": "@jupyter-widgets/controls",
       "_view_module_version": "1.5.0",
       "_view_name": "HBoxView",
       "box_style": "",
       "children": [
        "IPY_MODEL_3e5095bcd2534b15a5cb6d3ab8930649",
        "IPY_MODEL_1066e168350243f3a25e0736b26a251b"
       ],
       "layout": "IPY_MODEL_6bfa8a75ae774206a66955cc0d9b30bd"
      }
     },
     "8898a7c2a8e4492d8a5f3bac24521b73": {
      "model_module": "@jupyter-widgets/controls",
      "model_module_version": "1.5.0",
      "model_name": "HTMLModel",
      "state": {
       "_dom_classes": [],
       "_model_module": "@jupyter-widgets/controls",
       "_model_module_version": "1.5.0",
       "_model_name": "HTMLModel",
       "_view_count": null,
       "_view_module": "@jupyter-widgets/controls",
       "_view_module_version": "1.5.0",
       "_view_name": "HTMLView",
       "description": "",
       "description_tooltip": null,
       "layout": "IPY_MODEL_4367927571f44d6b91964b4bdf8ba234",
       "placeholder": "​",
       "style": "IPY_MODEL_a36e5c1605a044ce84ae242909c6be52",
       "value": " 498M/498M [00:46&lt;00:00, 10.7MB/s]"
      }
     },
     "9a46e09cbfc6483ca6926686cc4bf49f": {
      "model_module": "@jupyter-widgets/controls",
      "model_module_version": "1.5.0",
      "model_name": "ProgressStyleModel",
      "state": {
       "_model_module": "@jupyter-widgets/controls",
       "_model_module_version": "1.5.0",
       "_model_name": "ProgressStyleModel",
       "_view_count": null,
       "_view_module": "@jupyter-widgets/base",
       "_view_module_version": "1.2.0",
       "_view_name": "StyleView",
       "bar_color": null,
       "description_width": "initial"
      }
     },
     "9e04c840c5624ac59d800d14e5e9d17d": {
      "model_module": "@jupyter-widgets/base",
      "model_module_version": "1.2.0",
      "model_name": "LayoutModel",
      "state": {
       "_model_module": "@jupyter-widgets/base",
       "_model_module_version": "1.2.0",
       "_model_name": "LayoutModel",
       "_view_count": null,
       "_view_module": "@jupyter-widgets/base",
       "_view_module_version": "1.2.0",
       "_view_name": "LayoutView",
       "align_content": null,
       "align_items": null,
       "align_self": null,
       "border": null,
       "bottom": null,
       "display": null,
       "flex": null,
       "flex_flow": null,
       "grid_area": null,
       "grid_auto_columns": null,
       "grid_auto_flow": null,
       "grid_auto_rows": null,
       "grid_column": null,
       "grid_gap": null,
       "grid_row": null,
       "grid_template_areas": null,
       "grid_template_columns": null,
       "grid_template_rows": null,
       "height": null,
       "justify_content": null,
       "justify_items": null,
       "left": null,
       "margin": null,
       "max_height": null,
       "max_width": null,
       "min_height": null,
       "min_width": null,
       "object_fit": null,
       "object_position": null,
       "order": null,
       "overflow": null,
       "overflow_x": null,
       "overflow_y": null,
       "padding": null,
       "right": null,
       "top": null,
       "visibility": null,
       "width": null
      }
     },
     "a36e5c1605a044ce84ae242909c6be52": {
      "model_module": "@jupyter-widgets/controls",
      "model_module_version": "1.5.0",
      "model_name": "DescriptionStyleModel",
      "state": {
       "_model_module": "@jupyter-widgets/controls",
       "_model_module_version": "1.5.0",
       "_model_name": "DescriptionStyleModel",
       "_view_count": null,
       "_view_module": "@jupyter-widgets/base",
       "_view_module_version": "1.2.0",
       "_view_name": "StyleView",
       "description_width": ""
      }
     },
     "aef3d542d4454a40b5974aa677ae1832": {
      "model_module": "@jupyter-widgets/base",
      "model_module_version": "1.2.0",
      "model_name": "LayoutModel",
      "state": {
       "_model_module": "@jupyter-widgets/base",
       "_model_module_version": "1.2.0",
       "_model_name": "LayoutModel",
       "_view_count": null,
       "_view_module": "@jupyter-widgets/base",
       "_view_module_version": "1.2.0",
       "_view_name": "LayoutView",
       "align_content": null,
       "align_items": null,
       "align_self": null,
       "border": null,
       "bottom": null,
       "display": null,
       "flex": null,
       "flex_flow": null,
       "grid_area": null,
       "grid_auto_columns": null,
       "grid_auto_flow": null,
       "grid_auto_rows": null,
       "grid_column": null,
       "grid_gap": null,
       "grid_row": null,
       "grid_template_areas": null,
       "grid_template_columns": null,
       "grid_template_rows": null,
       "height": null,
       "justify_content": null,
       "justify_items": null,
       "left": null,
       "margin": null,
       "max_height": null,
       "max_width": null,
       "min_height": null,
       "min_width": null,
       "object_fit": null,
       "object_position": null,
       "order": null,
       "overflow": null,
       "overflow_x": null,
       "overflow_y": null,
       "padding": null,
       "right": null,
       "top": null,
       "visibility": null,
       "width": null
      }
     },
     "b59cc5f256ef43e1b234448cac2b4260": {
      "model_module": "@jupyter-widgets/controls",
      "model_module_version": "1.5.0",
      "model_name": "HBoxModel",
      "state": {
       "_dom_classes": [],
       "_model_module": "@jupyter-widgets/controls",
       "_model_module_version": "1.5.0",
       "_model_name": "HBoxModel",
       "_view_count": null,
       "_view_module": "@jupyter-widgets/controls",
       "_view_module_version": "1.5.0",
       "_view_name": "HBoxView",
       "box_style": "",
       "children": [
        "IPY_MODEL_43090a652c6a4f08a59008f292cd1794",
        "IPY_MODEL_5af248b8e9a44706bae21bbf86aaf4bb"
       ],
       "layout": "IPY_MODEL_6cd41b5b23004c71ab159a2866ce36ec"
      }
     },
     "cafe7b3244e34991b58fa5523f70c9e7": {
      "model_module": "@jupyter-widgets/base",
      "model_module_version": "1.2.0",
      "model_name": "LayoutModel",
      "state": {
       "_model_module": "@jupyter-widgets/base",
       "_model_module_version": "1.2.0",
       "_model_name": "LayoutModel",
       "_view_count": null,
       "_view_module": "@jupyter-widgets/base",
       "_view_module_version": "1.2.0",
       "_view_name": "LayoutView",
       "align_content": null,
       "align_items": null,
       "align_self": null,
       "border": null,
       "bottom": null,
       "display": null,
       "flex": null,
       "flex_flow": null,
       "grid_area": null,
       "grid_auto_columns": null,
       "grid_auto_flow": null,
       "grid_auto_rows": null,
       "grid_column": null,
       "grid_gap": null,
       "grid_row": null,
       "grid_template_areas": null,
       "grid_template_columns": null,
       "grid_template_rows": null,
       "height": null,
       "justify_content": null,
       "justify_items": null,
       "left": null,
       "margin": null,
       "max_height": null,
       "max_width": null,
       "min_height": null,
       "min_width": null,
       "object_fit": null,
       "object_position": null,
       "order": null,
       "overflow": null,
       "overflow_x": null,
       "overflow_y": null,
       "padding": null,
       "right": null,
       "top": null,
       "visibility": null,
       "width": null
      }
     },
     "e251b987371e44709e1951c806a07a12": {
      "model_module": "@jupyter-widgets/base",
      "model_module_version": "1.2.0",
      "model_name": "LayoutModel",
      "state": {
       "_model_module": "@jupyter-widgets/base",
       "_model_module_version": "1.2.0",
       "_model_name": "LayoutModel",
       "_view_count": null,
       "_view_module": "@jupyter-widgets/base",
       "_view_module_version": "1.2.0",
       "_view_name": "LayoutView",
       "align_content": null,
       "align_items": null,
       "align_self": null,
       "border": null,
       "bottom": null,
       "display": null,
       "flex": null,
       "flex_flow": null,
       "grid_area": null,
       "grid_auto_columns": null,
       "grid_auto_flow": null,
       "grid_auto_rows": null,
       "grid_column": null,
       "grid_gap": null,
       "grid_row": null,
       "grid_template_areas": null,
       "grid_template_columns": null,
       "grid_template_rows": null,
       "height": null,
       "justify_content": null,
       "justify_items": null,
       "left": null,
       "margin": null,
       "max_height": null,
       "max_width": null,
       "min_height": null,
       "min_width": null,
       "object_fit": null,
       "object_position": null,
       "order": null,
       "overflow": null,
       "overflow_x": null,
       "overflow_y": null,
       "padding": null,
       "right": null,
       "top": null,
       "visibility": null,
       "width": null
      }
     },
     "e3c1c4ea681c47fa8e40e1eee0e3293f": {
      "model_module": "@jupyter-widgets/controls",
      "model_module_version": "1.5.0",
      "model_name": "HBoxModel",
      "state": {
       "_dom_classes": [],
       "_model_module": "@jupyter-widgets/controls",
       "_model_module_version": "1.5.0",
       "_model_name": "HBoxModel",
       "_view_count": null,
       "_view_module": "@jupyter-widgets/controls",
       "_view_module_version": "1.5.0",
       "_view_name": "HBoxView",
       "box_style": "",
       "children": [
        "IPY_MODEL_6d8d9d3ceb374d499e47f4d6449afd85",
        "IPY_MODEL_8898a7c2a8e4492d8a5f3bac24521b73"
       ],
       "layout": "IPY_MODEL_9e04c840c5624ac59d800d14e5e9d17d"
      }
     },
     "f0a5aa09dc4b4b93a91645b7466b5f02": {
      "model_module": "@jupyter-widgets/controls",
      "model_module_version": "1.5.0",
      "model_name": "DescriptionStyleModel",
      "state": {
       "_model_module": "@jupyter-widgets/controls",
       "_model_module_version": "1.5.0",
       "_model_name": "DescriptionStyleModel",
       "_view_count": null,
       "_view_module": "@jupyter-widgets/base",
       "_view_module_version": "1.2.0",
       "_view_name": "StyleView",
       "description_width": ""
      }
     },
     "f8660c88a60543fcb2fb02206878040d": {
      "model_module": "@jupyter-widgets/controls",
      "model_module_version": "1.5.0",
      "model_name": "ProgressStyleModel",
      "state": {
       "_model_module": "@jupyter-widgets/controls",
       "_model_module_version": "1.5.0",
       "_model_name": "ProgressStyleModel",
       "_view_count": null,
       "_view_module": "@jupyter-widgets/base",
       "_view_module_version": "1.2.0",
       "_view_name": "StyleView",
       "bar_color": null,
       "description_width": "initial"
      }
     }
    },
    "version_major": 2,
    "version_minor": 0
   }
  }
 },
 "nbformat": 4,
 "nbformat_minor": 4
}
