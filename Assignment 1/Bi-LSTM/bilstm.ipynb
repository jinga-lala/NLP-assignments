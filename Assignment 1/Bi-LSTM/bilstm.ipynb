{
  "nbformat": 4,
  "nbformat_minor": 0,
  "metadata": {
    "colab": {
      "name": "POS tagging by BiLSTM",
      "provenance": [],
      "collapsed_sections": []
    },
    "kernelspec": {
      "name": "python3",
      "display_name": "Python 3"
    },
    "accelerator": "GPU"
  },
  "cells": [
    {
      "cell_type": "code",
      "metadata": {
        "id": "IphVUU6L9d1b",
        "colab_type": "code",
        "colab": {}
      },
      "source": [
        "import nltk\n",
        "from nltk.corpus import brown\n",
        "import random \n",
        "import numpy as np\n",
        "from sklearn.metrics import accuracy_score, confusion_matrix, classification_report\n",
        "\n",
        "def importdata():\n",
        "\tnltk.download('brown')\n",
        "\tnltk.download('universal_tagset')\n",
        "\n",
        "\n",
        "def getRows():\n",
        "\n",
        "\tSentences = nltk.corpus.brown.sents(categories=nltk.corpus.brown.categories())\n",
        "\treturn Sentences\n",
        "\n",
        "\n",
        "def getTaggedWords():\n",
        "\n",
        "\treturn nltk.corpus.brown.tagged_words(tagset='universal')\n",
        "\n",
        "\n",
        "def getTaggedSent():\n",
        "\treturn nltk.corpus.brown.tagged_sents(categories= nltk.corpus.brown.categories(), tagset='universal')\n",
        "\n",
        "\n",
        "def Parition_in_n(input_list, n):\n",
        "    random.shuffle(input_list)\n",
        "    return [input_list[i::n] for i in range(n)]\n"
      ],
      "execution_count": 2,
      "outputs": []
    },
    {
      "cell_type": "code",
      "metadata": {
        "id": "UMZvRhRj93fx",
        "colab_type": "code",
        "colab": {
          "base_uri": "https://localhost:8080/",
          "height": 87
        },
        "outputId": "41fd4b3f-934a-4a70-bc15-a064c2d7931e"
      },
      "source": [
        "importdata()\n",
        "\n",
        "List_of_Tags = []\n",
        "List_of_Words = []\n",
        "\n",
        "indextags = {}\n",
        "indexwords = {}\n",
        "\n",
        "Tagged_words = getTaggedWords()\n",
        "\n",
        "Tagged_Sentences = getTaggedSent()\n",
        "\n",
        "for words in Tagged_words:\n",
        "  List_of_Tags.append(words[1])\n",
        "  List_of_Words.append(words[0].lower())\n",
        "\n",
        "List_of_Words.append('st')\n",
        "List_of_Words.append('endt')\n",
        "\n",
        "List_of_Tags.append('st')\n",
        "List_of_Tags.append('endt')\n",
        "\n",
        "Set_of_Words = list(set(List_of_Words))\n",
        "Set_of_Tags = list(set(List_of_Tags))"
      ],
      "execution_count": 3,
      "outputs": [
        {
          "output_type": "stream",
          "text": [
            "[nltk_data] Downloading package brown to /root/nltk_data...\n",
            "[nltk_data]   Unzipping corpora/brown.zip.\n",
            "[nltk_data] Downloading package universal_tagset to /root/nltk_data...\n",
            "[nltk_data]   Unzipping taggers/universal_tagset.zip.\n"
          ],
          "name": "stdout"
        }
      ]
    },
    {
      "cell_type": "code",
      "metadata": {
        "id": "GkHDlvTx_Hkd",
        "colab_type": "code",
        "colab": {}
      },
      "source": [
        "###########Smoothening Parameters###########\n",
        "Lambda = 0.01\n",
        "V = len(Set_of_Words)\n",
        "#############################################\n",
        "\n",
        "Dataset_Partition = Parition_in_n(list(Tagged_Sentences),5)\n",
        "\n",
        "#########Assigning Index to Words and Tagset for Probability Matrix######\n",
        "for x in range(0,len(Set_of_Tags)):\n",
        "  indextags[Set_of_Tags[x]] = x\n",
        "\n",
        "for x in range(0,len(Set_of_Words)):\n",
        "  indexwords[Set_of_Words[x]] = x\n"
      ],
      "execution_count": 4,
      "outputs": []
    },
    {
      "cell_type": "code",
      "metadata": {
        "id": "3h89FRwzAuad",
        "colab_type": "code",
        "colab": {}
      },
      "source": [
        "import torch\n",
        "import torch.nn as nn\n",
        "class BiLSTMNet(nn.Module):\n",
        "  def __init__(self, hidden_dim, num_words, n_layers=1, seqLength=20, numTags=14):\n",
        "    super(BiLSTMNet, self).__init__()\n",
        "    self.hidden_dim = hidden_dim\n",
        "    self.embeddings = nn.Embedding(num_words, hidden_dim)\n",
        "    self.bilstm = nn.LSTM(hidden_dim, hidden_dim, n_layers, batch_first=True, bidirectional = True)\n",
        "    self.fc = nn.Linear(hidden_dim*2,numTags)\n",
        "    self.dropout = nn.Dropout(0.3)\n",
        "    self.softmax = nn.Softmax(dim=2)\n",
        "\n",
        "  def forward(self,x):\n",
        "    x = self.embeddings(x)\n",
        "    unpacked, (h_n, c_n) = self.bilstm(x)\n",
        "    out = self.fc(unpacked)\n",
        "    out = self.dropout(out)\n",
        "    return self.softmax(out)"
      ],
      "execution_count": 5,
      "outputs": []
    },
    {
      "cell_type": "code",
      "metadata": {
        "id": "F3i-xVw4EuIn",
        "colab_type": "code",
        "colab": {}
      },
      "source": [
        "class Data:\n",
        "  def __init__(self, indexwords, indextags, batch_size, seq_length):\n",
        "    self.indexwords = indexwords.copy()\n",
        "    self.indextags = indextags\n",
        "    self.batch_size = batch_size\n",
        "    self.seq_length = seq_length\n",
        "      \n",
        "  def one_hot_word(self, word):\n",
        "\n",
        "    return self.indexwords[word]\n",
        "\n",
        "  def one_hot_tag(self, tag):\n",
        "    x = np.zeros(len(self.indextags))\n",
        "    x[self.indextags[tag]] = 1.\n",
        "    return np.asarray(x)\n",
        "\n",
        "  def preprocess(self, dataset_list):\n",
        "    word_dataset = []\n",
        "    tag_dataset = []\n",
        "    word_dataset_batch = []\n",
        "    tag_dataset_batch = []\n",
        "    seq_len = []\n",
        "    for i in range(len(dataset_list)):\n",
        "      wd = []\n",
        "      td = []\n",
        "      for j in dataset_list[i]:\n",
        "        word = self.one_hot_word(j[0].lower())\n",
        "        tag = self.one_hot_tag(j[1])\n",
        "        wd.append(word)\n",
        "        td.append(tag)\n",
        "      seq_len.append(len(wd))\n",
        "\n",
        "      word_dataset.append(np.array(wd))\n",
        "      tag_dataset.append(np.array(td))\n",
        "    \n",
        "    return word_dataset, tag_dataset\n",
        "\n"
      ],
      "execution_count": 6,
      "outputs": []
    },
    {
      "cell_type": "code",
      "metadata": {
        "id": "HhdbS9P-V5zH",
        "colab_type": "code",
        "colab": {
          "base_uri": "https://localhost:8080/",
          "height": 34
        },
        "outputId": "2fc7a575-8f27-40a2-a643-9064fe3d53e2"
      },
      "source": [
        "gpu = 0\n",
        "device = torch.device(gpu if torch.cuda.is_available() else \"cpu\")\n",
        "if torch.cuda.is_available():\n",
        "    torch.cuda.set_device(gpu)\n",
        "print(device)"
      ],
      "execution_count": 7,
      "outputs": [
        {
          "output_type": "stream",
          "text": [
            "cuda:0\n"
          ],
          "name": "stdout"
        }
      ]
    },
    {
      "cell_type": "code",
      "metadata": {
        "id": "fbsnnycnm7vD",
        "colab_type": "code",
        "colab": {}
      },
      "source": [
        "from tqdm import tqdm"
      ],
      "execution_count": 8,
      "outputs": []
    },
    {
      "cell_type": "code",
      "metadata": {
        "id": "mkYy6RYStlfr",
        "colab_type": "code",
        "colab": {
          "base_uri": "https://localhost:8080/",
          "height": 1000
        },
        "outputId": "cf01bd97-257b-4739-da75-d26c944a93ae"
      },
      "source": [
        "for test_index in range(0,5):\n",
        "  Train_set = []\n",
        "  Test_set = []\n",
        "  for training_index in range(0,5):\n",
        "\n",
        "    if training_index == test_index:\n",
        "      Test_set.extend(Dataset_Partition[training_index])\n",
        "      continue\n",
        "    Train_set.extend(Dataset_Partition[training_index])\n",
        "\n",
        "  train_data = Data(indexwords, indextags, 32, 20)\n",
        "  word_set, tag_set = train_data.preprocess(Train_set)\n",
        "\n",
        "  test_data = Data(indexwords, indextags, 32, 20)\n",
        "  test_word_set, test_tag_set = test_data.preprocess(Test_set)\n",
        "\n",
        "  ###Model Parameters\n",
        "  loss_criteria = nn.BCELoss()\n",
        "  model = BiLSTMNet(256, len(indexwords))\n",
        "  model = model.to(device)\n",
        "  optimizer = torch.optim.Adam(model.parameters(), lr=1e-2)\n",
        "  epochs = 5\n",
        "  ###Training\n",
        "  a = len(word_set)\n",
        "  model.train()\n",
        "  loss_total = 0\n",
        "  \n",
        "  for _ in tqdm(range(epochs)):\n",
        "    print(\"*\"*100)\n",
        "    for i in range(a):\n",
        "      out = model(torch.tensor(word_set[i]).unsqueeze(0).to(device))\n",
        "      loss = loss_criteria(out[0], torch.tensor(tag_set[i]).float().to(device))\n",
        "      loss.backward()\n",
        "      loss_total+= loss.detach().cpu()\n",
        "      if i%4096==0 and i!=0:\n",
        "        print(f\"loss: {loss_total} for batch size:4096 cross validation: {test_index+1}\" )\n",
        "        \n",
        "        optimizer.step()\n",
        "        optimizer.zero_grad()\n",
        "        loss_total = 0\n",
        "\n",
        "  ###Testing\n",
        "  b = len(test_word_set)\n",
        "  model.eval()\n",
        "  pred_all = []\n",
        "  gold_all = []\n",
        "  for i in range(b):\n",
        "    out = model(torch.tensor(test_word_set[i]).unsqueeze(0).to(device))\n",
        "    \n",
        "    pred = torch.argmax(out[0], dim=1)\n",
        "    gold = np.argmax(test_tag_set[i], axis=1)\n",
        "   \n",
        "    pred_all.extend(pred.detach().cpu().data)\n",
        "    gold_all.extend(gold)\n",
        "  torch.save(model.state_dict(), f'POS_bilstm_{test_index+1}.pt')\n",
        "  print('-'*100)\n",
        "  print(f\"Performance of Cross validation: {test_index+1} \")\n",
        "  print(f\"Accuracy: {accuracy_score(gold_all, pred_all)}\")\n",
        "  print(classification_report(gold_all, pred_all))\n",
        "  print('-'*100)"
      ],
      "execution_count": 9,
      "outputs": [
        {
          "output_type": "stream",
          "text": [
            "\r  0%|          | 0/5 [00:00<?, ?it/s]"
          ],
          "name": "stderr"
        },
        {
          "output_type": "stream",
          "text": [
            "****************************************************************************************************\n",
            "loss: 1057.865478515625 for batch size:4096 cross validation: 1\n",
            "loss: 816.4102783203125 for batch size:4096 cross validation: 1\n",
            "loss: 934.930419921875 for batch size:4096 cross validation: 1\n",
            "loss: 675.7109375 for batch size:4096 cross validation: 1\n",
            "loss: 661.2625122070312 for batch size:4096 cross validation: 1\n",
            "loss: 624.7356567382812 for batch size:4096 cross validation: 1\n",
            "loss: 586.6181640625 for batch size:4096 cross validation: 1\n",
            "loss: 541.8458251953125 for batch size:4096 cross validation: 1\n",
            "loss: 508.6564025878906 for batch size:4096 cross validation: 1\n",
            "loss: 481.636474609375 for batch size:4096 cross validation: 1\n",
            "loss: 473.40765380859375 for batch size:4096 cross validation: 1\n"
          ],
          "name": "stdout"
        },
        {
          "output_type": "stream",
          "text": [
            "\r 20%|██        | 1/5 [03:57<15:48, 237.12s/it]"
          ],
          "name": "stderr"
        },
        {
          "output_type": "stream",
          "text": [
            "****************************************************************************************************\n",
            "loss: 538.4664306640625 for batch size:4096 cross validation: 1\n",
            "loss: 424.66009521484375 for batch size:4096 cross validation: 1\n",
            "loss: 411.85540771484375 for batch size:4096 cross validation: 1\n",
            "loss: 399.8013610839844 for batch size:4096 cross validation: 1\n",
            "loss: 384.032958984375 for batch size:4096 cross validation: 1\n",
            "loss: 375.2386169433594 for batch size:4096 cross validation: 1\n",
            "loss: 365.5683288574219 for batch size:4096 cross validation: 1\n",
            "loss: 355.1776123046875 for batch size:4096 cross validation: 1\n",
            "loss: 342.3537292480469 for batch size:4096 cross validation: 1\n",
            "loss: 336.00274658203125 for batch size:4096 cross validation: 1\n",
            "loss: 329.6739196777344 for batch size:4096 cross validation: 1\n"
          ],
          "name": "stdout"
        },
        {
          "output_type": "stream",
          "text": [
            "\r 40%|████      | 2/5 [07:53<11:50, 236.93s/it]"
          ],
          "name": "stderr"
        },
        {
          "output_type": "stream",
          "text": [
            "****************************************************************************************************\n",
            "loss: 384.10809326171875 for batch size:4096 cross validation: 1\n",
            "loss: 310.6672668457031 for batch size:4096 cross validation: 1\n",
            "loss: 309.2188720703125 for batch size:4096 cross validation: 1\n",
            "loss: 304.6513977050781 for batch size:4096 cross validation: 1\n",
            "loss: 291.0354309082031 for batch size:4096 cross validation: 1\n",
            "loss: 291.3410949707031 for batch size:4096 cross validation: 1\n",
            "loss: 285.9700012207031 for batch size:4096 cross validation: 1\n",
            "loss: 285.0627746582031 for batch size:4096 cross validation: 1\n",
            "loss: 275.48095703125 for batch size:4096 cross validation: 1\n",
            "loss: 274.0218505859375 for batch size:4096 cross validation: 1\n",
            "loss: 273.2123718261719 for batch size:4096 cross validation: 1\n"
          ],
          "name": "stdout"
        },
        {
          "output_type": "stream",
          "text": [
            "\r 60%|██████    | 3/5 [11:49<07:53, 236.69s/it]"
          ],
          "name": "stderr"
        },
        {
          "output_type": "stream",
          "text": [
            "****************************************************************************************************\n",
            "loss: 323.2516174316406 for batch size:4096 cross validation: 1\n",
            "loss: 261.6473693847656 for batch size:4096 cross validation: 1\n",
            "loss: 265.7864990234375 for batch size:4096 cross validation: 1\n",
            "loss: 257.4601745605469 for batch size:4096 cross validation: 1\n",
            "loss: 259.13916015625 for batch size:4096 cross validation: 1\n",
            "loss: 253.513671875 for batch size:4096 cross validation: 1\n",
            "loss: 253.37863159179688 for batch size:4096 cross validation: 1\n",
            "loss: 251.17877197265625 for batch size:4096 cross validation: 1\n",
            "loss: 250.466796875 for batch size:4096 cross validation: 1\n",
            "loss: 249.17803955078125 for batch size:4096 cross validation: 1\n",
            "loss: 246.87530517578125 for batch size:4096 cross validation: 1\n"
          ],
          "name": "stdout"
        },
        {
          "output_type": "stream",
          "text": [
            "\r 80%|████████  | 4/5 [15:46<03:56, 236.60s/it]"
          ],
          "name": "stderr"
        },
        {
          "output_type": "stream",
          "text": [
            "****************************************************************************************************\n",
            "loss: 298.8458557128906 for batch size:4096 cross validation: 1\n",
            "loss: 246.5955047607422 for batch size:4096 cross validation: 1\n",
            "loss: 244.943115234375 for batch size:4096 cross validation: 1\n",
            "loss: 241.4124755859375 for batch size:4096 cross validation: 1\n",
            "loss: 242.86898803710938 for batch size:4096 cross validation: 1\n",
            "loss: 240.99734497070312 for batch size:4096 cross validation: 1\n",
            "loss: 239.4894256591797 for batch size:4096 cross validation: 1\n",
            "loss: 239.1848602294922 for batch size:4096 cross validation: 1\n",
            "loss: 238.87388610839844 for batch size:4096 cross validation: 1\n",
            "loss: 237.39620971679688 for batch size:4096 cross validation: 1\n",
            "loss: 237.4597930908203 for batch size:4096 cross validation: 1\n"
          ],
          "name": "stdout"
        },
        {
          "output_type": "stream",
          "text": [
            "100%|██████████| 5/5 [19:40<00:00, 236.11s/it]\n"
          ],
          "name": "stderr"
        },
        {
          "output_type": "stream",
          "text": [
            "----------------------------------------------------------------------------------------------------\n",
            "Performance of Cross validation: 1 \n",
            "Accuracy: 0.9698258220998712\n",
            "              precision    recall  f1-score   support\n",
            "\n",
            "           0       0.99      0.99      0.99     27415\n",
            "           1       0.96      0.97      0.97     36291\n",
            "           2       0.96      0.97      0.96     54986\n",
            "           3       0.98      0.98      0.98     29151\n",
            "           4       0.95      0.88      0.91      3014\n",
            "           7       1.00      1.00      1.00     29357\n",
            "           8       0.94      0.95      0.94      5992\n",
            "           9       0.87      0.10      0.17       282\n",
            "          10       0.93      0.93      0.93     11224\n",
            "          11       0.99      0.98      0.99      9875\n",
            "          12       0.93      0.91      0.92     16877\n",
            "          13       0.99      1.00      0.99      7655\n",
            "\n",
            "    accuracy                           0.97    232119\n",
            "   macro avg       0.96      0.89      0.90    232119\n",
            "weighted avg       0.97      0.97      0.97    232119\n",
            "\n",
            "----------------------------------------------------------------------------------------------------\n"
          ],
          "name": "stdout"
        },
        {
          "output_type": "stream",
          "text": [
            "\r  0%|          | 0/5 [00:00<?, ?it/s]"
          ],
          "name": "stderr"
        },
        {
          "output_type": "stream",
          "text": [
            "****************************************************************************************************\n",
            "loss: 1057.5330810546875 for batch size:4096 cross validation: 2\n",
            "loss: 819.3674926757812 for batch size:4096 cross validation: 2\n",
            "loss: 801.76611328125 for batch size:4096 cross validation: 2\n",
            "loss: 661.3092651367188 for batch size:4096 cross validation: 2\n",
            "loss: 638.1906127929688 for batch size:4096 cross validation: 2\n",
            "loss: 599.014404296875 for batch size:4096 cross validation: 2\n",
            "loss: 553.96923828125 for batch size:4096 cross validation: 2\n",
            "loss: 512.4955444335938 for batch size:4096 cross validation: 2\n",
            "loss: 484.09722900390625 for batch size:4096 cross validation: 2\n",
            "loss: 469.9002685546875 for batch size:4096 cross validation: 2\n",
            "loss: 455.80072021484375 for batch size:4096 cross validation: 2\n"
          ],
          "name": "stdout"
        },
        {
          "output_type": "stream",
          "text": [
            "\r 20%|██        | 1/5 [03:55<15:40, 235.15s/it]"
          ],
          "name": "stderr"
        },
        {
          "output_type": "stream",
          "text": [
            "****************************************************************************************************\n",
            "loss: 512.5543212890625 for batch size:4096 cross validation: 2\n",
            "loss: 406.748291015625 for batch size:4096 cross validation: 2\n",
            "loss: 396.7989807128906 for batch size:4096 cross validation: 2\n",
            "loss: 383.1300048828125 for batch size:4096 cross validation: 2\n",
            "loss: 375.7508544921875 for batch size:4096 cross validation: 2\n",
            "loss: 363.08843994140625 for batch size:4096 cross validation: 2\n",
            "loss: 355.1935729980469 for batch size:4096 cross validation: 2\n",
            "loss: 343.4229431152344 for batch size:4096 cross validation: 2\n",
            "loss: 336.4972839355469 for batch size:4096 cross validation: 2\n",
            "loss: 325.0169677734375 for batch size:4096 cross validation: 2\n",
            "loss: 320.9769592285156 for batch size:4096 cross validation: 2\n"
          ],
          "name": "stdout"
        },
        {
          "output_type": "stream",
          "text": [
            "\r 40%|████      | 2/5 [07:50<11:45, 235.27s/it]"
          ],
          "name": "stderr"
        },
        {
          "output_type": "stream",
          "text": [
            "****************************************************************************************************\n",
            "loss: 376.71783447265625 for batch size:4096 cross validation: 2\n",
            "loss: 304.9775390625 for batch size:4096 cross validation: 2\n",
            "loss: 304.6899108886719 for batch size:4096 cross validation: 2\n",
            "loss: 292.2120666503906 for batch size:4096 cross validation: 2\n",
            "loss: 291.485595703125 for batch size:4096 cross validation: 2\n",
            "loss: 285.14892578125 for batch size:4096 cross validation: 2\n",
            "loss: 283.6674499511719 for batch size:4096 cross validation: 2\n",
            "loss: 274.6639404296875 for batch size:4096 cross validation: 2\n",
            "loss: 275.25189208984375 for batch size:4096 cross validation: 2\n",
            "loss: 271.546142578125 for batch size:4096 cross validation: 2\n",
            "loss: 267.9179992675781 for batch size:4096 cross validation: 2\n"
          ],
          "name": "stdout"
        },
        {
          "output_type": "stream",
          "text": [
            "\r 60%|██████    | 3/5 [11:46<07:50, 235.42s/it]"
          ],
          "name": "stderr"
        },
        {
          "output_type": "stream",
          "text": [
            "****************************************************************************************************\n",
            "loss: 321.6766357421875 for batch size:4096 cross validation: 2\n",
            "loss: 260.6460266113281 for batch size:4096 cross validation: 2\n",
            "loss: 263.60107421875 for batch size:4096 cross validation: 2\n",
            "loss: 255.35617065429688 for batch size:4096 cross validation: 2\n",
            "loss: 254.24679565429688 for batch size:4096 cross validation: 2\n",
            "loss: 255.1262969970703 for batch size:4096 cross validation: 2\n",
            "loss: 254.63194274902344 for batch size:4096 cross validation: 2\n",
            "loss: 252.11312866210938 for batch size:4096 cross validation: 2\n",
            "loss: 248.05616760253906 for batch size:4096 cross validation: 2\n",
            "loss: 248.97537231445312 for batch size:4096 cross validation: 2\n",
            "loss: 246.9200897216797 for batch size:4096 cross validation: 2\n"
          ],
          "name": "stdout"
        },
        {
          "output_type": "stream",
          "text": [
            "\r 80%|████████  | 4/5 [15:40<03:54, 234.97s/it]"
          ],
          "name": "stderr"
        },
        {
          "output_type": "stream",
          "text": [
            "****************************************************************************************************\n",
            "loss: 295.1912536621094 for batch size:4096 cross validation: 2\n",
            "loss: 246.72305297851562 for batch size:4096 cross validation: 2\n",
            "loss: 240.6804962158203 for batch size:4096 cross validation: 2\n",
            "loss: 244.63168334960938 for batch size:4096 cross validation: 2\n",
            "loss: 238.09632873535156 for batch size:4096 cross validation: 2\n",
            "loss: 238.68295288085938 for batch size:4096 cross validation: 2\n",
            "loss: 236.87939453125 for batch size:4096 cross validation: 2\n",
            "loss: 236.05592346191406 for batch size:4096 cross validation: 2\n",
            "loss: 238.1331024169922 for batch size:4096 cross validation: 2\n",
            "loss: 234.48818969726562 for batch size:4096 cross validation: 2\n",
            "loss: 236.972412109375 for batch size:4096 cross validation: 2\n"
          ],
          "name": "stdout"
        },
        {
          "output_type": "stream",
          "text": [
            "100%|██████████| 5/5 [19:34<00:00, 234.89s/it]\n"
          ],
          "name": "stderr"
        },
        {
          "output_type": "stream",
          "text": [
            "----------------------------------------------------------------------------------------------------\n",
            "Performance of Cross validation: 2 \n",
            "Accuracy: 0.9690730960450034\n",
            "              precision    recall  f1-score   support\n",
            "\n",
            "           0       0.99      0.99      0.99     27398\n",
            "           1       0.96      0.97      0.96     36723\n",
            "           2       0.96      0.96      0.96     55093\n",
            "           3       0.98      0.98      0.98     28901\n",
            "           4       0.93      0.87      0.90      2989\n",
            "           7       1.00      1.00      1.00     29686\n",
            "           8       0.95      0.94      0.95      6040\n",
            "           9       0.65      0.06      0.12       314\n",
            "          10       0.93      0.93      0.93     11181\n",
            "          11       0.99      0.99      0.99      9826\n",
            "          12       0.92      0.91      0.92     16736\n",
            "          13       0.99      1.00      1.00      7629\n",
            "\n",
            "    accuracy                           0.97    232516\n",
            "   macro avg       0.94      0.88      0.89    232516\n",
            "weighted avg       0.97      0.97      0.97    232516\n",
            "\n",
            "----------------------------------------------------------------------------------------------------\n"
          ],
          "name": "stdout"
        },
        {
          "output_type": "stream",
          "text": [
            "\r  0%|          | 0/5 [00:00<?, ?it/s]"
          ],
          "name": "stderr"
        },
        {
          "output_type": "stream",
          "text": [
            "****************************************************************************************************\n",
            "loss: 1060.49853515625 for batch size:4096 cross validation: 3\n",
            "loss: 817.948486328125 for batch size:4096 cross validation: 3\n",
            "loss: 864.66455078125 for batch size:4096 cross validation: 3\n",
            "loss: 659.0076293945312 for batch size:4096 cross validation: 3\n",
            "loss: 639.7431640625 for batch size:4096 cross validation: 3\n",
            "loss: 602.813720703125 for batch size:4096 cross validation: 3\n",
            "loss: 563.78857421875 for batch size:4096 cross validation: 3\n",
            "loss: 519.8065795898438 for batch size:4096 cross validation: 3\n",
            "loss: 487.2669372558594 for batch size:4096 cross validation: 3\n",
            "loss: 469.07830810546875 for batch size:4096 cross validation: 3\n",
            "loss: 457.84637451171875 for batch size:4096 cross validation: 3\n"
          ],
          "name": "stdout"
        },
        {
          "output_type": "stream",
          "text": [
            "\r 20%|██        | 1/5 [03:52<15:31, 232.97s/it]"
          ],
          "name": "stderr"
        },
        {
          "output_type": "stream",
          "text": [
            "****************************************************************************************************\n",
            "loss: 515.9690551757812 for batch size:4096 cross validation: 3\n",
            "loss: 410.500244140625 for batch size:4096 cross validation: 3\n",
            "loss: 398.55535888671875 for batch size:4096 cross validation: 3\n",
            "loss: 386.3537902832031 for batch size:4096 cross validation: 3\n",
            "loss: 375.8664855957031 for batch size:4096 cross validation: 3\n",
            "loss: 362.0844421386719 for batch size:4096 cross validation: 3\n",
            "loss: 356.7456970214844 for batch size:4096 cross validation: 3\n",
            "loss: 347.4501037597656 for batch size:4096 cross validation: 3\n",
            "loss: 335.17041015625 for batch size:4096 cross validation: 3\n",
            "loss: 326.5341491699219 for batch size:4096 cross validation: 3\n",
            "loss: 322.60284423828125 for batch size:4096 cross validation: 3\n"
          ],
          "name": "stdout"
        },
        {
          "output_type": "stream",
          "text": [
            "\r 40%|████      | 2/5 [07:45<11:38, 232.94s/it]"
          ],
          "name": "stderr"
        },
        {
          "output_type": "stream",
          "text": [
            "****************************************************************************************************\n",
            "loss: 379.24615478515625 for batch size:4096 cross validation: 3\n",
            "loss: 308.2839050292969 for batch size:4096 cross validation: 3\n",
            "loss: 304.4183044433594 for batch size:4096 cross validation: 3\n",
            "loss: 297.77972412109375 for batch size:4096 cross validation: 3\n",
            "loss: 294.33001708984375 for batch size:4096 cross validation: 3\n",
            "loss: 287.5395812988281 for batch size:4096 cross validation: 3\n",
            "loss: 281.65216064453125 for batch size:4096 cross validation: 3\n",
            "loss: 281.30072021484375 for batch size:4096 cross validation: 3\n",
            "loss: 275.8646545410156 for batch size:4096 cross validation: 3\n",
            "loss: 268.7291564941406 for batch size:4096 cross validation: 3\n",
            "loss: 269.06396484375 for batch size:4096 cross validation: 3\n"
          ],
          "name": "stdout"
        },
        {
          "output_type": "stream",
          "text": [
            "\r 60%|██████    | 3/5 [11:38<07:45, 232.79s/it]"
          ],
          "name": "stderr"
        },
        {
          "output_type": "stream",
          "text": [
            "****************************************************************************************************\n",
            "loss: 321.7615661621094 for batch size:4096 cross validation: 3\n",
            "loss: 264.4790344238281 for batch size:4096 cross validation: 3\n",
            "loss: 263.3395080566406 for batch size:4096 cross validation: 3\n",
            "loss: 254.34213256835938 for batch size:4096 cross validation: 3\n",
            "loss: 257.26904296875 for batch size:4096 cross validation: 3\n",
            "loss: 254.2268829345703 for batch size:4096 cross validation: 3\n",
            "loss: 253.35116577148438 for batch size:4096 cross validation: 3\n",
            "loss: 249.9674530029297 for batch size:4096 cross validation: 3\n",
            "loss: 246.6578369140625 for batch size:4096 cross validation: 3\n",
            "loss: 247.3333282470703 for batch size:4096 cross validation: 3\n",
            "loss: 248.0232391357422 for batch size:4096 cross validation: 3\n"
          ],
          "name": "stdout"
        },
        {
          "output_type": "stream",
          "text": [
            "\r 80%|████████  | 4/5 [15:30<03:52, 232.62s/it]"
          ],
          "name": "stderr"
        },
        {
          "output_type": "stream",
          "text": [
            "****************************************************************************************************\n",
            "loss: 297.0107727050781 for batch size:4096 cross validation: 3\n",
            "loss: 242.8356475830078 for batch size:4096 cross validation: 3\n",
            "loss: 244.7036895751953 for batch size:4096 cross validation: 3\n",
            "loss: 240.44349670410156 for batch size:4096 cross validation: 3\n",
            "loss: 240.918212890625 for batch size:4096 cross validation: 3\n",
            "loss: 240.68014526367188 for batch size:4096 cross validation: 3\n",
            "loss: 237.47181701660156 for batch size:4096 cross validation: 3\n",
            "loss: 237.6737060546875 for batch size:4096 cross validation: 3\n",
            "loss: 234.2213897705078 for batch size:4096 cross validation: 3\n",
            "loss: 233.58572387695312 for batch size:4096 cross validation: 3\n",
            "loss: 238.97911071777344 for batch size:4096 cross validation: 3\n"
          ],
          "name": "stdout"
        },
        {
          "output_type": "stream",
          "text": [
            "100%|██████████| 5/5 [19:22<00:00, 232.54s/it]\n"
          ],
          "name": "stderr"
        },
        {
          "output_type": "stream",
          "text": [
            "----------------------------------------------------------------------------------------------------\n",
            "Performance of Cross validation: 3 \n",
            "Accuracy: 0.9699120506094738\n",
            "              precision    recall  f1-score   support\n",
            "\n",
            "           0       0.99      1.00      0.99     27578\n",
            "           1       0.96      0.97      0.97     36625\n",
            "           2       0.96      0.96      0.96     55627\n",
            "           3       0.98      0.98      0.98     29032\n",
            "           4       0.94      0.90      0.92      3016\n",
            "           7       1.00      1.00      1.00     29633\n",
            "           8       0.95      0.94      0.94      5807\n",
            "           9       0.76      0.13      0.22       268\n",
            "          10       0.94      0.94      0.94     11220\n",
            "          11       0.99      0.99      0.99      9835\n",
            "          12       0.92      0.91      0.92     16976\n",
            "          13       0.99      1.00      0.99      7699\n",
            "\n",
            "    accuracy                           0.97    233316\n",
            "   macro avg       0.95      0.89      0.90    233316\n",
            "weighted avg       0.97      0.97      0.97    233316\n",
            "\n",
            "----------------------------------------------------------------------------------------------------\n"
          ],
          "name": "stdout"
        },
        {
          "output_type": "stream",
          "text": [
            "\r  0%|          | 0/5 [00:00<?, ?it/s]"
          ],
          "name": "stderr"
        },
        {
          "output_type": "stream",
          "text": [
            "****************************************************************************************************\n",
            "loss: 1056.369140625 for batch size:4096 cross validation: 4\n",
            "loss: 814.0780029296875 for batch size:4096 cross validation: 4\n",
            "loss: 835.1301879882812 for batch size:4096 cross validation: 4\n",
            "loss: 667.00341796875 for batch size:4096 cross validation: 4\n",
            "loss: 644.978759765625 for batch size:4096 cross validation: 4\n",
            "loss: 604.0875244140625 for batch size:4096 cross validation: 4\n",
            "loss: 561.8514404296875 for batch size:4096 cross validation: 4\n",
            "loss: 520.0667114257812 for batch size:4096 cross validation: 4\n",
            "loss: 483.980224609375 for batch size:4096 cross validation: 4\n",
            "loss: 469.57598876953125 for batch size:4096 cross validation: 4\n",
            "loss: 457.73309326171875 for batch size:4096 cross validation: 4\n"
          ],
          "name": "stdout"
        },
        {
          "output_type": "stream",
          "text": [
            "\r 20%|██        | 1/5 [03:53<15:33, 233.40s/it]"
          ],
          "name": "stderr"
        },
        {
          "output_type": "stream",
          "text": [
            "****************************************************************************************************\n",
            "loss: 516.5307006835938 for batch size:4096 cross validation: 4\n",
            "loss: 413.9569396972656 for batch size:4096 cross validation: 4\n",
            "loss: 403.0357360839844 for batch size:4096 cross validation: 4\n",
            "loss: 389.5980224609375 for batch size:4096 cross validation: 4\n",
            "loss: 379.90313720703125 for batch size:4096 cross validation: 4\n",
            "loss: 367.17388916015625 for batch size:4096 cross validation: 4\n",
            "loss: 359.69354248046875 for batch size:4096 cross validation: 4\n",
            "loss: 347.8941955566406 for batch size:4096 cross validation: 4\n",
            "loss: 337.06982421875 for batch size:4096 cross validation: 4\n",
            "loss: 327.933837890625 for batch size:4096 cross validation: 4\n",
            "loss: 324.4581298828125 for batch size:4096 cross validation: 4\n"
          ],
          "name": "stdout"
        },
        {
          "output_type": "stream",
          "text": [
            "\r 40%|████      | 2/5 [07:46<11:40, 233.36s/it]"
          ],
          "name": "stderr"
        },
        {
          "output_type": "stream",
          "text": [
            "****************************************************************************************************\n",
            "loss: 383.4788818359375 for batch size:4096 cross validation: 4\n",
            "loss: 310.0169982910156 for batch size:4096 cross validation: 4\n",
            "loss: 306.89202880859375 for batch size:4096 cross validation: 4\n",
            "loss: 295.7268371582031 for batch size:4096 cross validation: 4\n",
            "loss: 294.0121154785156 for batch size:4096 cross validation: 4\n",
            "loss: 286.8607482910156 for batch size:4096 cross validation: 4\n",
            "loss: 282.5375061035156 for batch size:4096 cross validation: 4\n",
            "loss: 279.516845703125 for batch size:4096 cross validation: 4\n",
            "loss: 271.9516296386719 for batch size:4096 cross validation: 4\n",
            "loss: 271.8009338378906 for batch size:4096 cross validation: 4\n",
            "loss: 269.1875305175781 for batch size:4096 cross validation: 4\n"
          ],
          "name": "stdout"
        },
        {
          "output_type": "stream",
          "text": [
            "\r 60%|██████    | 3/5 [11:39<07:46, 233.25s/it]"
          ],
          "name": "stderr"
        },
        {
          "output_type": "stream",
          "text": [
            "****************************************************************************************************\n",
            "loss: 318.6416931152344 for batch size:4096 cross validation: 4\n",
            "loss: 262.44073486328125 for batch size:4096 cross validation: 4\n",
            "loss: 262.33343505859375 for batch size:4096 cross validation: 4\n",
            "loss: 260.6071472167969 for batch size:4096 cross validation: 4\n",
            "loss: 259.8797912597656 for batch size:4096 cross validation: 4\n",
            "loss: 256.2468566894531 for batch size:4096 cross validation: 4\n",
            "loss: 252.16075134277344 for batch size:4096 cross validation: 4\n",
            "loss: 250.80731201171875 for batch size:4096 cross validation: 4\n",
            "loss: 246.61122131347656 for batch size:4096 cross validation: 4\n",
            "loss: 247.69412231445312 for batch size:4096 cross validation: 4\n",
            "loss: 247.6707305908203 for batch size:4096 cross validation: 4\n"
          ],
          "name": "stdout"
        },
        {
          "output_type": "stream",
          "text": [
            "\r 80%|████████  | 4/5 [15:32<03:53, 233.21s/it]"
          ],
          "name": "stderr"
        },
        {
          "output_type": "stream",
          "text": [
            "****************************************************************************************************\n",
            "loss: 297.18572998046875 for batch size:4096 cross validation: 4\n",
            "loss: 241.1496124267578 for batch size:4096 cross validation: 4\n",
            "loss: 243.867431640625 for batch size:4096 cross validation: 4\n",
            "loss: 244.0860137939453 for batch size:4096 cross validation: 4\n",
            "loss: 242.15151977539062 for batch size:4096 cross validation: 4\n",
            "loss: 241.66415405273438 for batch size:4096 cross validation: 4\n",
            "loss: 238.96368408203125 for batch size:4096 cross validation: 4\n",
            "loss: 241.5150604248047 for batch size:4096 cross validation: 4\n",
            "loss: 239.58767700195312 for batch size:4096 cross validation: 4\n",
            "loss: 237.05056762695312 for batch size:4096 cross validation: 4\n",
            "loss: 236.40615844726562 for batch size:4096 cross validation: 4\n"
          ],
          "name": "stdout"
        },
        {
          "output_type": "stream",
          "text": [
            "100%|██████████| 5/5 [19:25<00:00, 233.19s/it]\n"
          ],
          "name": "stderr"
        },
        {
          "output_type": "stream",
          "text": [
            "----------------------------------------------------------------------------------------------------\n",
            "Performance of Cross validation: 4 \n",
            "Accuracy: 0.9707529423946433\n",
            "              precision    recall  f1-score   support\n",
            "\n",
            "           0       0.99      1.00      0.99     27442\n",
            "           1       0.96      0.97      0.97     36531\n",
            "           2       0.96      0.97      0.96     54808\n",
            "           3       0.98      0.98      0.98     28931\n",
            "           4       0.93      0.90      0.91      2926\n",
            "           7       1.00      1.00      1.00     29320\n",
            "           8       0.95      0.94      0.95      6060\n",
            "           9       0.83      0.05      0.10       278\n",
            "          10       0.94      0.94      0.94     11388\n",
            "          11       1.00      0.98      0.99      9852\n",
            "          12       0.93      0.91      0.92     16543\n",
            "          13       0.99      1.00      1.00      7705\n",
            "\n",
            "    accuracy                           0.97    231784\n",
            "   macro avg       0.96      0.89      0.89    231784\n",
            "weighted avg       0.97      0.97      0.97    231784\n",
            "\n",
            "----------------------------------------------------------------------------------------------------\n"
          ],
          "name": "stdout"
        },
        {
          "output_type": "stream",
          "text": [
            "\r  0%|          | 0/5 [00:00<?, ?it/s]"
          ],
          "name": "stderr"
        },
        {
          "output_type": "stream",
          "text": [
            "****************************************************************************************************\n",
            "loss: 1054.90185546875 for batch size:4096 cross validation: 5\n",
            "loss: 815.7457275390625 for batch size:4096 cross validation: 5\n",
            "loss: 868.4090576171875 for batch size:4096 cross validation: 5\n",
            "loss: 671.815673828125 for batch size:4096 cross validation: 5\n",
            "loss: 648.587158203125 for batch size:4096 cross validation: 5\n",
            "loss: 610.6270751953125 for batch size:4096 cross validation: 5\n",
            "loss: 572.9385375976562 for batch size:4096 cross validation: 5\n",
            "loss: 527.600830078125 for batch size:4096 cross validation: 5\n",
            "loss: 494.9178466796875 for batch size:4096 cross validation: 5\n",
            "loss: 476.8087158203125 for batch size:4096 cross validation: 5\n",
            "loss: 459.5736999511719 for batch size:4096 cross validation: 5\n"
          ],
          "name": "stdout"
        },
        {
          "output_type": "stream",
          "text": [
            "\r 20%|██        | 1/5 [03:53<15:33, 233.36s/it]"
          ],
          "name": "stderr"
        },
        {
          "output_type": "stream",
          "text": [
            "****************************************************************************************************\n",
            "loss: 518.3275146484375 for batch size:4096 cross validation: 5\n",
            "loss: 414.55963134765625 for batch size:4096 cross validation: 5\n",
            "loss: 399.5611572265625 for batch size:4096 cross validation: 5\n",
            "loss: 387.8619384765625 for batch size:4096 cross validation: 5\n",
            "loss: 378.8478088378906 for batch size:4096 cross validation: 5\n",
            "loss: 365.8313903808594 for batch size:4096 cross validation: 5\n",
            "loss: 355.8680725097656 for batch size:4096 cross validation: 5\n",
            "loss: 350.3621520996094 for batch size:4096 cross validation: 5\n",
            "loss: 336.6341247558594 for batch size:4096 cross validation: 5\n",
            "loss: 332.97076416015625 for batch size:4096 cross validation: 5\n",
            "loss: 321.4257507324219 for batch size:4096 cross validation: 5\n"
          ],
          "name": "stdout"
        },
        {
          "output_type": "stream",
          "text": [
            "\r 40%|████      | 2/5 [07:46<11:40, 233.35s/it]"
          ],
          "name": "stderr"
        },
        {
          "output_type": "stream",
          "text": [
            "****************************************************************************************************\n",
            "loss: 375.59149169921875 for batch size:4096 cross validation: 5\n",
            "loss: 305.90252685546875 for batch size:4096 cross validation: 5\n",
            "loss: 304.2085266113281 for batch size:4096 cross validation: 5\n",
            "loss: 295.35369873046875 for batch size:4096 cross validation: 5\n",
            "loss: 293.478271484375 for batch size:4096 cross validation: 5\n",
            "loss: 288.564453125 for batch size:4096 cross validation: 5\n",
            "loss: 282.90875244140625 for batch size:4096 cross validation: 5\n",
            "loss: 280.3999938964844 for batch size:4096 cross validation: 5\n",
            "loss: 275.13580322265625 for batch size:4096 cross validation: 5\n",
            "loss: 272.7275695800781 for batch size:4096 cross validation: 5\n",
            "loss: 268.9154052734375 for batch size:4096 cross validation: 5\n"
          ],
          "name": "stdout"
        },
        {
          "output_type": "stream",
          "text": [
            "\r 60%|██████    | 3/5 [11:40<07:46, 233.36s/it]"
          ],
          "name": "stderr"
        },
        {
          "output_type": "stream",
          "text": [
            "****************************************************************************************************\n",
            "loss: 318.6728515625 for batch size:4096 cross validation: 5\n",
            "loss: 262.4929504394531 for batch size:4096 cross validation: 5\n",
            "loss: 261.023193359375 for batch size:4096 cross validation: 5\n",
            "loss: 258.22039794921875 for batch size:4096 cross validation: 5\n",
            "loss: 257.700439453125 for batch size:4096 cross validation: 5\n",
            "loss: 254.85594177246094 for batch size:4096 cross validation: 5\n",
            "loss: 252.1621856689453 for batch size:4096 cross validation: 5\n",
            "loss: 253.17674255371094 for batch size:4096 cross validation: 5\n",
            "loss: 250.59825134277344 for batch size:4096 cross validation: 5\n",
            "loss: 250.0381317138672 for batch size:4096 cross validation: 5\n",
            "loss: 246.3212890625 for batch size:4096 cross validation: 5\n"
          ],
          "name": "stdout"
        },
        {
          "output_type": "stream",
          "text": [
            "\r 80%|████████  | 4/5 [15:33<03:53, 233.33s/it]"
          ],
          "name": "stderr"
        },
        {
          "output_type": "stream",
          "text": [
            "****************************************************************************************************\n",
            "loss: 296.96832275390625 for batch size:4096 cross validation: 5\n",
            "loss: 244.0478973388672 for batch size:4096 cross validation: 5\n",
            "loss: 243.1766815185547 for batch size:4096 cross validation: 5\n",
            "loss: 242.20652770996094 for batch size:4096 cross validation: 5\n",
            "loss: 240.7967071533203 for batch size:4096 cross validation: 5\n",
            "loss: 240.91827392578125 for batch size:4096 cross validation: 5\n",
            "loss: 240.45896911621094 for batch size:4096 cross validation: 5\n",
            "loss: 239.26719665527344 for batch size:4096 cross validation: 5\n",
            "loss: 236.20860290527344 for batch size:4096 cross validation: 5\n",
            "loss: 237.5928497314453 for batch size:4096 cross validation: 5\n",
            "loss: 237.7895050048828 for batch size:4096 cross validation: 5\n"
          ],
          "name": "stdout"
        },
        {
          "output_type": "stream",
          "text": [
            "100%|██████████| 5/5 [19:26<00:00, 233.35s/it]\n"
          ],
          "name": "stderr"
        },
        {
          "output_type": "stream",
          "text": [
            "----------------------------------------------------------------------------------------------------\n",
            "Performance of Cross validation: 5 \n",
            "Accuracy: 0.9703400631650804\n",
            "              precision    recall  f1-score   support\n",
            "\n",
            "           0       0.99      0.99      0.99     27186\n",
            "           1       0.96      0.97      0.97     36580\n",
            "           2       0.96      0.96      0.96     55044\n",
            "           3       0.98      0.98      0.98     28751\n",
            "           4       0.93      0.89      0.91      2929\n",
            "           7       1.00      1.00      1.00     29569\n",
            "           8       0.95      0.95      0.95      5930\n",
            "           9       0.79      0.09      0.16       244\n",
            "          10       0.94      0.94      0.94     11226\n",
            "          11       0.99      0.99      0.99      9946\n",
            "          12       0.92      0.91      0.92     16589\n",
            "          13       0.99      1.00      1.00      7463\n",
            "\n",
            "    accuracy                           0.97    231457\n",
            "   macro avg       0.95      0.89      0.90    231457\n",
            "weighted avg       0.97      0.97      0.97    231457\n",
            "\n",
            "----------------------------------------------------------------------------------------------------\n"
          ],
          "name": "stdout"
        }
      ]
    },
    {
      "cell_type": "code",
      "metadata": {
        "id": "nwr5LRd5So6z",
        "colab_type": "code",
        "colab": {
          "base_uri": "https://localhost:8080/",
          "height": 1000
        },
        "outputId": "38a5bb6c-b12d-4010-8dff-469f36ef0d79"
      },
      "source": [
        "import seaborn as sns\n",
        "import matplotlib.pyplot as plt  \n",
        "\n",
        "cm = confusion_matrix(gold_all, pred_all, list(indextags.values()))\n",
        "print(cm)\n",
        "\n",
        "sns.set(rc={'figure.figsize':(11.7,8.27)})\n",
        "\n",
        "\n",
        "ax= plt.subplot()\n",
        "sns.heatmap(cm, annot=False, ax = ax,cmap=\"YlGnBu\")\n",
        "\n",
        "ax.set_xlabel('Predicted labels')\n",
        "ax.set_ylabel('True labels')\n",
        "ax.set_title('Confusion Matrix') \n",
        "ax.xaxis.set_ticklabels(list(indextags.keys()))\n",
        "ax.yaxis.set_ticklabels(list(indextags.keys()));\n"
      ],
      "execution_count": 21,
      "outputs": [
        {
          "output_type": "stream",
          "text": [
            "[[27037     2     4    71     0     0     0     0     0     0    16    44\n",
            "      0    12]\n",
            " [    1 35645   713    25    16     0     0     0     8     1    44     2\n",
            "    125     0]\n",
            " [   10  1033 52949     7   127     0     0     2    24     5   142     5\n",
            "    740     0]\n",
            " [   59    15    13 28298     1     0     0     3   225     0    91    19\n",
            "      3    24]\n",
            " [    0    75   164     4  2613     0     0     0     1     0    15     1\n",
            "     56     0]\n",
            " [    0     0     0     0     0     0     0     0     0     0     0     0\n",
            "      0     0]\n",
            " [    0     0     0     0     0     0     0     0     0     0     0     0\n",
            "      0     0]\n",
            " [    0     0     0     0     0     0     0 29569     0     0     0     0\n",
            "      0     0]\n",
            " [    0     8    28   220     0     0     0     0  5642     0    25     0\n",
            "      7     0]\n",
            " [    2    26   128     6    13     0     0     3     6    22    12     1\n",
            "     25     0]\n",
            " [   28    70   133   157     3     0     0     0    51     0 10501     1\n",
            "    267    15]\n",
            " [   80     2     7    38     0     0     0     0     0     0     0  9818\n",
            "      1     0]\n",
            " [    2   297   830    20    29     0     0     0     6     0   349     0\n",
            "  15056     0]\n",
            " [    2     0     0     0     0     0     0     0     0     0    19     0\n",
            "      0  7442]]\n"
          ],
          "name": "stdout"
        },
        {
          "output_type": "display_data",
          "data": {
            "image/png": "[encoded data removed]",
            "text/plain": [
              "<Figure size 842.4x595.44 with 2 Axes>"
            ]
          },
          "metadata": {
            "tags": []
          }
        }
      ]
    }
  ]
}